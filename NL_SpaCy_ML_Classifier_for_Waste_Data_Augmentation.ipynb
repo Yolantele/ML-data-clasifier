{
  "nbformat": 4,
  "nbformat_minor": 0,
  "metadata": {
    "colab": {
      "name": "NL_SpaCy_ML_Classifier_for_Waste_Data_Augmentation.ipynb",
      "provenance": [],
      "collapsed_sections": [
        "A_nJbg_AabzL",
        "1kRKYNjnahwE"
      ],
      "toc_visible": true,
      "authorship_tag": "ABX9TyNtZ3PG3TzXOtFCOlDgtu3C",
      "include_colab_link": true
    },
    "kernelspec": {
      "name": "python3",
      "display_name": "Python 3"
    }
  },
  "cells": [
    {
      "cell_type": "markdown",
      "metadata": {
        "id": "view-in-github",
        "colab_type": "text"
      },
      "source": [
        "<a href=\"https://colab.research.google.com/github/Yolantele/ML-data-clasifier/blob/master/NL_SpaCy_ML_Classifier_for_Waste_Data_Augmentation.ipynb\" target=\"_parent\"><img src=\"https://colab.research.google.com/assets/colab-badge.svg\" alt=\"Open In Colab\"/></a>"
      ]
    },
    {
      "cell_type": "markdown",
      "metadata": {
        "id": "d3PcxBlkrRON",
        "colab_type": "text"
      },
      "source": [
        "# **Dutch Waste Data Classification and Augmentation** \n",
        "\n",
        "Performs text analysis operations with spaCy and  builds machine learning model with scikit-learn\n",
        "\n",
        "\n",
        "scikit-learn :\n",
        "https://scikit-learn.org/stable/\n",
        "\n",
        "spaCy Language Models:\n",
        "https://spacy.io/usage/models\n",
        "\n",
        "scikit-learn + Spacy : \n",
        "https://www.dataquest.io/blog/tutorial-text-classification-in-python-using-spacy/\n",
        "\n",
        "Eural Code reference: \n",
        "https://eur-lex.europa.eu/legal-content/EN/TXT/?uri=CELEX:02000D0532-20150601\n"
      ]
    },
    {
      "cell_type": "code",
      "metadata": {
        "id": "P0MIMTSkPAN6",
        "colab_type": "code",
        "colab": {}
      },
      "source": [
        "%reload_ext autoreload\n",
        "%autoreload 2\n",
        "%matplotlib inline"
      ],
      "execution_count": null,
      "outputs": []
    },
    {
      "cell_type": "code",
      "metadata": {
        "id": "GchVo49oPHvN",
        "colab_type": "code",
        "colab": {}
      },
      "source": [
        "# mount data from drive\n",
        "from google.colab import drive\n",
        "drive.mount('/content/drive')"
      ],
      "execution_count": null,
      "outputs": []
    },
    {
      "cell_type": "code",
      "metadata": {
        "id": "HTRIFjFaPbf0",
        "colab_type": "code",
        "colab": {}
      },
      "source": [
        "!pip install -U spacy\n",
        "!pip install pandas\n",
        "!python -m spacy download nl_core_news_md"
      ],
      "execution_count": null,
      "outputs": []
    },
    {
      "cell_type": "markdown",
      "metadata": {
        "id": "se5WawQnZ-p_",
        "colab_type": "text"
      },
      "source": [
        "## **Loading Languages model and Data Frames**"
      ]
    },
    {
      "cell_type": "code",
      "metadata": {
        "id": "UxLC2X13Qw7W",
        "colab_type": "code",
        "colab": {}
      },
      "source": [
        "import spacy\n",
        "import pandas as pd\n",
        "from spacy.lang.nl import Dutch\n",
        "import nl_core_news_md\n",
        "spacy.prefer_gpu()\n",
        "\n",
        "nlp = nl_core_news_md.load #medium size lang model (smae results as large size lanf model)"
      ],
      "execution_count": 5,
      "outputs": []
    },
    {
      "cell_type": "code",
      "metadata": {
        "id": "L324D-Gql23q",
        "colab_type": "code",
        "colab": {
          "base_uri": "https://localhost:8080/",
          "height": 887
        },
        "outputId": "8c850899-aa5f-408a-df8c-0e133a382f3c"
      },
      "source": [
        "path = '/content/drive/My Drive/data/'\n",
        "\n",
        "# train data frames:\n",
        "materials = pd.read_csv(path + '/nlMaterialData.csv')\n",
        "\n",
        "\n",
        "# test data frames:\n",
        "materials_test = pd.read_csv(path + '/nlWithoutMaterialData.csv')\n",
        "\n",
        "# set data frame: \n",
        "df = materials\n",
        "\n",
        "\n",
        "df.shape\n",
        "df.info()\n",
        "df.head()\n"
      ],
      "execution_count": 8,
      "outputs": [
        {
          "output_type": "stream",
          "text": [
            "<class 'pandas.core.frame.DataFrame'>\n",
            "RangeIndex: 3700 entries, 0 to 3699\n",
            "Data columns (total 24 columns):\n",
            " #   Column            Non-Null Count  Dtype  \n",
            "---  ------            --------------  -----  \n",
            " 0   reason            21 non-null     object \n",
            " 1   origin            50 non-null     object \n",
            " 2   color             52 non-null     object \n",
            " 3   state             722 non-null    object \n",
            " 4   size              74 non-null     object \n",
            " 5   consistency       3551 non-null   object \n",
            " 6   otherCode         576 non-null    object \n",
            " 7   material4         27 non-null     object \n",
            " 8   material3         489 non-null    object \n",
            " 9   material2         984 non-null    object \n",
            " 10  material          3700 non-null   object \n",
            " 11  mType             887 non-null    object \n",
            " 12  composite2        21 non-null     object \n",
            " 13  composite1        1374 non-null   object \n",
            " 14  cType             247 non-null    object \n",
            " 15  indirectProduct   2723 non-null   object \n",
            " 16  directProduct     648 non-null    object \n",
            " 17  pType             42 non-null     object \n",
            " 18  mixedOrPure       3286 non-null   object \n",
            " 19  cleanOrDirty      828 non-null    object \n",
            " 20  euralDescription  3465 non-null   object \n",
            " 21  euralCode         3700 non-null   int64  \n",
            " 22  description       3700 non-null   object \n",
            " 23  /0                0 non-null      float64\n",
            "dtypes: float64(1), int64(1), object(22)\n",
            "memory usage: 693.9+ KB\n"
          ],
          "name": "stdout"
        },
        {
          "output_type": "execute_result",
          "data": {
            "text/html": [
              "<div>\n",
              "<style scoped>\n",
              "    .dataframe tbody tr th:only-of-type {\n",
              "        vertical-align: middle;\n",
              "    }\n",
              "\n",
              "    .dataframe tbody tr th {\n",
              "        vertical-align: top;\n",
              "    }\n",
              "\n",
              "    .dataframe thead th {\n",
              "        text-align: right;\n",
              "    }\n",
              "</style>\n",
              "<table border=\"1\" class=\"dataframe\">\n",
              "  <thead>\n",
              "    <tr style=\"text-align: right;\">\n",
              "      <th></th>\n",
              "      <th>reason</th>\n",
              "      <th>origin</th>\n",
              "      <th>color</th>\n",
              "      <th>state</th>\n",
              "      <th>size</th>\n",
              "      <th>consistency</th>\n",
              "      <th>otherCode</th>\n",
              "      <th>material4</th>\n",
              "      <th>material3</th>\n",
              "      <th>material2</th>\n",
              "      <th>material</th>\n",
              "      <th>mType</th>\n",
              "      <th>composite2</th>\n",
              "      <th>composite1</th>\n",
              "      <th>cType</th>\n",
              "      <th>indirectProduct</th>\n",
              "      <th>directProduct</th>\n",
              "      <th>pType</th>\n",
              "      <th>mixedOrPure</th>\n",
              "      <th>cleanOrDirty</th>\n",
              "      <th>euralDescription</th>\n",
              "      <th>euralCode</th>\n",
              "      <th>description</th>\n",
              "      <th>/0</th>\n",
              "    </tr>\n",
              "  </thead>\n",
              "  <tbody>\n",
              "    <tr>\n",
              "      <th>0</th>\n",
              "      <td>afgekeurd</td>\n",
              "      <td>NaN</td>\n",
              "      <td>NaN</td>\n",
              "      <td>NaN</td>\n",
              "      <td>NaN</td>\n",
              "      <td>vast</td>\n",
              "      <td>NaN</td>\n",
              "      <td>NaN</td>\n",
              "      <td>NaN</td>\n",
              "      <td>NaN</td>\n",
              "      <td>organisch materiaal</td>\n",
              "      <td>NaN</td>\n",
              "      <td>NaN</td>\n",
              "      <td>GFT</td>\n",
              "      <td>NaN</td>\n",
              "      <td>GFT</td>\n",
              "      <td>NaN</td>\n",
              "      <td>NaN</td>\n",
              "      <td>gemengd</td>\n",
              "      <td>NaN</td>\n",
              "      <td>afval van dierlijke weefsels</td>\n",
              "      <td>20102</td>\n",
              "      <td>GFT Afgekeurd</td>\n",
              "      <td>NaN</td>\n",
              "    </tr>\n",
              "    <tr>\n",
              "      <th>1</th>\n",
              "      <td>NaN</td>\n",
              "      <td>NaN</td>\n",
              "      <td>NaN</td>\n",
              "      <td>NaN</td>\n",
              "      <td>NaN</td>\n",
              "      <td>vast</td>\n",
              "      <td>categorie 3</td>\n",
              "      <td>NaN</td>\n",
              "      <td>NaN</td>\n",
              "      <td>NaN</td>\n",
              "      <td>organisch materiaal</td>\n",
              "      <td>NaN</td>\n",
              "      <td>NaN</td>\n",
              "      <td>GFT</td>\n",
              "      <td>NaN</td>\n",
              "      <td>GFT</td>\n",
              "      <td>NaN</td>\n",
              "      <td>NaN</td>\n",
              "      <td>puur</td>\n",
              "      <td>NaN</td>\n",
              "      <td>afval van dierlijke weefsels</td>\n",
              "      <td>20102</td>\n",
              "      <td>GFT Categorie 3</td>\n",
              "      <td>NaN</td>\n",
              "    </tr>\n",
              "    <tr>\n",
              "      <th>2</th>\n",
              "      <td>NaN</td>\n",
              "      <td>NaN</td>\n",
              "      <td>NaN</td>\n",
              "      <td>NaN</td>\n",
              "      <td>NaN</td>\n",
              "      <td>vast</td>\n",
              "      <td>200</td>\n",
              "      <td>NaN</td>\n",
              "      <td>NaN</td>\n",
              "      <td>NaN</td>\n",
              "      <td>hout</td>\n",
              "      <td>stobben</td>\n",
              "      <td>NaN</td>\n",
              "      <td>NaN</td>\n",
              "      <td>NaN</td>\n",
              "      <td>hout</td>\n",
              "      <td>NaN</td>\n",
              "      <td>NaN</td>\n",
              "      <td>puur</td>\n",
              "      <td>NaN</td>\n",
              "      <td>afval van plantaardige weefsels</td>\n",
              "      <td>20103</td>\n",
              "      <td>200 Boomstobben</td>\n",
              "      <td>NaN</td>\n",
              "    </tr>\n",
              "    <tr>\n",
              "      <th>3</th>\n",
              "      <td>NaN</td>\n",
              "      <td>NaN</td>\n",
              "      <td>NaN</td>\n",
              "      <td>NaN</td>\n",
              "      <td>NaN</td>\n",
              "      <td>vast</td>\n",
              "      <td>NaN</td>\n",
              "      <td>NaN</td>\n",
              "      <td>NaN</td>\n",
              "      <td>NaN</td>\n",
              "      <td>gras</td>\n",
              "      <td>bermgras</td>\n",
              "      <td>NaN</td>\n",
              "      <td>NaN</td>\n",
              "      <td>NaN</td>\n",
              "      <td>gras</td>\n",
              "      <td>NaN</td>\n",
              "      <td>NaN</td>\n",
              "      <td>puur</td>\n",
              "      <td>NaN</td>\n",
              "      <td>afval van plantaardige weefsels</td>\n",
              "      <td>20103</td>\n",
              "      <td>BERMGRAS</td>\n",
              "      <td>NaN</td>\n",
              "    </tr>\n",
              "    <tr>\n",
              "      <th>4</th>\n",
              "      <td>NaN</td>\n",
              "      <td>NaN</td>\n",
              "      <td>NaN</td>\n",
              "      <td>NaN</td>\n",
              "      <td>NaN</td>\n",
              "      <td>vast</td>\n",
              "      <td>NaN</td>\n",
              "      <td>NaN</td>\n",
              "      <td>NaN</td>\n",
              "      <td>NaN</td>\n",
              "      <td>organisch materiaal</td>\n",
              "      <td>blauwmaanzaad</td>\n",
              "      <td>NaN</td>\n",
              "      <td>NaN</td>\n",
              "      <td>NaN</td>\n",
              "      <td>organisch materiaal</td>\n",
              "      <td>NaN</td>\n",
              "      <td>NaN</td>\n",
              "      <td>puur</td>\n",
              "      <td>NaN</td>\n",
              "      <td>afval van plantaardige weefsels</td>\n",
              "      <td>20103</td>\n",
              "      <td>BLAUWMAANZAAD TER VERNIETIGING</td>\n",
              "      <td>NaN</td>\n",
              "    </tr>\n",
              "  </tbody>\n",
              "</table>\n",
              "</div>"
            ],
            "text/plain": [
              "      reason origin color  ... euralCode                     description  /0\n",
              "0  afgekeurd    NaN   NaN  ...     20102                   GFT Afgekeurd NaN\n",
              "1        NaN    NaN   NaN  ...     20102                 GFT Categorie 3 NaN\n",
              "2        NaN    NaN   NaN  ...     20103                 200 Boomstobben NaN\n",
              "3        NaN    NaN   NaN  ...     20103                        BERMGRAS NaN\n",
              "4        NaN    NaN   NaN  ...     20103  BLAUWMAANZAAD TER VERNIETIGING NaN\n",
              "\n",
              "[5 rows x 24 columns]"
            ]
          },
          "metadata": {
            "tags": []
          },
          "execution_count": 8
        }
      ]
    },
    {
      "cell_type": "markdown",
      "metadata": {
        "id": "YPOLLyVRzcQ9",
        "colab_type": "text"
      },
      "source": [
        "## **Tokening the Data With spaCy**\n",
        "\n",
        "creating a custom tokenizer function using spaCy to automatically strip unnecesarry information like stopwords and punctuation"
      ]
    },
    {
      "cell_type": "code",
      "metadata": {
        "id": "RDWKUU8RvJz9",
        "colab_type": "code",
        "colab": {}
      },
      "source": [
        "from spacy.lang.nl.stop_words import STOP_WORDS\n",
        "\n",
        "\n",
        "parser = Dutch()\n",
        "punctuations = '''!()-[]{};:'\"\\,<>./?@#$%^&*_~'''\n",
        "stopwords = STOP_WORDS\n",
        "# stopwords = [] # in some cases stopwords help (increase accuracy by 1%)\n",
        "\n",
        "def spacy_tokenize(sentence):\n",
        "    # Creating our token object, which is used to create documents with linguistic annotations.\n",
        "    sentence = sentence.strip().lower()\n",
        "    mytokens = parser(sentence)\n",
        "\n",
        "    # Lemmatizing each token and converting each token into lowercase\n",
        "    mytokens = [ word.lemma_.lower().strip() if word.lemma_ != \"-PRON-\" else word.lower_ for word in mytokens  ]\n",
        "\n",
        "    # Removing stop words\n",
        "    mytokens = [ word for word in mytokens if word not in punctuations and word not in stopwords]\n",
        "\n",
        "    # return preprocessed list of tokens\n",
        "    return mytokens\n"
      ],
      "execution_count": 11,
      "outputs": []
    },
    {
      "cell_type": "markdown",
      "metadata": {
        "id": "bj7q5mGz0V6Q",
        "colab_type": "text"
      },
      "source": [
        "###**Vectorization Feature Engineering, TF-IDF, Bag of Words and N-grams**\n",
        "\n",
        "Classifying text we end up with text snippets with their respective labels. But in machine learning model we need to convert into numeric representation (vector coordinates)\n",
        "\n",
        "- **TF-IDF -Term Frequency-Inverse Document Frequency**- simply a way of normalizing our Bag of Words(BoW) by looking at each word’s frequency in comparison to the document frequency.\n",
        "\n",
        "- **N-grams** - combinations of adjacent words in a given text. For example \"who will win\"\n",
        " 1. when n = 1, becomes \"who\", \"will\", \"win\",\n",
        " 2. when n = 2 , becomes \"who will\", \"will win\" etc. "
      ]
    },
    {
      "cell_type": "code",
      "metadata": {
        "id": "e8vNowrk0WUW",
        "colab_type": "code",
        "colab": {
          "base_uri": "https://localhost:8080/",
          "height": 272
        },
        "outputId": "7c1776a7-b381-4acf-b329-4e35e795efb5"
      },
      "source": [
        "from sklearn.feature_extraction.text import CountVectorizer,TfidfVectorizer\n",
        "from sklearn.base import TransformerMixin\n",
        "\n",
        "bow_vector = CountVectorizer(tokenizer=spacy_tokenize, ngram_range=(1,1))\n",
        "\n",
        "tfidf_vector = TfidfVectorizer(tokenizer=spacy_tokenize)\n",
        "\n",
        "print(bow_vector)\n",
        "print(tfidf_vector)"
      ],
      "execution_count": 12,
      "outputs": [
        {
          "output_type": "stream",
          "text": [
            "CountVectorizer(analyzer='word', binary=False, decode_error='strict',\n",
            "                dtype=<class 'numpy.int64'>, encoding='utf-8', input='content',\n",
            "                lowercase=True, max_df=1.0, max_features=None, min_df=1,\n",
            "                ngram_range=(1, 1), preprocessor=None, stop_words=None,\n",
            "                strip_accents=None, token_pattern='(?u)\\\\b\\\\w\\\\w+\\\\b',\n",
            "                tokenizer=<function spacy_tokenize at 0x7f977ae737b8>,\n",
            "                vocabulary=None)\n",
            "TfidfVectorizer(analyzer='word', binary=False, decode_error='strict',\n",
            "                dtype=<class 'numpy.float64'>, encoding='utf-8',\n",
            "                input='content', lowercase=True, max_df=1.0, max_features=None,\n",
            "                min_df=1, ngram_range=(1, 1), norm='l2', preprocessor=None,\n",
            "                smooth_idf=True, stop_words=None, strip_accents=None,\n",
            "                sublinear_tf=False, token_pattern='(?u)\\\\b\\\\w\\\\w+\\\\b',\n",
            "                tokenizer=<function spacy_tokenize at 0x7f977ae737b8>,\n",
            "                use_idf=True, vocabulary=None)\n"
          ],
          "name": "stdout"
        }
      ]
    },
    {
      "cell_type": "markdown",
      "metadata": {
        "id": "DYHmZbUqv_3i",
        "colab_type": "text"
      },
      "source": [
        "## **Splitting The Data into Training and Validation Sets**\n"
      ]
    },
    {
      "cell_type": "markdown",
      "metadata": {
        "id": "A_nJbg_AabzL",
        "colab_type": "text"
      },
      "source": [
        "### material classiciation"
      ]
    },
    {
      "cell_type": "code",
      "metadata": {
        "id": "5d4AVLzEv_Cb",
        "colab_type": "code",
        "colab": {
          "base_uri": "https://localhost:8080/",
          "height": 221
        },
        "outputId": "6fe9ee8c-cf81-45c8-e27d-684bed670b7c"
      },
      "source": [
        "from sklearn.model_selection import train_test_split\n",
        "\n",
        "\n",
        "X = df['description'] # the features we want to analyze\n",
        "ylabels = df['material'] # the labels, or answers, we want to test against\n",
        "\n",
        "X_train, X_test, y_train, y_test = train_test_split(X, ylabels, test_size=0.3)\n",
        "\n",
        "print(X)"
      ],
      "execution_count": 66,
      "outputs": [
        {
          "output_type": "stream",
          "text": [
            "0                                   GFT Afgekeurd\n",
            "1                                 GFT Categorie 3\n",
            "2                                 200 Boomstobben\n",
            "3                                        BERMGRAS\n",
            "4                  BLAUWMAANZAAD TER VERNIETIGING\n",
            "                          ...                    \n",
            "3692                                   groenafval\n",
            "3694                              plantaardig vet\n",
            "3695                                  fruitresten\n",
            "3697    consumptie ongeschikt mat. (palmvetzuren)\n",
            "3698                                      zetmeel\n",
            "Name: description, Length: 3286, dtype: object\n"
          ],
          "name": "stdout"
        }
      ]
    },
    {
      "cell_type": "markdown",
      "metadata": {
        "id": "1kRKYNjnahwE",
        "colab_type": "text"
      },
      "source": [
        "### mixed or pure classification"
      ]
    },
    {
      "cell_type": "code",
      "metadata": {
        "id": "48JEgVVGamer",
        "colab_type": "code",
        "colab": {
          "base_uri": "https://localhost:8080/",
          "height": 221
        },
        "outputId": "332333d9-aec9-481a-c361-35857917f98a"
      },
      "source": [
        "from sklearn.model_selection import train_test_split\n",
        "\n",
        "\n",
        "df = df[df['mixedOrPure'].notna()]\n",
        "\n",
        "X = df['description'] # the features we want to analyze\n",
        "ylabels = df['mixedOrPure'] # the labels, or answers, we want to test against\n",
        "\n",
        "X_train, X_test, y_train, y_test = train_test_split(X, ylabels, test_size=0.3)\n",
        "\n",
        "print(X)"
      ],
      "execution_count": 17,
      "outputs": [
        {
          "output_type": "stream",
          "text": [
            "0                                   GFT Afgekeurd\n",
            "1                                 GFT Categorie 3\n",
            "2                                 200 Boomstobben\n",
            "3                                        BERMGRAS\n",
            "4                  BLAUWMAANZAAD TER VERNIETIGING\n",
            "                          ...                    \n",
            "3692                                   groenafval\n",
            "3694                              plantaardig vet\n",
            "3695                                  fruitresten\n",
            "3697    consumptie ongeschikt mat. (palmvetzuren)\n",
            "3698                                      zetmeel\n",
            "Name: description, Length: 3286, dtype: object\n"
          ],
          "name": "stdout"
        }
      ]
    },
    {
      "cell_type": "markdown",
      "metadata": {
        "id": "0WRlhwvUacc9",
        "colab_type": "text"
      },
      "source": [
        "### consistency classification"
      ]
    },
    {
      "cell_type": "code",
      "metadata": {
        "id": "aGzzKaqYahCl",
        "colab_type": "code",
        "colab": {
          "base_uri": "https://localhost:8080/",
          "height": 221
        },
        "outputId": "b97ed292-d5f4-4b3e-ba9c-55d10a4b82b9"
      },
      "source": [
        "from sklearn.model_selection import train_test_split\n",
        "\n",
        "\n",
        "df = df[df['consistency'].notna()]\n",
        "\n",
        "X = df['description'] # the features we want to analyze\n",
        "ylabels = df['consistency'] # the labels, or answers, we want to test against\n",
        "\n",
        "X_train, X_test, y_train, y_test = train_test_split(X, ylabels, test_size=0.3)\n",
        "\n",
        "print(X)"
      ],
      "execution_count": 21,
      "outputs": [
        {
          "output_type": "stream",
          "text": [
            "0                                           GFT Afgekeurd\n",
            "1                                         GFT Categorie 3\n",
            "2                                         200 Boomstobben\n",
            "3                                                BERMGRAS\n",
            "4                          BLAUWMAANZAAD TER VERNIETIGING\n",
            "                              ...                        \n",
            "3691    geslagen aluminium, oude en nieuwe aluminium p...\n",
            "3692                                           groenafval\n",
            "3694                                      plantaardig vet\n",
            "3697            consumptie ongeschikt mat. (palmvetzuren)\n",
            "3698                                              zetmeel\n",
            "Name: description, Length: 3215, dtype: object\n"
          ],
          "name": "stdout"
        }
      ]
    },
    {
      "cell_type": "markdown",
      "metadata": {
        "id": "Cs546SLByRfT",
        "colab_type": "text"
      },
      "source": [
        "## **Creating a Pipeline and Generating the Model**\n",
        "\n",
        "###we’ll create a pipeline with three components: a **cleaner, a vectorizer, and a classifier**. \n",
        "\n",
        "- The cleaner uses our predictors class object to clean and preprocess the text. \n",
        "\n",
        "- The vectorizer uses countvector objects to create the bag of words matrix for our text. \n",
        "\n",
        "- The classifier is an object that performs the logistic regression to classify the sentiments."
      ]
    },
    {
      "cell_type": "code",
      "metadata": {
        "id": "dAiqgGLrOiwU",
        "colab_type": "code",
        "colab": {}
      },
      "source": [
        "# Custom transformer using spaCy\n",
        "class predictors(TransformerMixin):\n",
        "    def transform(self, X, **transform_params):\n",
        "        # Cleaning Text\n",
        "        return [clean_text(text) for text in X]\n",
        "\n",
        "    def fit(self, X, y=None, **fit_params):\n",
        "        return self\n",
        "\n",
        "    def get_params(self, deep=True):\n",
        "        return {}\n",
        "\n",
        "\n",
        "def clean_text(text):\n",
        "    # Removing spaces and converting text into lowercase\n",
        "    return text.strip().lower()"
      ],
      "execution_count": 22,
      "outputs": []
    },
    {
      "cell_type": "code",
      "metadata": {
        "id": "n0iorejbyVs6",
        "colab_type": "code",
        "colab": {
          "base_uri": "https://localhost:8080/",
          "height": 391
        },
        "outputId": "566afcf7-d559-4cdd-dc35-6c013b3ede58"
      },
      "source": [
        "from sklearn.linear_model import LogisticRegression\n",
        "from sklearn.pipeline import Pipeline\n",
        "\n",
        "# Creating Logistic Regression Classifier\n",
        "classifier = LogisticRegression()\n",
        "\n",
        "# Create pipeline using Bag of Words (BoW)\n",
        "model = Pipeline([(\"cleaner\", predictors()),\n",
        "                 ('vectorizer', bow_vector),\n",
        "                 ('classifier', classifier)])\n",
        "\n",
        "# model generation\n",
        "model.fit(X_train,y_train)"
      ],
      "execution_count": 23,
      "outputs": [
        {
          "output_type": "execute_result",
          "data": {
            "text/plain": [
              "Pipeline(memory=None,\n",
              "         steps=[('cleaner', <__main__.predictors object at 0x7f9779a91a58>),\n",
              "                ('vectorizer',\n",
              "                 CountVectorizer(analyzer='word', binary=False,\n",
              "                                 decode_error='strict',\n",
              "                                 dtype=<class 'numpy.int64'>, encoding='utf-8',\n",
              "                                 input='content', lowercase=True, max_df=1.0,\n",
              "                                 max_features=None, min_df=1,\n",
              "                                 ngram_range=(1, 1), preprocessor=None,\n",
              "                                 stop_words=None, strip_accents=None,\n",
              "                                 t...\\\\b\\\\w\\\\w+\\\\b',\n",
              "                                 tokenizer=<function spacy_tokenize at 0x7f977ae737b8>,\n",
              "                                 vocabulary=None)),\n",
              "                ('classifier',\n",
              "                 LogisticRegression(C=1.0, class_weight=None, dual=False,\n",
              "                                    fit_intercept=True, intercept_scaling=1,\n",
              "                                    l1_ratio=None, max_iter=100,\n",
              "                                    multi_class='auto', n_jobs=None,\n",
              "                                    penalty='l2', random_state=None,\n",
              "                                    solver='lbfgs', tol=0.0001, verbose=0,\n",
              "                                    warm_start=False))],\n",
              "         verbose=False)"
            ]
          },
          "metadata": {
            "tags": []
          },
          "execution_count": 23
        }
      ]
    },
    {
      "cell_type": "markdown",
      "metadata": {
        "id": "y09ArjcybW_m",
        "colab_type": "text"
      },
      "source": [
        "### Save the Trained Model"
      ]
    },
    {
      "cell_type": "code",
      "metadata": {
        "id": "3If8bcW4__7g",
        "colab_type": "code",
        "colab": {
          "base_uri": "https://localhost:8080/",
          "height": 34
        },
        "outputId": "18847dd0-e96b-4e96-c91f-85ce3a297271"
      },
      "source": [
        "import pickle\n",
        "# save the model to disk\n",
        "filename = path + 'nl_mixed_or_pure_classification_model.sav'\n",
        "pickle.dump(model, open(filename, 'wb'))\n",
        " \n",
        "loaded_model = pickle.load(open(filename, 'rb'))\n",
        "result = loaded_model.score(X_test, y_test)\n",
        "\n",
        "print('loaded model score---', result)"
      ],
      "execution_count": 70,
      "outputs": [
        {
          "output_type": "stream",
          "text": [
            "loaded model score--- 0.7860040567951319\n"
          ],
          "name": "stdout"
        }
      ]
    },
    {
      "cell_type": "markdown",
      "metadata": {
        "id": "Jf24RclNTpUE",
        "colab_type": "text"
      },
      "source": [
        "### **Model Predictions - Classifications**"
      ]
    },
    {
      "cell_type": "code",
      "metadata": {
        "id": "rzuGqju6zSjW",
        "colab_type": "code",
        "colab": {
          "base_uri": "https://localhost:8080/",
          "height": 136
        },
        "outputId": "fab504f1-8eb8-49d7-b50c-0263023ac98f"
      },
      "source": [
        "from sklearn import metrics\n",
        "\n",
        "row = 4\n",
        "\n",
        "# Predicting for a test dataset\n",
        "predicted = model.predict(X_test)\n",
        "print('Using validation set:')\n",
        "\n",
        "print('material description was ----> ', X_test.iloc[row])\n",
        "print('material predicted is ----->', predicted[row])\n",
        "\n",
        "\n",
        "# predict using unclassified set\n",
        "pred = model.predict(materials_test)\n",
        "print('')\n",
        "print('Using test set (unclassified):')\n",
        "print('material description was ----> ', materials_test.iloc[row].description)\n",
        "print('material predicted is ----->', pred[row])\n"
      ],
      "execution_count": 25,
      "outputs": [
        {
          "output_type": "stream",
          "text": [
            "Using validation set:\n",
            "material description was ---->  Teerhoudend asfaltgranulaat GA\n",
            "material predicted is -----> vast\n",
            "\n",
            "Using test set (unclassified):\n",
            "material description was ---->  AFVAL VAN DE BOSBOUW\n",
            "material predicted is -----> vast\n"
          ],
          "name": "stdout"
        }
      ]
    },
    {
      "cell_type": "markdown",
      "metadata": {
        "id": "Cey26VlblQIA",
        "colab_type": "text"
      },
      "source": [
        "### **Model Accuracy Reports**\n",
        "\n",
        "**Accuracy** refers to the percentage of the total predictions our model makes that are completely correct.\n",
        "\n",
        "**Precision** describes the ratio of true positives to true positives plus false positives in our predictions.\n",
        "\n",
        "**Recall** describes the ratio of true positives to true positives plus false negatives in our predictions.\n"
      ]
    },
    {
      "cell_type": "code",
      "metadata": {
        "id": "3DkzvWsQ0fTf",
        "colab_type": "code",
        "colab": {
          "base_uri": "https://localhost:8080/",
          "height": 326
        },
        "outputId": "7a2f01d4-4954-49d2-82c0-a4a35b2b1055"
      },
      "source": [
        "\n",
        "# Model Accuracy Reports\n",
        "\n",
        "print(\"Accuracy:\",metrics.accuracy_score(y_test, predicted ))\n",
        "print(\"Precision:\",metrics.precision_score(y_test, predicted, average='weighted'))\n",
        "print(\"Recall:\",metrics.recall_score(y_test, predicted, average='weighted'))\n",
        "print( metrics.classification_report(y_test, predicted))"
      ],
      "execution_count": 26,
      "outputs": [
        {
          "output_type": "stream",
          "text": [
            "Accuracy: 0.966839378238342\n",
            "Precision: 0.9491893698813305\n",
            "Recall: 0.966839378238342\n",
            "              precision    recall  f1-score   support\n",
            "\n",
            "      slurry       0.00      0.00      0.00        14\n",
            "        vast       0.97      1.00      0.98       931\n",
            "   vloeibaar       0.75      0.15      0.25        20\n",
            "\n",
            "    accuracy                           0.97       965\n",
            "   macro avg       0.57      0.38      0.41       965\n",
            "weighted avg       0.95      0.97      0.95       965\n",
            "\n"
          ],
          "name": "stdout"
        },
        {
          "output_type": "stream",
          "text": [
            "/usr/local/lib/python3.6/dist-packages/sklearn/metrics/_classification.py:1272: UndefinedMetricWarning: Precision is ill-defined and being set to 0.0 in labels with no predicted samples. Use `zero_division` parameter to control this behavior.\n",
            "  _warn_prf(average, modifier, msg_start, len(result))\n",
            "/usr/local/lib/python3.6/dist-packages/sklearn/metrics/_classification.py:1272: UndefinedMetricWarning: Precision and F-score are ill-defined and being set to 0.0 in labels with no predicted samples. Use `zero_division` parameter to control this behavior.\n",
            "  _warn_prf(average, modifier, msg_start, len(result))\n"
          ],
          "name": "stderr"
        }
      ]
    },
    {
      "cell_type": "markdown",
      "metadata": {
        "id": "IKZVwKfRB2_s",
        "colab_type": "text"
      },
      "source": [
        "### **Plotting the Classification Outcomes (description and material dependencies)**"
      ]
    },
    {
      "cell_type": "code",
      "metadata": {
        "id": "80cYKSKZ6buv",
        "colab_type": "code",
        "colab": {
          "base_uri": "https://localhost:8080/",
          "height": 1000
        },
        "outputId": "abfe3b10-1bee-42ad-ec55-4eb93b7aeed0"
      },
      "source": [
        "import seaborn as sns\n",
        "import matplotlib.pyplot as plt\n",
        "\n",
        "#chosen column field option\n",
        "chosen_material = 'slakken'\n",
        "chosen_mixedOrPure = 'puur'\n",
        "chosen_consistency = 'vast'\n",
        "\n",
        "# set graph: \n",
        "outcome = chosen_consistency\n",
        "x_axis = 'consistency'\n",
        "x_data = df.consistency\n",
        "\n",
        "data = df.head(80).loc[x_data ==outcome]\n",
        "sns.set_style('ticks')\n",
        "fig, ax = plt.subplots()\n",
        "fig.set_size_inches(1, 12)\n",
        "sns.regplot(x=x_axis, y='description', data=data, ax=ax)\n"
      ],
      "execution_count": 44,
      "outputs": [
        {
          "output_type": "error",
          "ename": "UFuncTypeError",
          "evalue": "ignored",
          "traceback": [
            "\u001b[0;31m---------------------------------------------------------------------------\u001b[0m",
            "\u001b[0;31mUFuncTypeError\u001b[0m                            Traceback (most recent call last)",
            "\u001b[0;32m<ipython-input-44-f90922a1ebd4>\u001b[0m in \u001b[0;36m<module>\u001b[0;34m()\u001b[0m\n\u001b[1;32m     16\u001b[0m \u001b[0mfig\u001b[0m\u001b[0;34m,\u001b[0m \u001b[0max\u001b[0m \u001b[0;34m=\u001b[0m \u001b[0mplt\u001b[0m\u001b[0;34m.\u001b[0m\u001b[0msubplots\u001b[0m\u001b[0;34m(\u001b[0m\u001b[0;34m)\u001b[0m\u001b[0;34m\u001b[0m\u001b[0;34m\u001b[0m\u001b[0m\n\u001b[1;32m     17\u001b[0m \u001b[0mfig\u001b[0m\u001b[0;34m.\u001b[0m\u001b[0mset_size_inches\u001b[0m\u001b[0;34m(\u001b[0m\u001b[0;36m1\u001b[0m\u001b[0;34m,\u001b[0m \u001b[0;36m12\u001b[0m\u001b[0;34m)\u001b[0m\u001b[0;34m\u001b[0m\u001b[0;34m\u001b[0m\u001b[0m\n\u001b[0;32m---> 18\u001b[0;31m \u001b[0msns\u001b[0m\u001b[0;34m.\u001b[0m\u001b[0mregplot\u001b[0m\u001b[0;34m(\u001b[0m\u001b[0mx\u001b[0m\u001b[0;34m=\u001b[0m\u001b[0mx_axis\u001b[0m\u001b[0;34m,\u001b[0m \u001b[0my\u001b[0m\u001b[0;34m=\u001b[0m\u001b[0;34m'description'\u001b[0m\u001b[0;34m,\u001b[0m \u001b[0mdata\u001b[0m\u001b[0;34m=\u001b[0m\u001b[0mdata\u001b[0m\u001b[0;34m,\u001b[0m \u001b[0max\u001b[0m\u001b[0;34m=\u001b[0m\u001b[0max\u001b[0m\u001b[0;34m)\u001b[0m\u001b[0;34m\u001b[0m\u001b[0;34m\u001b[0m\u001b[0m\n\u001b[0m",
            "\u001b[0;32m/usr/local/lib/python3.6/dist-packages/seaborn/regression.py\u001b[0m in \u001b[0;36mregplot\u001b[0;34m(x, y, data, x_estimator, x_bins, x_ci, scatter, fit_reg, ci, n_boot, units, seed, order, logistic, lowess, robust, logx, x_partial, y_partial, truncate, dropna, x_jitter, y_jitter, label, color, marker, scatter_kws, line_kws, ax)\u001b[0m\n\u001b[1;32m    815\u001b[0m     \u001b[0mscatter_kws\u001b[0m\u001b[0;34m[\u001b[0m\u001b[0;34m\"marker\"\u001b[0m\u001b[0;34m]\u001b[0m \u001b[0;34m=\u001b[0m \u001b[0mmarker\u001b[0m\u001b[0;34m\u001b[0m\u001b[0;34m\u001b[0m\u001b[0m\n\u001b[1;32m    816\u001b[0m     \u001b[0mline_kws\u001b[0m \u001b[0;34m=\u001b[0m \u001b[0;34m{\u001b[0m\u001b[0;34m}\u001b[0m \u001b[0;32mif\u001b[0m \u001b[0mline_kws\u001b[0m \u001b[0;32mis\u001b[0m \u001b[0;32mNone\u001b[0m \u001b[0;32melse\u001b[0m \u001b[0mcopy\u001b[0m\u001b[0;34m.\u001b[0m\u001b[0mcopy\u001b[0m\u001b[0;34m(\u001b[0m\u001b[0mline_kws\u001b[0m\u001b[0;34m)\u001b[0m\u001b[0;34m\u001b[0m\u001b[0;34m\u001b[0m\u001b[0m\n\u001b[0;32m--> 817\u001b[0;31m     \u001b[0mplotter\u001b[0m\u001b[0;34m.\u001b[0m\u001b[0mplot\u001b[0m\u001b[0;34m(\u001b[0m\u001b[0max\u001b[0m\u001b[0;34m,\u001b[0m \u001b[0mscatter_kws\u001b[0m\u001b[0;34m,\u001b[0m \u001b[0mline_kws\u001b[0m\u001b[0;34m)\u001b[0m\u001b[0;34m\u001b[0m\u001b[0;34m\u001b[0m\u001b[0m\n\u001b[0m\u001b[1;32m    818\u001b[0m     \u001b[0;32mreturn\u001b[0m \u001b[0max\u001b[0m\u001b[0;34m\u001b[0m\u001b[0;34m\u001b[0m\u001b[0m\n\u001b[1;32m    819\u001b[0m \u001b[0;34m\u001b[0m\u001b[0m\n",
            "\u001b[0;32m/usr/local/lib/python3.6/dist-packages/seaborn/regression.py\u001b[0m in \u001b[0;36mplot\u001b[0;34m(self, ax, scatter_kws, line_kws)\u001b[0m\n\u001b[1;32m    367\u001b[0m \u001b[0;34m\u001b[0m\u001b[0m\n\u001b[1;32m    368\u001b[0m         \u001b[0;32mif\u001b[0m \u001b[0mself\u001b[0m\u001b[0;34m.\u001b[0m\u001b[0mfit_reg\u001b[0m\u001b[0;34m:\u001b[0m\u001b[0;34m\u001b[0m\u001b[0;34m\u001b[0m\u001b[0m\n\u001b[0;32m--> 369\u001b[0;31m             \u001b[0mself\u001b[0m\u001b[0;34m.\u001b[0m\u001b[0mlineplot\u001b[0m\u001b[0;34m(\u001b[0m\u001b[0max\u001b[0m\u001b[0;34m,\u001b[0m \u001b[0mline_kws\u001b[0m\u001b[0;34m)\u001b[0m\u001b[0;34m\u001b[0m\u001b[0;34m\u001b[0m\u001b[0m\n\u001b[0m\u001b[1;32m    370\u001b[0m \u001b[0;34m\u001b[0m\u001b[0m\n\u001b[1;32m    371\u001b[0m         \u001b[0;31m# Label the axes\u001b[0m\u001b[0;34m\u001b[0m\u001b[0;34m\u001b[0m\u001b[0;34m\u001b[0m\u001b[0m\n",
            "\u001b[0;32m/usr/local/lib/python3.6/dist-packages/seaborn/regression.py\u001b[0m in \u001b[0;36mlineplot\u001b[0;34m(self, ax, kws)\u001b[0m\n\u001b[1;32m    410\u001b[0m         \u001b[0;34m\"\"\"Draw the model.\"\"\"\u001b[0m\u001b[0;34m\u001b[0m\u001b[0;34m\u001b[0m\u001b[0m\n\u001b[1;32m    411\u001b[0m         \u001b[0;31m# Fit the regression model\u001b[0m\u001b[0;34m\u001b[0m\u001b[0;34m\u001b[0m\u001b[0;34m\u001b[0m\u001b[0m\n\u001b[0;32m--> 412\u001b[0;31m         \u001b[0mgrid\u001b[0m\u001b[0;34m,\u001b[0m \u001b[0myhat\u001b[0m\u001b[0;34m,\u001b[0m \u001b[0merr_bands\u001b[0m \u001b[0;34m=\u001b[0m \u001b[0mself\u001b[0m\u001b[0;34m.\u001b[0m\u001b[0mfit_regression\u001b[0m\u001b[0;34m(\u001b[0m\u001b[0max\u001b[0m\u001b[0;34m)\u001b[0m\u001b[0;34m\u001b[0m\u001b[0;34m\u001b[0m\u001b[0m\n\u001b[0m\u001b[1;32m    413\u001b[0m         \u001b[0medges\u001b[0m \u001b[0;34m=\u001b[0m \u001b[0mgrid\u001b[0m\u001b[0;34m[\u001b[0m\u001b[0;36m0\u001b[0m\u001b[0;34m]\u001b[0m\u001b[0;34m,\u001b[0m \u001b[0mgrid\u001b[0m\u001b[0;34m[\u001b[0m\u001b[0;34m-\u001b[0m\u001b[0;36m1\u001b[0m\u001b[0;34m]\u001b[0m\u001b[0;34m\u001b[0m\u001b[0;34m\u001b[0m\u001b[0m\n\u001b[1;32m    414\u001b[0m \u001b[0;34m\u001b[0m\u001b[0m\n",
            "\u001b[0;32m/usr/local/lib/python3.6/dist-packages/seaborn/regression.py\u001b[0m in \u001b[0;36mfit_regression\u001b[0;34m(self, ax, x_range, grid)\u001b[0m\n\u001b[1;32m    198\u001b[0m                 \u001b[0;32melse\u001b[0m\u001b[0;34m:\u001b[0m\u001b[0;34m\u001b[0m\u001b[0;34m\u001b[0m\u001b[0m\n\u001b[1;32m    199\u001b[0m                     \u001b[0mx_min\u001b[0m\u001b[0;34m,\u001b[0m \u001b[0mx_max\u001b[0m \u001b[0;34m=\u001b[0m \u001b[0max\u001b[0m\u001b[0;34m.\u001b[0m\u001b[0mget_xlim\u001b[0m\u001b[0;34m(\u001b[0m\u001b[0;34m)\u001b[0m\u001b[0;34m\u001b[0m\u001b[0;34m\u001b[0m\u001b[0m\n\u001b[0;32m--> 200\u001b[0;31m             \u001b[0mgrid\u001b[0m \u001b[0;34m=\u001b[0m \u001b[0mnp\u001b[0m\u001b[0;34m.\u001b[0m\u001b[0mlinspace\u001b[0m\u001b[0;34m(\u001b[0m\u001b[0mx_min\u001b[0m\u001b[0;34m,\u001b[0m \u001b[0mx_max\u001b[0m\u001b[0;34m,\u001b[0m \u001b[0;36m100\u001b[0m\u001b[0;34m)\u001b[0m\u001b[0;34m\u001b[0m\u001b[0;34m\u001b[0m\u001b[0m\n\u001b[0m\u001b[1;32m    201\u001b[0m         \u001b[0mci\u001b[0m \u001b[0;34m=\u001b[0m \u001b[0mself\u001b[0m\u001b[0;34m.\u001b[0m\u001b[0mci\u001b[0m\u001b[0;34m\u001b[0m\u001b[0;34m\u001b[0m\u001b[0m\n\u001b[1;32m    202\u001b[0m \u001b[0;34m\u001b[0m\u001b[0m\n",
            "\u001b[0;32m<__array_function__ internals>\u001b[0m in \u001b[0;36mlinspace\u001b[0;34m(*args, **kwargs)\u001b[0m\n",
            "\u001b[0;32m/usr/local/lib/python3.6/dist-packages/numpy/core/function_base.py\u001b[0m in \u001b[0;36mlinspace\u001b[0;34m(start, stop, num, endpoint, retstep, dtype, axis)\u001b[0m\n\u001b[1;32m    127\u001b[0m     \u001b[0;31m# Convert float/complex array scalars to float, gh-3504\u001b[0m\u001b[0;34m\u001b[0m\u001b[0;34m\u001b[0m\u001b[0;34m\u001b[0m\u001b[0m\n\u001b[1;32m    128\u001b[0m     \u001b[0;31m# and make sure one can use variables that have an __array_interface__, gh-6634\u001b[0m\u001b[0;34m\u001b[0m\u001b[0;34m\u001b[0m\u001b[0;34m\u001b[0m\u001b[0m\n\u001b[0;32m--> 129\u001b[0;31m     \u001b[0mstart\u001b[0m \u001b[0;34m=\u001b[0m \u001b[0masanyarray\u001b[0m\u001b[0;34m(\u001b[0m\u001b[0mstart\u001b[0m\u001b[0;34m)\u001b[0m \u001b[0;34m*\u001b[0m \u001b[0;36m1.0\u001b[0m\u001b[0;34m\u001b[0m\u001b[0;34m\u001b[0m\u001b[0m\n\u001b[0m\u001b[1;32m    130\u001b[0m     \u001b[0mstop\u001b[0m  \u001b[0;34m=\u001b[0m \u001b[0masanyarray\u001b[0m\u001b[0;34m(\u001b[0m\u001b[0mstop\u001b[0m\u001b[0;34m)\u001b[0m  \u001b[0;34m*\u001b[0m \u001b[0;36m1.0\u001b[0m\u001b[0;34m\u001b[0m\u001b[0;34m\u001b[0m\u001b[0m\n\u001b[1;32m    131\u001b[0m \u001b[0;34m\u001b[0m\u001b[0m\n",
            "\u001b[0;31mUFuncTypeError\u001b[0m: ufunc 'multiply' did not contain a loop with signature matching types (dtype('<U32'), dtype('<U32')) -> dtype('<U32')"
          ]
        },
        {
          "output_type": "display_data",
          "data": {
            "image/png": "[encoded data removed]",
            "text/plain": [
              "<Figure size 72x864 with 1 Axes>"
            ]
          },
          "metadata": {
            "tags": []
          }
        }
      ]
    }
  ]
}