{
  "nbformat": 4,
  "nbformat_minor": 0,
  "metadata": {
    "colab": {
      "name": "NL_SpaCy_ML_Classifier_for_Waste_Data_Augmentation.ipynb",
      "provenance": [],
      "collapsed_sections": [
        "bj7q5mGz0V6Q",
        "DYHmZbUqv_3i",
        "A_nJbg_AabzL",
        "1kRKYNjnahwE",
        "0WRlhwvUacc9",
        "GPu5uHNrjQAZ",
        "o78_Ruskc9O8",
        "sRNnajFQ7w__",
        "we8aDA-Tgjx9",
        "Q4qJsTC9i9ko",
        "VenFHCmcrAYr",
        "1mXhEsj_ljFJ",
        "UKWlXGY8udV6",
        "Cs546SLByRfT",
        "loGBEIWdab7V",
        "y09ArjcybW_m"
      ],
      "authorship_tag": "ABX9TyMQXumSU7lmLEC3GnrJ4/7z",
      "include_colab_link": true
    },
    "kernelspec": {
      "name": "python3",
      "display_name": "Python 3"
    }
  },
  "cells": [
    {
      "cell_type": "markdown",
      "metadata": {
        "id": "view-in-github",
        "colab_type": "text"
      },
      "source": [
        "<a href=\"https://colab.research.google.com/github/Yolantele/ML-data-clasifier/blob/master/NL_SpaCy_ML_Classifier_for_Waste_Data_Augmentation.ipynb\" target=\"_parent\"><img src=\"https://colab.research.google.com/assets/colab-badge.svg\" alt=\"Open In Colab\"/></a>"
      ]
    },
    {
      "cell_type": "markdown",
      "metadata": {
        "id": "d3PcxBlkrRON",
        "colab_type": "text"
      },
      "source": [
        "# **Dutch Waste Data Classification and Augmentation** \n",
        "\n",
        "Performs text analysis operations with spaCy and  builds machine learning model with scikit-learn\n",
        "\n",
        "\n",
        "scikit-learn :\n",
        "https://scikit-learn.org/stable/\n",
        "\n",
        "spaCy Language Models:\n",
        "https://spacy.io/usage/models\n",
        "\n",
        "scikit-learn + Spacy : \n",
        "https://www.dataquest.io/blog/tutorial-text-classification-in-python-using-spacy/\n",
        "\n",
        "Eural Code reference: \n",
        "https://eur-lex.europa.eu/legal-content/EN/TXT/?uri=CELEX:02000D0532-20150601\n",
        "\n",
        "\n",
        "Entity Analysis: https://spacy.io/api/token#attributes\n"
      ]
    },
    {
      "cell_type": "code",
      "metadata": {
        "id": "P0MIMTSkPAN6",
        "colab_type": "code",
        "colab": {}
      },
      "source": [
        "%reload_ext autoreload\n",
        "%autoreload 2\n",
        "%matplotlib inline"
      ],
      "execution_count": null,
      "outputs": []
    },
    {
      "cell_type": "code",
      "metadata": {
        "id": "GchVo49oPHvN",
        "colab_type": "code",
        "colab": {}
      },
      "source": [
        "# mount data from drive\n",
        "from google.colab import drive\n",
        "drive.mount('/content/drive')"
      ],
      "execution_count": null,
      "outputs": []
    },
    {
      "cell_type": "code",
      "metadata": {
        "id": "HTRIFjFaPbf0",
        "colab_type": "code",
        "colab": {}
      },
      "source": [
        "!pip install -U spacy\n",
        "!pip install pandas\n",
        "!python -m spacy download nl_core_news_md"
      ],
      "execution_count": null,
      "outputs": []
    },
    {
      "cell_type": "markdown",
      "metadata": {
        "id": "se5WawQnZ-p_",
        "colab_type": "text"
      },
      "source": [
        "## **Loading Languages model and Data Frames**"
      ]
    },
    {
      "cell_type": "code",
      "metadata": {
        "id": "UxLC2X13Qw7W",
        "colab_type": "code",
        "colab": {}
      },
      "source": [
        "import spacy\n",
        "import pandas as pd\n",
        "from spacy.lang.nl import Dutch\n",
        "import nl_core_news_md\n",
        "spacy.prefer_gpu()\n",
        "\n",
        "nlp = nl_core_news_md.load #medium size lang model (smae results as large size lanf model)"
      ],
      "execution_count": null,
      "outputs": []
    },
    {
      "cell_type": "code",
      "metadata": {
        "id": "L324D-Gql23q",
        "colab_type": "code",
        "colab": {}
      },
      "source": [
        "path = '/content/drive/My Drive/data/'\n",
        "\n",
        "# train data frames:\n",
        "all_data = pd.read_csv(path + '/nlDataRich.csv')\n",
        "\n",
        "\n",
        "# test data frames:\n",
        "materials_test = pd.read_csv(path + '/nlWithoutMaterialData.csv')\n",
        "\n",
        "# set data frame: \n",
        "df = all_data\n",
        "\n",
        "\n",
        "df.shape\n",
        "df.info()\n",
        "df.head()\n"
      ],
      "execution_count": null,
      "outputs": []
    },
    {
      "cell_type": "markdown",
      "metadata": {
        "id": "YPOLLyVRzcQ9",
        "colab_type": "text"
      },
      "source": [
        "## **Tokening the Data With spaCy**\n",
        "\n",
        "creating a custom tokenizer function using spaCy to automatically strip unnecesarry information like stopwords and punctuation"
      ]
    },
    {
      "cell_type": "code",
      "metadata": {
        "id": "RDWKUU8RvJz9",
        "colab_type": "code",
        "colab": {}
      },
      "source": [
        "from spacy.lang.nl.stop_words import STOP_WORDS\n",
        "\n",
        "\n",
        "parser = Dutch()\n",
        "punctuations = '''!()-[]{};:'\"\\,<>./?@#$%^&*_~'''\n",
        "stopwords = STOP_WORDS\n",
        "# stopwords = [] # in some cases stopwords help (increase accuracy by 1%)\n",
        "\n",
        "def spacy_tokenize(sentence):\n",
        "    # Creating our token object, which is used to create documents with linguistic annotations.\n",
        "    sentence = sentence.strip().lower()\n",
        "    mytokens = parser(sentence)\n",
        "\n",
        "    # Lemmatizing each token and converting each token into lowercase\n",
        "    mytokens = [ word.lemma_.lower().strip() if word.lemma_ != \"-PRON-\" else word.lower_ for word in mytokens  ]\n",
        "\n",
        "    # Removing stop words\n",
        "    mytokens = [ word for word in mytokens if word not in punctuations and word not in stopwords]\n",
        "\n",
        "    # return preprocessed list of tokens\n",
        "    return mytokens\n"
      ],
      "execution_count": null,
      "outputs": []
    },
    {
      "cell_type": "markdown",
      "metadata": {
        "id": "bj7q5mGz0V6Q",
        "colab_type": "text"
      },
      "source": [
        "###**Vectorization Feature Engineering, TF-IDF, Bag of Words and N-grams**\n",
        "\n",
        "Classifying text we end up with text snippets with their respective labels. But in machine learning model we need to convert into numeric representation (vector coordinates)\n",
        "\n",
        "- **TF-IDF -Term Frequency-Inverse Document Frequency**- simply a way of normalizing our Bag of Words(BoW) by looking at each word’s frequency in comparison to the document frequency.\n",
        "\n",
        "- **N-grams** - combinations of adjacent words in a given text. For example \"who will win\"\n",
        " 1. when n = 1, becomes \"who\", \"will\", \"win\",\n",
        " 2. when n = 2 , becomes \"who will\", \"will win\" etc. "
      ]
    },
    {
      "cell_type": "code",
      "metadata": {
        "id": "e8vNowrk0WUW",
        "colab_type": "code",
        "colab": {}
      },
      "source": [
        "from sklearn.feature_extraction.text import CountVectorizer,TfidfVectorizer\n",
        "from sklearn.base import TransformerMixin\n",
        "\n",
        "bow_vector = CountVectorizer(tokenizer=spacy_tokenize, ngram_range=(1,1))\n",
        "\n",
        "tfidf_vector = TfidfVectorizer(tokenizer=spacy_tokenize)\n",
        "\n",
        "# print(bow_vector)\n",
        "# print(tfidf_vector)"
      ],
      "execution_count": null,
      "outputs": []
    },
    {
      "cell_type": "markdown",
      "metadata": {
        "id": "DYHmZbUqv_3i",
        "colab_type": "text"
      },
      "source": [
        "## **Splitting The Data into Training and Validation Sets**\n"
      ]
    },
    {
      "cell_type": "markdown",
      "metadata": {
        "id": "A_nJbg_AabzL",
        "colab_type": "text"
      },
      "source": [
        "### material classiciation"
      ]
    },
    {
      "cell_type": "code",
      "metadata": {
        "id": "5d4AVLzEv_Cb",
        "colab_type": "code",
        "colab": {
          "base_uri": "https://localhost:8080/",
          "height": 221
        },
        "outputId": "1ebce6ea-c0c5-4fbe-dd3f-57accc866e14"
      },
      "source": [
        "from sklearn.model_selection import train_test_split\n",
        "\n",
        "df = df[df['material'].notna()]\n",
        "\n",
        "X = df['description'] # the features we want to analyze\n",
        "ylabels = df['material'] # the labels, or answers, we want to test against\n",
        "\n",
        "X_train, X_test, y_train, y_test = train_test_split(X, ylabels, test_size=0.3)\n",
        "\n",
        "print(X)"
      ],
      "execution_count": null,
      "outputs": [
        {
          "output_type": "stream",
          "text": [
            "0                          SLIB VAN WASSEN EN SCHOONMAKEN\n",
            "1                                           GFT Afgekeurd\n",
            "2                                         GFT Categorie 3\n",
            "3                                                       2\n",
            "4                                         200 Boomstobben\n",
            "                              ...                        \n",
            "5843                                     beddingmateriaal\n",
            "5844                                        bedding afval\n",
            "5845    voedings-en genotmiddelen ongeschikt voor cons...\n",
            "5846                   000 rum ongeschikt voor consumptie\n",
            "5847                         afval van dierlijke weefsels\n",
            "Name: description, Length: 5848, dtype: object\n"
          ],
          "name": "stdout"
        }
      ]
    },
    {
      "cell_type": "markdown",
      "metadata": {
        "id": "1kRKYNjnahwE",
        "colab_type": "text"
      },
      "source": [
        "### mixedOrPure classification"
      ]
    },
    {
      "cell_type": "code",
      "metadata": {
        "id": "48JEgVVGamer",
        "colab_type": "code",
        "colab": {
          "base_uri": "https://localhost:8080/",
          "height": 221
        },
        "outputId": "a6fd066e-4a63-4414-c15e-6f84d6d11c31"
      },
      "source": [
        "from sklearn.model_selection import train_test_split\n",
        "\n",
        "\n",
        "df = df[df['mixedOrPure'].notna()]\n",
        "\n",
        "X = df['description'] # the features we want to analyze\n",
        "ylabels = df['mixedOrPure'] # the labels, or answers, we want to test against\n",
        "\n",
        "X_train, X_test, y_train, y_test = train_test_split(X, ylabels, test_size=0.3)\n",
        "\n",
        "print(X)"
      ],
      "execution_count": null,
      "outputs": [
        {
          "output_type": "stream",
          "text": [
            "0                          SLIB VAN WASSEN EN SCHOONMAKEN\n",
            "1                                           GFT Afgekeurd\n",
            "2                                         GFT Categorie 3\n",
            "3                                                       2\n",
            "4                                         200 Boomstobben\n",
            "                              ...                        \n",
            "5843                                     beddingmateriaal\n",
            "5844                                        bedding afval\n",
            "5845    voedings-en genotmiddelen ongeschikt voor cons...\n",
            "5846                   000 rum ongeschikt voor consumptie\n",
            "5847                         afval van dierlijke weefsels\n",
            "Name: description, Length: 5848, dtype: object\n"
          ],
          "name": "stdout"
        }
      ]
    },
    {
      "cell_type": "markdown",
      "metadata": {
        "id": "0WRlhwvUacc9",
        "colab_type": "text"
      },
      "source": [
        "### consistency classification"
      ]
    },
    {
      "cell_type": "code",
      "metadata": {
        "id": "aGzzKaqYahCl",
        "colab_type": "code",
        "colab": {
          "base_uri": "https://localhost:8080/",
          "height": 221
        },
        "outputId": "e98b3742-0f6f-4cda-db5b-e75f2398a5d8"
      },
      "source": [
        "from sklearn.model_selection import train_test_split\n",
        "\n",
        "\n",
        "df = df[df['consistency'].notna()]\n",
        "\n",
        "X = df['description'] # the features we want to analyze\n",
        "ylabels = df['consistency'] # the labels, or answers, we want to test against\n",
        "\n",
        "X_train, X_test, y_train, y_test = train_test_split(X, ylabels, test_size=0.3)\n",
        "\n",
        "print(X)"
      ],
      "execution_count": null,
      "outputs": [
        {
          "output_type": "stream",
          "text": [
            "0                          SLIB VAN WASSEN EN SCHOONMAKEN\n",
            "1                                           GFT Afgekeurd\n",
            "2                                         GFT Categorie 3\n",
            "3                                                       2\n",
            "4                                         200 Boomstobben\n",
            "                              ...                        \n",
            "5843                                     beddingmateriaal\n",
            "5844                                        bedding afval\n",
            "5845    voedings-en genotmiddelen ongeschikt voor cons...\n",
            "5846                   000 rum ongeschikt voor consumptie\n",
            "5847                         afval van dierlijke weefsels\n",
            "Name: description, Length: 5848, dtype: object\n"
          ],
          "name": "stdout"
        }
      ]
    },
    {
      "cell_type": "markdown",
      "metadata": {
        "id": "GPu5uHNrjQAZ",
        "colab_type": "text"
      },
      "source": [
        "### cleanOrDirty classification"
      ]
    },
    {
      "cell_type": "code",
      "metadata": {
        "id": "LI0boqY2j2FZ",
        "colab_type": "code",
        "colab": {}
      },
      "source": [
        "from sklearn.model_selection import train_test_split\n",
        "\n",
        "\n",
        "df = df[df['cleanOrDirty'].notna()]\n",
        "\n",
        "X = df['description'] # the features we want to analyze\n",
        "ylabels = df['cleanOrDirty'] # the labels, or answers, we want to test against\n",
        "\n",
        "X_train, X_test, y_train, y_test = train_test_split(X, ylabels, test_size=0.3)\n",
        "\n",
        "print(X)"
      ],
      "execution_count": null,
      "outputs": []
    },
    {
      "cell_type": "markdown",
      "metadata": {
        "id": "o78_Ruskc9O8",
        "colab_type": "text"
      },
      "source": [
        "### directProduct classification"
      ]
    },
    {
      "cell_type": "code",
      "metadata": {
        "id": "S8IDgSK5dHxk",
        "colab_type": "code",
        "colab": {
          "base_uri": "https://localhost:8080/",
          "height": 221
        },
        "outputId": "2db1e451-8f32-401f-89b0-b962824ce9a1"
      },
      "source": [
        "from sklearn.model_selection import train_test_split\n",
        "\n",
        "\n",
        "df = df[df['directProduct'].notna()]\n",
        "\n",
        "X = df['description'] # the features we want to analyze\n",
        "ylabels = df['directProduct'] # the labels, or answers, we want to test against\n",
        "\n",
        "X_train, X_test, y_train, y_test = train_test_split(X, ylabels, test_size=0.3)\n",
        "\n",
        "print(X)"
      ],
      "execution_count": null,
      "outputs": [
        {
          "output_type": "stream",
          "text": [
            "0                          SLIB VAN WASSEN EN SCHOONMAKEN\n",
            "1                                           GFT Afgekeurd\n",
            "2                                         GFT Categorie 3\n",
            "3                                                       2\n",
            "4                                         200 Boomstobben\n",
            "                              ...                        \n",
            "5843                                     beddingmateriaal\n",
            "5844                                        bedding afval\n",
            "5845    voedings-en genotmiddelen ongeschikt voor cons...\n",
            "5846                   000 rum ongeschikt voor consumptie\n",
            "5847                         afval van dierlijke weefsels\n",
            "Name: description, Length: 5848, dtype: object\n"
          ],
          "name": "stdout"
        }
      ]
    },
    {
      "cell_type": "markdown",
      "metadata": {
        "id": "sRNnajFQ7w__",
        "colab_type": "text"
      },
      "source": [
        "### indirectProduct Classification"
      ]
    },
    {
      "cell_type": "code",
      "metadata": {
        "id": "40I8pLd371L8",
        "colab_type": "code",
        "colab": {
          "base_uri": "https://localhost:8080/",
          "height": 221
        },
        "outputId": "4b88b7f2-ef68-4a34-8b29-7d8d70b51b90"
      },
      "source": [
        "from sklearn.model_selection import train_test_split\n",
        "\n",
        "\n",
        "df = df[df['indirectProduct'].notna()]\n",
        "\n",
        "X = df['description'] # the features we want to analyze\n",
        "ylabels = df['indirectProduct'] # the labels, or answers, we want to test against\n",
        "\n",
        "X_train, X_test, y_train, y_test = train_test_split(X, ylabels, test_size=0.3)\n",
        "\n",
        "print(X)"
      ],
      "execution_count": null,
      "outputs": [
        {
          "output_type": "stream",
          "text": [
            "0                          SLIB VAN WASSEN EN SCHOONMAKEN\n",
            "1                                           GFT Afgekeurd\n",
            "2                                         GFT Categorie 3\n",
            "3                                                       2\n",
            "4                                         200 Boomstobben\n",
            "                              ...                        \n",
            "5843                                     beddingmateriaal\n",
            "5844                                        bedding afval\n",
            "5845    voedings-en genotmiddelen ongeschikt voor cons...\n",
            "5846                   000 rum ongeschikt voor consumptie\n",
            "5847                         afval van dierlijke weefsels\n",
            "Name: description, Length: 5848, dtype: object\n"
          ],
          "name": "stdout"
        }
      ]
    },
    {
      "cell_type": "markdown",
      "metadata": {
        "id": "we8aDA-Tgjx9",
        "colab_type": "text"
      },
      "source": [
        "### cType classification"
      ]
    },
    {
      "cell_type": "code",
      "metadata": {
        "id": "oVDMLgeagmnm",
        "colab_type": "code",
        "colab": {
          "base_uri": "https://localhost:8080/",
          "height": 221
        },
        "outputId": "2db27101-8359-4588-9f13-b7ad0f4521cd"
      },
      "source": [
        "from sklearn.model_selection import train_test_split\n",
        "\n",
        "df = df[df['cType'].notna()]\n",
        "\n",
        "X = df['description'] # the features we want to analyze\n",
        "ylabels = df['cType'] # the labels, or answers, we want to test against\n",
        "\n",
        "X_train, X_test, y_train, y_test = train_test_split(X, ylabels, test_size=0.3)\n",
        "\n",
        "print(X)"
      ],
      "execution_count": null,
      "outputs": [
        {
          "output_type": "stream",
          "text": [
            "0                          SLIB VAN WASSEN EN SCHOONMAKEN\n",
            "1                                           GFT Afgekeurd\n",
            "2                                         GFT Categorie 3\n",
            "3                                                       2\n",
            "4                                         200 Boomstobben\n",
            "                              ...                        \n",
            "5843                                     beddingmateriaal\n",
            "5844                                        bedding afval\n",
            "5845    voedings-en genotmiddelen ongeschikt voor cons...\n",
            "5846                   000 rum ongeschikt voor consumptie\n",
            "5847                         afval van dierlijke weefsels\n",
            "Name: description, Length: 5848, dtype: object\n"
          ],
          "name": "stdout"
        }
      ]
    },
    {
      "cell_type": "markdown",
      "metadata": {
        "id": "Q4qJsTC9i9ko",
        "colab_type": "text"
      },
      "source": [
        "### composite1 classification"
      ]
    },
    {
      "cell_type": "code",
      "metadata": {
        "id": "0RCQSJ3FjBEY",
        "colab_type": "code",
        "colab": {
          "base_uri": "https://localhost:8080/",
          "height": 221
        },
        "outputId": "60870f77-c263-41e7-9333-c45cfe3e862a"
      },
      "source": [
        "from sklearn.model_selection import train_test_split\n",
        "\n",
        "df = df[df['composite1'].notna()]\n",
        "\n",
        "X = df['description'] # the features we want to analyze\n",
        "ylabels = df['composite1'] # the labels, or answers, we want to test against\n",
        "\n",
        "X_train, X_test, y_train, y_test = train_test_split(X, ylabels, test_size=0.3)\n",
        "\n",
        "print(X)"
      ],
      "execution_count": null,
      "outputs": [
        {
          "output_type": "stream",
          "text": [
            "0                          SLIB VAN WASSEN EN SCHOONMAKEN\n",
            "1                                           GFT Afgekeurd\n",
            "2                                         GFT Categorie 3\n",
            "3                                                       2\n",
            "4                                         200 Boomstobben\n",
            "                              ...                        \n",
            "5843                                     beddingmateriaal\n",
            "5844                                        bedding afval\n",
            "5845    voedings-en genotmiddelen ongeschikt voor cons...\n",
            "5846                   000 rum ongeschikt voor consumptie\n",
            "5847                         afval van dierlijke weefsels\n",
            "Name: description, Length: 5848, dtype: object\n"
          ],
          "name": "stdout"
        }
      ]
    },
    {
      "cell_type": "markdown",
      "metadata": {
        "id": "VenFHCmcrAYr",
        "colab_type": "text"
      },
      "source": [
        "### state classification"
      ]
    },
    {
      "cell_type": "code",
      "metadata": {
        "id": "lDGwSPLUrEbr",
        "colab_type": "code",
        "colab": {
          "base_uri": "https://localhost:8080/",
          "height": 425
        },
        "outputId": "69ade586-d963-4dcd-b645-a569e0c8b862"
      },
      "source": [
        "from sklearn.model_selection import train_test_split\n",
        "\n",
        "df = df[df['state'].notna()]\n",
        "\n",
        "X = df['description'] # the features we want to analyze\n",
        "ylabels = df['state'] # the labels, or answers, we want to test against\n",
        "\n",
        "X_train, X_test, y_train, y_test = train_test_split(X, ylabels, test_size=0.3)\n",
        "\n",
        "print(X)\n",
        "print(ylabels)"
      ],
      "execution_count": null,
      "outputs": [
        {
          "output_type": "stream",
          "text": [
            "0                          SLIB VAN WASSEN EN SCHOONMAKEN\n",
            "1                                           GFT Afgekeurd\n",
            "2                                         GFT Categorie 3\n",
            "3                                                       2\n",
            "4                                         200 Boomstobben\n",
            "                              ...                        \n",
            "5843                                     beddingmateriaal\n",
            "5844                                        bedding afval\n",
            "5845    voedings-en genotmiddelen ongeschikt voor cons...\n",
            "5846                   000 rum ongeschikt voor consumptie\n",
            "5847                         afval van dierlijke weefsels\n",
            "Name: description, Length: 5848, dtype: object\n",
            "0       unclassified\n",
            "1       unclassified\n",
            "2       unclassified\n",
            "3       unclassified\n",
            "4       unclassified\n",
            "            ...     \n",
            "5843    unclassified\n",
            "5844    unclassified\n",
            "5845    unclassified\n",
            "5846    unclassified\n",
            "5847    unclassified\n",
            "Name: state, Length: 5848, dtype: object\n"
          ],
          "name": "stdout"
        }
      ]
    },
    {
      "cell_type": "markdown",
      "metadata": {
        "id": "1mXhEsj_ljFJ",
        "colab_type": "text"
      },
      "source": [
        "### mType classification"
      ]
    },
    {
      "cell_type": "code",
      "metadata": {
        "id": "jR9ExN12lp1V",
        "colab_type": "code",
        "colab": {
          "base_uri": "https://localhost:8080/",
          "height": 221
        },
        "outputId": "cbd0c449-f160-4f5f-e3ec-01a0483a561a"
      },
      "source": [
        "from sklearn.model_selection import train_test_split\n",
        "\n",
        "df = df[df['mType'].notna()]\n",
        "\n",
        "X = df['description'] # the features we want to analyze\n",
        "ylabels = df['mType'] # the labels, or answers, we want to test against\n",
        "\n",
        "X_train, X_test, y_train, y_test = train_test_split(X, ylabels, test_size=0.3)\n",
        "\n",
        "print(X)"
      ],
      "execution_count": null,
      "outputs": [
        {
          "output_type": "stream",
          "text": [
            "0                          SLIB VAN WASSEN EN SCHOONMAKEN\n",
            "1                                           GFT Afgekeurd\n",
            "2                                         GFT Categorie 3\n",
            "3                                                       2\n",
            "4                                         200 Boomstobben\n",
            "                              ...                        \n",
            "5843                                     beddingmateriaal\n",
            "5844                                        bedding afval\n",
            "5845    voedings-en genotmiddelen ongeschikt voor cons...\n",
            "5846                   000 rum ongeschikt voor consumptie\n",
            "5847                         afval van dierlijke weefsels\n",
            "Name: description, Length: 5848, dtype: object\n"
          ],
          "name": "stdout"
        }
      ]
    },
    {
      "cell_type": "markdown",
      "metadata": {
        "id": "UKWlXGY8udV6",
        "colab_type": "text"
      },
      "source": [
        "### otherCode classification"
      ]
    },
    {
      "cell_type": "code",
      "metadata": {
        "id": "XHYK0NwjuhsG",
        "colab_type": "code",
        "colab": {
          "base_uri": "https://localhost:8080/",
          "height": 221
        },
        "outputId": "cd69e70d-f3c6-4c89-fec4-02682aaea8b3"
      },
      "source": [
        "from sklearn.model_selection import train_test_split\n",
        "\n",
        "df = df[df['otherCode'].notna()]\n",
        "\n",
        "X = df['description'] # the features we want to analyze\n",
        "ylabels = df['otherCode'] # the labels, or answers, we want to test against\n",
        "\n",
        "X_train, X_test, y_train, y_test = train_test_split(X, ylabels, test_size=0.3)\n",
        "\n",
        "print(X)"
      ],
      "execution_count": null,
      "outputs": [
        {
          "output_type": "stream",
          "text": [
            "0                          SLIB VAN WASSEN EN SCHOONMAKEN\n",
            "1                                           GFT Afgekeurd\n",
            "2                                         GFT Categorie 3\n",
            "3                                                       2\n",
            "4                                         200 Boomstobben\n",
            "                              ...                        \n",
            "5843                                     beddingmateriaal\n",
            "5844                                        bedding afval\n",
            "5845    voedings-en genotmiddelen ongeschikt voor cons...\n",
            "5846                   000 rum ongeschikt voor consumptie\n",
            "5847                         afval van dierlijke weefsels\n",
            "Name: description, Length: 5848, dtype: object\n"
          ],
          "name": "stdout"
        }
      ]
    },
    {
      "cell_type": "markdown",
      "metadata": {
        "id": "Cs546SLByRfT",
        "colab_type": "text"
      },
      "source": [
        "## **Creating a Pipeline and Generating the Model**\n",
        "\n",
        "###we’ll create a pipeline with three components: a **cleaner, a vectorizer, and a classifier**. \n",
        "\n",
        "- The cleaner uses our predictors class object to clean and preprocess the text. \n",
        "\n",
        "- The vectorizer uses countvector objects to create the bag of words matrix for our text. \n",
        "\n",
        "- The classifier is an object that performs the logistic regression to classify the sentiments."
      ]
    },
    {
      "cell_type": "code",
      "metadata": {
        "id": "dAiqgGLrOiwU",
        "colab_type": "code",
        "colab": {}
      },
      "source": [
        "# Custom transformer using spaCy\n",
        "class predictors(TransformerMixin):\n",
        "    def transform(self, X, **transform_params):\n",
        "        # Cleaning Text\n",
        "        return [clean_text(text) for text in X]\n",
        "\n",
        "    def fit(self, X, y=None, **fit_params):\n",
        "        return self\n",
        "\n",
        "    def get_params(self, deep=True):\n",
        "        return {}\n",
        "\n",
        "\n",
        "def clean_text(text):\n",
        "    # Removing spaces and converting text into lowercase\n",
        "    return text.strip().lower()"
      ],
      "execution_count": null,
      "outputs": []
    },
    {
      "cell_type": "code",
      "metadata": {
        "id": "n0iorejbyVs6",
        "colab_type": "code",
        "colab": {}
      },
      "source": [
        "from sklearn.linear_model import LogisticRegression\n",
        "from sklearn.pipeline import Pipeline\n",
        "\n",
        "# Creating Logistic Regression Classifier\n",
        "classifier = LogisticRegression()\n",
        "\n",
        "# Create pipeline using Bag of Words (BoW)\n",
        "model = Pipeline([(\"cleaner\", predictors()),\n",
        "                 ('vectorizer', bow_vector),\n",
        "                 ('classifier', classifier)])\n",
        "\n",
        "# model generation\n",
        "model.fit(X_train,y_train)"
      ],
      "execution_count": null,
      "outputs": []
    },
    {
      "cell_type": "markdown",
      "metadata": {
        "id": "Jf24RclNTpUE",
        "colab_type": "text"
      },
      "source": [
        "### **Model Predictions - Classifications**"
      ]
    },
    {
      "cell_type": "code",
      "metadata": {
        "id": "rzuGqju6zSjW",
        "colab_type": "code",
        "colab": {
          "base_uri": "https://localhost:8080/",
          "height": 68
        },
        "outputId": "c4a027d8-3c59-441a-b8c2-53c1e448e147"
      },
      "source": [
        "from sklearn import metrics\n",
        "\n",
        "row = 20\n",
        "\n",
        "# Predicting for a test dataset\n",
        "predicted = model.predict(X_test)\n",
        "n = 0\n",
        "print('Using validation set:')\n",
        "print( X_test.iloc[row], '--->', predicted[row])\n",
        "print( materials_test.iloc[row].description,'--->', model.predict(materials_test)[row])\n",
        "\n"
      ],
      "execution_count": null,
      "outputs": [
        {
          "output_type": "stream",
          "text": [
            "Using validation set:\n",
            "PP Zakken ---> unclassified\n",
            "Bestrijdingsmiddelen in klein verpakking ---> unclassified\n"
          ],
          "name": "stdout"
        }
      ]
    },
    {
      "cell_type": "markdown",
      "metadata": {
        "id": "Cey26VlblQIA",
        "colab_type": "text"
      },
      "source": [
        "### **Model Accuracy Reports**\n",
        "\n",
        "**Accuracy** refers to the percentage of the total predictions our model makes that are completely correct.\n",
        "\n",
        "**Precision** describes the ratio of true positives to true positives plus false positives in our predictions.\n",
        "\n",
        "**Recall** describes the ratio of true positives to true positives plus false negatives in our predictions.\n"
      ]
    },
    {
      "cell_type": "code",
      "metadata": {
        "id": "3DkzvWsQ0fTf",
        "colab_type": "code",
        "colab": {}
      },
      "source": [
        "# Model Accuracy Reports\n",
        "\n",
        "print(\"Accuracy:\",metrics.accuracy_score(y_test, predicted ))\n",
        "print(\"Precision:\",metrics.precision_score(y_test, predicted, average='weighted'))\n",
        "print(\"Recall:\",metrics.recall_score(y_test, predicted, average='weighted'))\n",
        "print( metrics.classification_report(y_test, predicted))"
      ],
      "execution_count": null,
      "outputs": []
    },
    {
      "cell_type": "markdown",
      "metadata": {
        "id": "G9vI9H9PqP_n",
        "colab_type": "text"
      },
      "source": [
        ""
      ]
    },
    {
      "cell_type": "code",
      "metadata": {
        "id": "IrIyBUCgqRI7",
        "colab_type": "code",
        "colab": {}
      },
      "source": [
        ""
      ],
      "execution_count": null,
      "outputs": []
    },
    {
      "cell_type": "markdown",
      "metadata": {
        "id": "zXxABNYI50mQ",
        "colab_type": "text"
      },
      "source": [
        "## NLP - Entity Analysis\n",
        " Get all Materials from Description \n"
      ]
    },
    {
      "cell_type": "markdown",
      "metadata": {
        "id": "loGBEIWdab7V",
        "colab_type": "text"
      },
      "source": [
        "#### Unique materials list"
      ]
    },
    {
      "cell_type": "code",
      "metadata": {
        "id": "BjQWe5qUaTsQ",
        "colab_type": "code",
        "colab": {}
      },
      "source": [
        "# 1. unique existing meterials list\n",
        "MATERIALS = [\n",
        "  'aardappel',\n",
        "  'abs',\n",
        "  'actieve koolstof',\n",
        "  'aluminium',\n",
        "  'anorganisch materiaal',\n",
        "  'asbest',\n",
        "  'avi-bodemas',\n",
        "  'bentoniet',\n",
        "  'bentoniet',\n",
        "  'beryllium',\n",
        "  'bier',\n",
        "  'bitumen',\n",
        "  'brandstof',\n",
        "  'brons',\n",
        "  'brood',\n",
        "  'cacao',\n",
        "  'cadmium',\n",
        "  'cadmium',\n",
        "  'cement',\n",
        "  'chloriden',\n",
        "  'chocolade',\n",
        "  'chroom',\n",
        "  'compost',\n",
        "  'cyaniden',\n",
        "  'deeg',\n",
        "  'dioxinen',\n",
        "  'epdm',\n",
        "  'epp',\n",
        "  'eps',\n",
        "  'fipronil',\n",
        "  'folie',\n",
        "  'formaline',\n",
        "  'gips',\n",
        "  'glas',\n",
        "  'glasvezel',\n",
        "  'glaswol',\n",
        "  'glycerine',\n",
        "  'glycol',\n",
        "  'gom',\n",
        "  'gras',\n",
        "  'grind',\n",
        "  'grond',\n",
        "  'hars',\n",
        "  'hdpe',\n",
        "  'hout',\n",
        "  'hydrauliek-olie',\n",
        "  'ijzer',\n",
        "  'isolatiemateriaal',\n",
        "  'jute',\n",
        "  'kaas',\n",
        "  'kalk',\n",
        "  'kalksteen',\n",
        "  'karton',\n",
        "  'keramiek',\n",
        "  'keramisch materiaal',\n",
        "  'klei',\n",
        "  'kool',\n",
        "  'koolas',\n",
        "  'koper',\n",
        "  'kraftkarton',\n",
        "  'kunststof',\n",
        "  'kurk',\n",
        "  'kwik',\n",
        "  'kymene',\n",
        "  'lavaliet',\n",
        "  'lavasteen',\n",
        "  'ldpe',\n",
        "  'lithium',\n",
        "  'lood',\n",
        "  'loog',\n",
        "  'magnesium',\n",
        "  'material',\n",
        "  'material2',\n",
        "  'material3',\n",
        "  'melamine',\n",
        "  'melasse',\n",
        "  'messing',\n",
        "  'mest',\n",
        "  'metalen',\n",
        "  'metalen',\n",
        "  'mineralen',\n",
        "  'mo',\n",
        "  'monochloorbenzeen',\n",
        "  'natriumhypochloriet',\n",
        "  'nikkel',\n",
        "  'nikkel',\n",
        "  'non-ferro',\n",
        "  'nox',\n",
        "  'nylon',\n",
        "  'ocb',\n",
        "  'olie',\n",
        "  'oil',\n",
        "  'oplosmiddelen',\n",
        "  'opp',\n",
        "  'organisch materiaal',\n",
        "  'pa',\n",
        "  'pak',\n",
        "  'papier',\n",
        "  'paraffine',\n",
        "  'pc',\n",
        "  'pcb',\n",
        "  'pcb',\n",
        "  'pak',\n",
        "  'pcfic',\n",
        "  'pe',\n",
        "  'perliet',\n",
        "  'pes',\n",
        "  'pet',\n",
        "  'pfos',\n",
        "  'plastic',\n",
        "  'pmma',\n",
        "  'polyester',\n",
        "  'pom',\n",
        "  'porselein',\n",
        "  'pp',\n",
        "  'propyleenglycol',\n",
        "  'ps',\n",
        "  'pvc',\n",
        "  'rubber',\n",
        "  'rvs',\n",
        "  'sbr',\n",
        "  'schelpen',\n",
        "  'schuimrubber',\n",
        "  'sediment',\n",
        "  'silex',\n",
        "  'silicium',\n",
        "  'sintels',\n",
        "  'siroop',\n",
        "  'slakken',\n",
        "  'slakkenwol',\n",
        "  'soja',\n",
        "  'staal',\n",
        "  'steen',\n",
        "  'steenwol',\n",
        "  'stenen',\n",
        "  'stookolie',\n",
        "  'styreen butadieen rubber',\n",
        "  'suiker',\n",
        "  'talksteen',\n",
        "  'teer',\n",
        "  'tin',\n",
        "  'turf',\n",
        "  'tyleen',\n",
        "  'ureum',\n",
        "  'vet',\n",
        "  'vetzuren',\n",
        "  'vinasse',\n",
        "  'vocl',\n",
        "  'water',\n",
        "  'wei',\n",
        "  'wijn',\n",
        "  'zand',\n",
        "  'zeoliet',\n",
        "  'zetmeel',\n",
        "  'zink',\n",
        "  'zout',\n",
        "  'zouten',\n",
        "  'zuur'\n",
        "]"
      ],
      "execution_count": null,
      "outputs": []
    },
    {
      "cell_type": "markdown",
      "metadata": {
        "id": "cVxMk48cauty",
        "colab_type": "text"
      },
      "source": [
        "#### extract unique materials "
      ]
    },
    {
      "cell_type": "code",
      "metadata": {
        "id": "qvS0jkZX-K_W",
        "colab_type": "code",
        "colab": {}
      },
      "source": [
        " !python -m spacy download nl_core_news_md"
      ],
      "execution_count": null,
      "outputs": []
    },
    {
      "cell_type": "code",
      "metadata": {
        "id": "-_qlTLewAR8x",
        "colab_type": "code",
        "colab": {}
      },
      "source": [
        "import spacy\n",
        "import re\n",
        "import string\n",
        "from spacy.lang.nl import Dutch\n",
        "import nl_core_news_md\n",
        "from spacy.lang.nl.stop_words import STOP_WORDS\n",
        "\n",
        "spacy.prefer_gpu()\n",
        "\n",
        "parser = nl_core_news_md.load()"
      ],
      "execution_count": null,
      "outputs": []
    },
    {
      "cell_type": "code",
      "metadata": {
        "id": "cgVYT1NI57qO",
        "colab_type": "code",
        "colab": {
          "base_uri": "https://localhost:8080/",
          "height": 1000
        },
        "outputId": "140ef98b-f24f-4017-b596-f4eacd544ce1"
      },
      "source": [
        "\n",
        "\n",
        "def treat_sentence(sentence):\n",
        "  sentence = str(sentence)\n",
        "  sentence = sentence.strip().lower()\n",
        "  # sentence = re.sub(r'\\d+', '', sentence) # removes numbers \n",
        "  sentence = re.sub(r'[^\\w\\s]','',sentence) # removes punctuations\n",
        "  return sentence\n",
        "\n",
        "def extract_material(doc):\n",
        "  #only material noun:    \n",
        "  index = [1] # iterate through sentence once\n",
        "  for idxValue in index:\n",
        "    \n",
        "    for token in doc:\n",
        "      if token.pos_ is 'NOUN' or token.pos_ is 'PROPN' or token.pos_ is 'INTJ':\n",
        "        # print(token, '--', token.pos_, token.lemma_, token.left_edge, token.right_edge)\n",
        "        if token.text in MATERIALS or token.lemma_ or token.left_edge in MATERIALS:\n",
        "          print('material ---------->',  token.lemma_,  '/', token.left_edge )\n",
        "\n",
        "\n",
        "def get_described_materials(row):\n",
        "  print('materials for row ->', row)\n",
        "  sentence = treat_sentence(df.iloc[row]['description'])\n",
        "  material = treat_sentence(df.iloc[row]['material'])\n",
        "  material2 = treat_sentence(df.iloc[row]['material2'])\n",
        "  doc = parser(sentence)\n",
        "  extract_material(doc)\n",
        "  print('sentence was ------>', sentence, '(material 1:', material, ', ' 'material 2:',material2, ')')\n",
        "  print()\n",
        "\n",
        "get_described_materials(311)\n",
        "get_described_materials(321)\n",
        "get_described_materials(339)\n",
        "get_described_materials(349)\n",
        "get_described_materials(359)\n",
        "get_described_materials(363)\n",
        "get_described_materials(379)\n",
        "get_described_materials(389)\n",
        "get_described_materials(397)\n",
        "\n"
      ],
      "execution_count": null,
      "outputs": [
        {
          "output_type": "stream",
          "text": [
            "materials for row -> 311\n",
            "material ----------> massa / massa\n",
            "material ----------> slib / slib\n",
            "sentence was ------> cacao massa slib (material 1: cacao , material 2: nan )\n",
            "\n",
            "materials for row -> 321\n",
            "material ----------> vot / vot\n",
            "material ----------> sigarettjti / sigarettjti\n",
            "material ----------> cjan / cjan\n",
            "material ----------> de / de\n",
            "material ----------> rijk / de\n",
            "sentence was ------> vot sigarettjti cjan de rijk (material 1: unclassified , material 2: nan )\n",
            "\n",
            "materials for row -> 339\n",
            "material ----------> mengsel / mengsels\n",
            "material ----------> beton / van\n",
            "material ----------> steen / stenen\n",
            "material ----------> tegel / stenen\n",
            "material ----------> productenof / of\n",
            "material ----------> fractie / afzonderlijke\n",
            "material ----------> stof / die\n",
            "sentence was ------> mengsels van beton stenen tegels of keramische productenof afzonderlijke fracties daarvan die gevaarl stoffen bevevatten (material 1: unclassified , material 2: nan )\n",
            "\n",
            "materials for row -> 349\n",
            "material ----------> mengsel / niet\n",
            "material ----------> beton / van\n",
            "material ----------> steen / stenen\n",
            "material ----------> tegel / stenen\n",
            "material ----------> product / of\n",
            "sentence was ------> niet onder 17 01 06 vallende mengsels van beton stenen tegels of keramische producten (material 1: unclassified , material 2: nan )\n",
            "\n",
            "materials for row -> 359\n",
            "material ----------> waswater / waswater\n",
            "material ----------> olie / plantaarfige\n",
            "sentence was ------> waswater plantaarfige olie (material 1: water , material 2: olie )\n",
            "\n",
            "materials for row -> 363\n",
            "material ----------> mengsel / niet\n",
            "material ----------> beton / van\n",
            "material ----------> steen / stenen\n",
            "material ----------> tegel / stenen\n",
            "material ----------> product / of\n",
            "sentence was ------> niet onder 170106 vallende mengsels van beton stenen tegels of keramische producten (material 1: unclassified , material 2: nan )\n",
            "\n",
            "materials for row -> 379\n",
            "material ----------> glas / glas\n",
            "material ----------> kunststof / kunststof\n",
            "material ----------> hout / en\n",
            "material ----------> stof / gevaarlijke\n",
            "material ----------> zi / zi\n",
            "sentence was ------> glas kunststof en hout die gevaarlijke stoffen bevatten of daarmee verontreinigd zi (material 1: unclassified , material 2: nan )\n",
            "\n",
            "materials for row -> 389\n",
            "material ----------> glas / glas\n",
            "material ----------> kunststof / kunststof\n",
            "material ----------> hout / en\n",
            "material ----------> stof / die\n",
            "sentence was ------> glas kunststof en hout die gevaarlijke stoffen be (material 1: unclassified , material 2: nan )\n",
            "\n",
            "materials for row -> 397\n",
            "material ----------> sojadroe / sojadroes\n",
            "sentence was ------> sojadroes (material 1: organisch materiaal , material 2: olie )\n",
            "\n"
          ],
          "name": "stdout"
        }
      ]
    },
    {
      "cell_type": "markdown",
      "metadata": {
        "id": "ZzMDIQC3v_Cn",
        "colab_type": "text"
      },
      "source": [
        "### Dependency Parsing\n",
        "\n",
        "Depenency parsing is a language processing technique that allows us to better determine the meaning of a sentence by analyzing how it’s constructed to determine how the individual words relate to each other."
      ]
    },
    {
      "cell_type": "code",
      "metadata": {
        "id": "C_5vbCettOKA",
        "colab_type": "code",
        "colab": {
          "base_uri": "https://localhost:8080/",
          "height": 633
        },
        "outputId": "a2105ee9-d94d-4166-fd85-eeaef315ee2f"
      },
      "source": [
        "# Visualize Entities\n",
        "from spacy import displacy\n",
        "\n",
        "row = 339\n",
        "print( doc)\n",
        "description = str(df.iloc[row]['description'])\n",
        "doc = parser(description)\n",
        "\n",
        "displacy.render(doc, style=\"dep\", jupyter= True)\n"
      ],
      "execution_count": null,
      "outputs": [
        {
          "output_type": "stream",
          "text": [
            "mengsels van beton, stenen, tegels of keramische producten,of afzonderlijke fracties daarvan, die gevaarl. stoffen bev.evatten\n"
          ],
          "name": "stdout"
        },
        {
          "output_type": "display_data",
          "data": {
            "text/html": [
              "<span class=\"tex2jax_ignore\"><svg xmlns=\"http://www.w3.org/2000/svg\" xmlns:xlink=\"http://www.w3.org/1999/xlink\" xml:lang=\"nl\" id=\"faadc96d36314decab3dd9fa3b8462f2-0\" class=\"displacy\" width=\"2850\" height=\"574.5\" direction=\"ltr\" style=\"max-width: none; height: 574.5px; color: #000000; background: #ffffff; font-family: Arial; direction: ltr\">\n",
              "<text class=\"displacy-token\" fill=\"currentColor\" text-anchor=\"middle\" y=\"484.5\">\n",
              "    <tspan class=\"displacy-word\" fill=\"currentColor\" x=\"50\">mengsels</tspan>\n",
              "    <tspan class=\"displacy-tag\" dy=\"2em\" fill=\"currentColor\" x=\"50\">NOUN</tspan>\n",
              "</text>\n",
              "\n",
              "<text class=\"displacy-token\" fill=\"currentColor\" text-anchor=\"middle\" y=\"484.5\">\n",
              "    <tspan class=\"displacy-word\" fill=\"currentColor\" x=\"225\">van</tspan>\n",
              "    <tspan class=\"displacy-tag\" dy=\"2em\" fill=\"currentColor\" x=\"225\">ADP</tspan>\n",
              "</text>\n",
              "\n",
              "<text class=\"displacy-token\" fill=\"currentColor\" text-anchor=\"middle\" y=\"484.5\">\n",
              "    <tspan class=\"displacy-word\" fill=\"currentColor\" x=\"400\">beton,</tspan>\n",
              "    <tspan class=\"displacy-tag\" dy=\"2em\" fill=\"currentColor\" x=\"400\">PROPN</tspan>\n",
              "</text>\n",
              "\n",
              "<text class=\"displacy-token\" fill=\"currentColor\" text-anchor=\"middle\" y=\"484.5\">\n",
              "    <tspan class=\"displacy-word\" fill=\"currentColor\" x=\"575\">stenen,</tspan>\n",
              "    <tspan class=\"displacy-tag\" dy=\"2em\" fill=\"currentColor\" x=\"575\">NOUN</tspan>\n",
              "</text>\n",
              "\n",
              "<text class=\"displacy-token\" fill=\"currentColor\" text-anchor=\"middle\" y=\"484.5\">\n",
              "    <tspan class=\"displacy-word\" fill=\"currentColor\" x=\"750\">tegels</tspan>\n",
              "    <tspan class=\"displacy-tag\" dy=\"2em\" fill=\"currentColor\" x=\"750\">NOUN</tspan>\n",
              "</text>\n",
              "\n",
              "<text class=\"displacy-token\" fill=\"currentColor\" text-anchor=\"middle\" y=\"484.5\">\n",
              "    <tspan class=\"displacy-word\" fill=\"currentColor\" x=\"925\">of</tspan>\n",
              "    <tspan class=\"displacy-tag\" dy=\"2em\" fill=\"currentColor\" x=\"925\">CCONJ</tspan>\n",
              "</text>\n",
              "\n",
              "<text class=\"displacy-token\" fill=\"currentColor\" text-anchor=\"middle\" y=\"484.5\">\n",
              "    <tspan class=\"displacy-word\" fill=\"currentColor\" x=\"1100\">keramische</tspan>\n",
              "    <tspan class=\"displacy-tag\" dy=\"2em\" fill=\"currentColor\" x=\"1100\">ADJ</tspan>\n",
              "</text>\n",
              "\n",
              "<text class=\"displacy-token\" fill=\"currentColor\" text-anchor=\"middle\" y=\"484.5\">\n",
              "    <tspan class=\"displacy-word\" fill=\"currentColor\" x=\"1275\">producten,</tspan>\n",
              "    <tspan class=\"displacy-tag\" dy=\"2em\" fill=\"currentColor\" x=\"1275\">NOUN</tspan>\n",
              "</text>\n",
              "\n",
              "<text class=\"displacy-token\" fill=\"currentColor\" text-anchor=\"middle\" y=\"484.5\">\n",
              "    <tspan class=\"displacy-word\" fill=\"currentColor\" x=\"1450\">of</tspan>\n",
              "    <tspan class=\"displacy-tag\" dy=\"2em\" fill=\"currentColor\" x=\"1450\">CCONJ</tspan>\n",
              "</text>\n",
              "\n",
              "<text class=\"displacy-token\" fill=\"currentColor\" text-anchor=\"middle\" y=\"484.5\">\n",
              "    <tspan class=\"displacy-word\" fill=\"currentColor\" x=\"1625\">afzonderlijke</tspan>\n",
              "    <tspan class=\"displacy-tag\" dy=\"2em\" fill=\"currentColor\" x=\"1625\">ADJ</tspan>\n",
              "</text>\n",
              "\n",
              "<text class=\"displacy-token\" fill=\"currentColor\" text-anchor=\"middle\" y=\"484.5\">\n",
              "    <tspan class=\"displacy-word\" fill=\"currentColor\" x=\"1800\">fracties</tspan>\n",
              "    <tspan class=\"displacy-tag\" dy=\"2em\" fill=\"currentColor\" x=\"1800\">NOUN</tspan>\n",
              "</text>\n",
              "\n",
              "<text class=\"displacy-token\" fill=\"currentColor\" text-anchor=\"middle\" y=\"484.5\">\n",
              "    <tspan class=\"displacy-word\" fill=\"currentColor\" x=\"1975\">daarvan,</tspan>\n",
              "    <tspan class=\"displacy-tag\" dy=\"2em\" fill=\"currentColor\" x=\"1975\">ADV</tspan>\n",
              "</text>\n",
              "\n",
              "<text class=\"displacy-token\" fill=\"currentColor\" text-anchor=\"middle\" y=\"484.5\">\n",
              "    <tspan class=\"displacy-word\" fill=\"currentColor\" x=\"2150\">die</tspan>\n",
              "    <tspan class=\"displacy-tag\" dy=\"2em\" fill=\"currentColor\" x=\"2150\">PRON</tspan>\n",
              "</text>\n",
              "\n",
              "<text class=\"displacy-token\" fill=\"currentColor\" text-anchor=\"middle\" y=\"484.5\">\n",
              "    <tspan class=\"displacy-word\" fill=\"currentColor\" x=\"2325\">gevaarl.</tspan>\n",
              "    <tspan class=\"displacy-tag\" dy=\"2em\" fill=\"currentColor\" x=\"2325\">ADJ</tspan>\n",
              "</text>\n",
              "\n",
              "<text class=\"displacy-token\" fill=\"currentColor\" text-anchor=\"middle\" y=\"484.5\">\n",
              "    <tspan class=\"displacy-word\" fill=\"currentColor\" x=\"2500\">stoffen</tspan>\n",
              "    <tspan class=\"displacy-tag\" dy=\"2em\" fill=\"currentColor\" x=\"2500\">NOUN</tspan>\n",
              "</text>\n",
              "\n",
              "<text class=\"displacy-token\" fill=\"currentColor\" text-anchor=\"middle\" y=\"484.5\">\n",
              "    <tspan class=\"displacy-word\" fill=\"currentColor\" x=\"2675\">bev.evatten</tspan>\n",
              "    <tspan class=\"displacy-tag\" dy=\"2em\" fill=\"currentColor\" x=\"2675\">NOUN</tspan>\n",
              "</text>\n",
              "\n",
              "<g class=\"displacy-arrow\">\n",
              "    <path class=\"displacy-arc\" id=\"arrow-faadc96d36314decab3dd9fa3b8462f2-0-0\" stroke-width=\"2px\" d=\"M245,439.5 C245,352.0 380.0,352.0 380.0,439.5\" fill=\"none\" stroke=\"currentColor\"/>\n",
              "    <text dy=\"1.25em\" style=\"font-size: 0.8em; letter-spacing: 1px\">\n",
              "        <textPath xlink:href=\"#arrow-faadc96d36314decab3dd9fa3b8462f2-0-0\" class=\"displacy-label\" startOffset=\"50%\" side=\"left\" fill=\"currentColor\" text-anchor=\"middle\">case</textPath>\n",
              "    </text>\n",
              "    <path class=\"displacy-arrowhead\" d=\"M245,441.5 L237,429.5 253,429.5\" fill=\"currentColor\"/>\n",
              "</g>\n",
              "\n",
              "<g class=\"displacy-arrow\">\n",
              "    <path class=\"displacy-arc\" id=\"arrow-faadc96d36314decab3dd9fa3b8462f2-0-1\" stroke-width=\"2px\" d=\"M70,439.5 C70,264.5 385.0,264.5 385.0,439.5\" fill=\"none\" stroke=\"currentColor\"/>\n",
              "    <text dy=\"1.25em\" style=\"font-size: 0.8em; letter-spacing: 1px\">\n",
              "        <textPath xlink:href=\"#arrow-faadc96d36314decab3dd9fa3b8462f2-0-1\" class=\"displacy-label\" startOffset=\"50%\" side=\"left\" fill=\"currentColor\" text-anchor=\"middle\">nmod</textPath>\n",
              "    </text>\n",
              "    <path class=\"displacy-arrowhead\" d=\"M385.0,441.5 L393.0,429.5 377.0,429.5\" fill=\"currentColor\"/>\n",
              "</g>\n",
              "\n",
              "<g class=\"displacy-arrow\">\n",
              "    <path class=\"displacy-arc\" id=\"arrow-faadc96d36314decab3dd9fa3b8462f2-0-2\" stroke-width=\"2px\" d=\"M420,439.5 C420,352.0 555.0,352.0 555.0,439.5\" fill=\"none\" stroke=\"currentColor\"/>\n",
              "    <text dy=\"1.25em\" style=\"font-size: 0.8em; letter-spacing: 1px\">\n",
              "        <textPath xlink:href=\"#arrow-faadc96d36314decab3dd9fa3b8462f2-0-2\" class=\"displacy-label\" startOffset=\"50%\" side=\"left\" fill=\"currentColor\" text-anchor=\"middle\">conj</textPath>\n",
              "    </text>\n",
              "    <path class=\"displacy-arrowhead\" d=\"M555.0,441.5 L563.0,429.5 547.0,429.5\" fill=\"currentColor\"/>\n",
              "</g>\n",
              "\n",
              "<g class=\"displacy-arrow\">\n",
              "    <path class=\"displacy-arc\" id=\"arrow-faadc96d36314decab3dd9fa3b8462f2-0-3\" stroke-width=\"2px\" d=\"M420,439.5 C420,264.5 735.0,264.5 735.0,439.5\" fill=\"none\" stroke=\"currentColor\"/>\n",
              "    <text dy=\"1.25em\" style=\"font-size: 0.8em; letter-spacing: 1px\">\n",
              "        <textPath xlink:href=\"#arrow-faadc96d36314decab3dd9fa3b8462f2-0-3\" class=\"displacy-label\" startOffset=\"50%\" side=\"left\" fill=\"currentColor\" text-anchor=\"middle\">conj</textPath>\n",
              "    </text>\n",
              "    <path class=\"displacy-arrowhead\" d=\"M735.0,441.5 L743.0,429.5 727.0,429.5\" fill=\"currentColor\"/>\n",
              "</g>\n",
              "\n",
              "<g class=\"displacy-arrow\">\n",
              "    <path class=\"displacy-arc\" id=\"arrow-faadc96d36314decab3dd9fa3b8462f2-0-4\" stroke-width=\"2px\" d=\"M945,439.5 C945,264.5 1260.0,264.5 1260.0,439.5\" fill=\"none\" stroke=\"currentColor\"/>\n",
              "    <text dy=\"1.25em\" style=\"font-size: 0.8em; letter-spacing: 1px\">\n",
              "        <textPath xlink:href=\"#arrow-faadc96d36314decab3dd9fa3b8462f2-0-4\" class=\"displacy-label\" startOffset=\"50%\" side=\"left\" fill=\"currentColor\" text-anchor=\"middle\">cc</textPath>\n",
              "    </text>\n",
              "    <path class=\"displacy-arrowhead\" d=\"M945,441.5 L937,429.5 953,429.5\" fill=\"currentColor\"/>\n",
              "</g>\n",
              "\n",
              "<g class=\"displacy-arrow\">\n",
              "    <path class=\"displacy-arc\" id=\"arrow-faadc96d36314decab3dd9fa3b8462f2-0-5\" stroke-width=\"2px\" d=\"M1120,439.5 C1120,352.0 1255.0,352.0 1255.0,439.5\" fill=\"none\" stroke=\"currentColor\"/>\n",
              "    <text dy=\"1.25em\" style=\"font-size: 0.8em; letter-spacing: 1px\">\n",
              "        <textPath xlink:href=\"#arrow-faadc96d36314decab3dd9fa3b8462f2-0-5\" class=\"displacy-label\" startOffset=\"50%\" side=\"left\" fill=\"currentColor\" text-anchor=\"middle\">amod</textPath>\n",
              "    </text>\n",
              "    <path class=\"displacy-arrowhead\" d=\"M1120,441.5 L1112,429.5 1128,429.5\" fill=\"currentColor\"/>\n",
              "</g>\n",
              "\n",
              "<g class=\"displacy-arrow\">\n",
              "    <path class=\"displacy-arc\" id=\"arrow-faadc96d36314decab3dd9fa3b8462f2-0-6\" stroke-width=\"2px\" d=\"M420,439.5 C420,89.5 1270.0,89.5 1270.0,439.5\" fill=\"none\" stroke=\"currentColor\"/>\n",
              "    <text dy=\"1.25em\" style=\"font-size: 0.8em; letter-spacing: 1px\">\n",
              "        <textPath xlink:href=\"#arrow-faadc96d36314decab3dd9fa3b8462f2-0-6\" class=\"displacy-label\" startOffset=\"50%\" side=\"left\" fill=\"currentColor\" text-anchor=\"middle\">conj</textPath>\n",
              "    </text>\n",
              "    <path class=\"displacy-arrowhead\" d=\"M1270.0,441.5 L1278.0,429.5 1262.0,429.5\" fill=\"currentColor\"/>\n",
              "</g>\n",
              "\n",
              "<g class=\"displacy-arrow\">\n",
              "    <path class=\"displacy-arc\" id=\"arrow-faadc96d36314decab3dd9fa3b8462f2-0-7\" stroke-width=\"2px\" d=\"M1470,439.5 C1470,264.5 1785.0,264.5 1785.0,439.5\" fill=\"none\" stroke=\"currentColor\"/>\n",
              "    <text dy=\"1.25em\" style=\"font-size: 0.8em; letter-spacing: 1px\">\n",
              "        <textPath xlink:href=\"#arrow-faadc96d36314decab3dd9fa3b8462f2-0-7\" class=\"displacy-label\" startOffset=\"50%\" side=\"left\" fill=\"currentColor\" text-anchor=\"middle\">cc</textPath>\n",
              "    </text>\n",
              "    <path class=\"displacy-arrowhead\" d=\"M1470,441.5 L1462,429.5 1478,429.5\" fill=\"currentColor\"/>\n",
              "</g>\n",
              "\n",
              "<g class=\"displacy-arrow\">\n",
              "    <path class=\"displacy-arc\" id=\"arrow-faadc96d36314decab3dd9fa3b8462f2-0-8\" stroke-width=\"2px\" d=\"M1645,439.5 C1645,352.0 1780.0,352.0 1780.0,439.5\" fill=\"none\" stroke=\"currentColor\"/>\n",
              "    <text dy=\"1.25em\" style=\"font-size: 0.8em; letter-spacing: 1px\">\n",
              "        <textPath xlink:href=\"#arrow-faadc96d36314decab3dd9fa3b8462f2-0-8\" class=\"displacy-label\" startOffset=\"50%\" side=\"left\" fill=\"currentColor\" text-anchor=\"middle\">amod</textPath>\n",
              "    </text>\n",
              "    <path class=\"displacy-arrowhead\" d=\"M1645,441.5 L1637,429.5 1653,429.5\" fill=\"currentColor\"/>\n",
              "</g>\n",
              "\n",
              "<g class=\"displacy-arrow\">\n",
              "    <path class=\"displacy-arc\" id=\"arrow-faadc96d36314decab3dd9fa3b8462f2-0-9\" stroke-width=\"2px\" d=\"M420,439.5 C420,2.0 1800.0,2.0 1800.0,439.5\" fill=\"none\" stroke=\"currentColor\"/>\n",
              "    <text dy=\"1.25em\" style=\"font-size: 0.8em; letter-spacing: 1px\">\n",
              "        <textPath xlink:href=\"#arrow-faadc96d36314decab3dd9fa3b8462f2-0-9\" class=\"displacy-label\" startOffset=\"50%\" side=\"left\" fill=\"currentColor\" text-anchor=\"middle\">conj</textPath>\n",
              "    </text>\n",
              "    <path class=\"displacy-arrowhead\" d=\"M1800.0,441.5 L1808.0,429.5 1792.0,429.5\" fill=\"currentColor\"/>\n",
              "</g>\n",
              "\n",
              "<g class=\"displacy-arrow\">\n",
              "    <path class=\"displacy-arc\" id=\"arrow-faadc96d36314decab3dd9fa3b8462f2-0-10\" stroke-width=\"2px\" d=\"M1820,439.5 C1820,352.0 1955.0,352.0 1955.0,439.5\" fill=\"none\" stroke=\"currentColor\"/>\n",
              "    <text dy=\"1.25em\" style=\"font-size: 0.8em; letter-spacing: 1px\">\n",
              "        <textPath xlink:href=\"#arrow-faadc96d36314decab3dd9fa3b8462f2-0-10\" class=\"displacy-label\" startOffset=\"50%\" side=\"left\" fill=\"currentColor\" text-anchor=\"middle\">amod</textPath>\n",
              "    </text>\n",
              "    <path class=\"displacy-arrowhead\" d=\"M1955.0,441.5 L1963.0,429.5 1947.0,429.5\" fill=\"currentColor\"/>\n",
              "</g>\n",
              "\n",
              "<g class=\"displacy-arrow\">\n",
              "    <path class=\"displacy-arc\" id=\"arrow-faadc96d36314decab3dd9fa3b8462f2-0-11\" stroke-width=\"2px\" d=\"M2170,439.5 C2170,352.0 2305.0,352.0 2305.0,439.5\" fill=\"none\" stroke=\"currentColor\"/>\n",
              "    <text dy=\"1.25em\" style=\"font-size: 0.8em; letter-spacing: 1px\">\n",
              "        <textPath xlink:href=\"#arrow-faadc96d36314decab3dd9fa3b8462f2-0-11\" class=\"displacy-label\" startOffset=\"50%\" side=\"left\" fill=\"currentColor\" text-anchor=\"middle\">obj</textPath>\n",
              "    </text>\n",
              "    <path class=\"displacy-arrowhead\" d=\"M2170,441.5 L2162,429.5 2178,429.5\" fill=\"currentColor\"/>\n",
              "</g>\n",
              "\n",
              "<g class=\"displacy-arrow\">\n",
              "    <path class=\"displacy-arc\" id=\"arrow-faadc96d36314decab3dd9fa3b8462f2-0-12\" stroke-width=\"2px\" d=\"M1820,439.5 C1820,177.0 2315.0,177.0 2315.0,439.5\" fill=\"none\" stroke=\"currentColor\"/>\n",
              "    <text dy=\"1.25em\" style=\"font-size: 0.8em; letter-spacing: 1px\">\n",
              "        <textPath xlink:href=\"#arrow-faadc96d36314decab3dd9fa3b8462f2-0-12\" class=\"displacy-label\" startOffset=\"50%\" side=\"left\" fill=\"currentColor\" text-anchor=\"middle\">acl:relcl</textPath>\n",
              "    </text>\n",
              "    <path class=\"displacy-arrowhead\" d=\"M2315.0,441.5 L2323.0,429.5 2307.0,429.5\" fill=\"currentColor\"/>\n",
              "</g>\n",
              "\n",
              "<g class=\"displacy-arrow\">\n",
              "    <path class=\"displacy-arc\" id=\"arrow-faadc96d36314decab3dd9fa3b8462f2-0-13\" stroke-width=\"2px\" d=\"M2520,439.5 C2520,352.0 2655.0,352.0 2655.0,439.5\" fill=\"none\" stroke=\"currentColor\"/>\n",
              "    <text dy=\"1.25em\" style=\"font-size: 0.8em; letter-spacing: 1px\">\n",
              "        <textPath xlink:href=\"#arrow-faadc96d36314decab3dd9fa3b8462f2-0-13\" class=\"displacy-label\" startOffset=\"50%\" side=\"left\" fill=\"currentColor\" text-anchor=\"middle\">appos</textPath>\n",
              "    </text>\n",
              "    <path class=\"displacy-arrowhead\" d=\"M2655.0,441.5 L2663.0,429.5 2647.0,429.5\" fill=\"currentColor\"/>\n",
              "</g>\n",
              "</svg></span>"
            ],
            "text/plain": [
              "<IPython.core.display.HTML object>"
            ]
          },
          "metadata": {
            "tags": []
          }
        }
      ]
    },
    {
      "cell_type": "markdown",
      "metadata": {
        "id": "Nhz6d3o2qQcC",
        "colab_type": "text"
      },
      "source": [
        ""
      ]
    },
    {
      "cell_type": "markdown",
      "metadata": {
        "id": "IKZVwKfRB2_s",
        "colab_type": "text"
      },
      "source": [
        "### **Plotting the Classification Outcomes (description and material dependencies)**"
      ]
    },
    {
      "cell_type": "code",
      "metadata": {
        "id": "80cYKSKZ6buv",
        "colab_type": "code",
        "colab": {}
      },
      "source": [
        "import seaborn as sns\n",
        "import matplotlib.pyplot as plt\n",
        "\n",
        "df = materials_test\n",
        "\n",
        "#chosen column field option\n",
        "chosen_material = 'slakken'\n",
        "chosen_mixedOrPure = 'puur'\n",
        "chosen_consistency = 'vast'\n",
        "chosen_cleanOrDirty = 'vervuild'\n",
        "chosen_indirectProduct = 'slib'\n",
        "\n",
        "# set graph: \n",
        "outcome = chosen_indirectProduct\n",
        "x_axis = 'indirectProduct'\n",
        "x_data = df.indirectProduct\n",
        "\n",
        "data = df.head(120).loc[x_data ==outcome]\n",
        "sns.set_style('ticks')\n",
        "fig, ax = plt.subplots()\n",
        "fig.set_size_inches(1, 15)\n",
        "sns.regplot(x=x_axis, y='description', data=data, ax=ax)\n"
      ],
      "execution_count": null,
      "outputs": []
    },
    {
      "cell_type": "markdown",
      "metadata": {
        "id": "63n1R2sKqOwN",
        "colab_type": "text"
      },
      "source": [
        ""
      ]
    },
    {
      "cell_type": "markdown",
      "metadata": {
        "id": "y09ArjcybW_m",
        "colab_type": "text"
      },
      "source": [
        "### **Save & Load the Trained Model**"
      ]
    },
    {
      "cell_type": "code",
      "metadata": {
        "id": "3If8bcW4__7g",
        "colab_type": "code",
        "colab": {}
      },
      "source": [
        "import pickle\n",
        "\n",
        "# save the model to disk\n",
        "name = 'nl_mType_classification_model.sav'\n",
        "filename = path + name\n",
        "pickle.dump(model, open(filename, 'wb'))\n",
        " "
      ],
      "execution_count": null,
      "outputs": []
    },
    {
      "cell_type": "code",
      "metadata": {
        "id": "rBq2mTdS_VIV",
        "colab_type": "code",
        "colab": {
          "base_uri": "https://localhost:8080/",
          "height": 1000
        },
        "outputId": "32008f67-a2d6-4a07-bff0-cd77b1ee5fa0"
      },
      "source": [
        "#load models\n",
        "import pickle\n",
        "cType_name = 'nl_c_type_classification_model.sav'\n",
        "cleanOrDirty_name = 'nl_clean_or_dirty_classification_model.sav'\n",
        "consistency_name = 'nl_consistency_classification_model.sav'\n",
        "composite1_name = 'nl_composite1_classification_model.sav'\n",
        "directProduct_name = 'nl_direct_product_classification_model.sav'\n",
        "indirectProduct_name = 'nl_indirect_product_classification_model.sav'\n",
        "material_name = 'nl_material_classification_model.sav'\n",
        "mixedOrPure_name = 'nl_mixed_or_pure_classification_model.sav'\n",
        "mType_name = 'nl_mType_classification_model.sav'\n",
        "state_name = 'nl_state_classification_model.sav'\n",
        "\n",
        "state_model = pickle.load(open(path + state_name, 'rb'))\n",
        "cType_model = pickle.load(open(path + cType_name, 'rb'))\n",
        "cleanOrDirty_model = pickle.load(open(path + cleanOrDirty_name, 'rb'))\n",
        "consistency_model = pickle.load(open(path + consistency_name, 'rb'))\n",
        "composite1_model = pickle.load(open(path + composite1_name, 'rb'))\n",
        "directProduct_model = pickle.load(open(path + directProduct_name, 'rb'))\n",
        "indirectProduct_model = pickle.load(open(path + indirectProduct_name, 'rb'))\n",
        "material_model = pickle.load(open(path + material_name, 'rb'))\n",
        "mixedOrPure_model = pickle.load(open(path + mixedOrPure_name, 'rb'))\n",
        "mType_model = pickle.load(open(path + mType_name, 'rb'))\n",
        "\n",
        "#models' classifications \n",
        "# overal_score = _model.score(X_test, y_test)\n",
        "row = 7\n",
        "\n",
        "def print_classification_results(row=0, with_accuracy=False):\n",
        "  print('row', row)\n",
        "  print( 'description is --->', X_test.iloc[row])\n",
        "  print( 'cType ------------>', cType_model.predict(X_test)[row], '(low samples / mostly unclassified)' if with_accuracy else '')\n",
        "  print( 'clean or dirty --->', cleanOrDirty_model.predict(X_test)[row], '(OMS: 0.79)' if with_accuracy else '')\n",
        "  print( 'consistency ------>', consistency_model.predict(X_test)[row], '(OMS: 0.96)' if with_accuracy else '')\n",
        "  print( 'composite 1 ------>', composite1_model.predict(X_test)[row], '(OMS: 0.78)' if with_accuracy else '')\n",
        "  print( 'direct product --->', directProduct_model.predict(X_test)[row], '(OMS: 0.71)' if with_accuracy else '')\n",
        "  print( 'indirect product ->', indirectProduct_model.predict(X_test)[row],'(low samples / mostly unclassified)' if with_accuracy else '')\n",
        "  print( 'material --------->', material_model.predict(X_test)[row], '(OMS: 0.85)'if with_accuracy else '')\n",
        "  print( 'state ------------>', state_model.predict(X_test)[row], '(OMS: 0.82)'if with_accuracy else '')\n",
        "  print( 'mixed or pure ---->', mixedOrPure_model.predict(X_test)[row],'OMS: 0.86)'if with_accuracy else '')\n",
        "  print( 'm type ----------->', mType_model.predict(X_test)[row],'(low samples / mostly unclassified)'if with_accuracy else '')\n",
        "  print()\n",
        "\n",
        "print_classification_results(row+1, with_accuracy=True)\n",
        "print_classification_results(row+2)\n",
        "print_classification_results(row+3)\n",
        "print_classification_results(row+4)\n",
        "print_classification_results(row+5)\n",
        "print_classification_results(row+6)"
      ],
      "execution_count": null,
      "outputs": [
        {
          "output_type": "stream",
          "text": [
            "row 8\n",
            "description is ---> Elektronika\n",
            "cType ------------> unclassified (low samples / mostly unclassified)\n",
            "clean or dirty ---> unclassified (OMS: 0.79)\n",
            "consistency ------> vast (OMS: 0.96)\n",
            "composite 1 ------> composiet (OMS: 0.78)\n",
            "direct product ---> unclassified (OMS: 0.71)\n",
            "indirect product -> composiet (low samples / mostly unclassified)\n",
            "material ---------> unclassified (OMS: 0.85)\n",
            "state ------------> unclassified (OMS: 0.82)\n",
            "mixed or pure ----> gemengd OMS: 0.86)\n",
            "m type -----------> unclassified (low samples / mostly unclassified)\n",
            "\n",
            "row 9\n",
            "description is ---> Grond zonder analyses\n",
            "cType ------------> unclassified \n",
            "clean or dirty ---> unclassified \n",
            "consistency ------> vast \n",
            "composite 1 ------> unclassified \n",
            "direct product ---> unclassified \n",
            "indirect product -> grond \n",
            "material ---------> grond \n",
            "state ------------> unclassified \n",
            "mixed or pure ----> gemengd \n",
            "m type -----------> unclassified \n",
            "\n",
            "row 10\n",
            "description is ---> Baggerspecie stort(asbesthoudend)\n",
            "cType ------------> unclassified \n",
            "clean or dirty ---> vervuild \n",
            "consistency ------> slurry \n",
            "composite 1 ------> bagger \n",
            "direct product ---> unclassified \n",
            "indirect product -> unclassified \n",
            "material ---------> asbest \n",
            "state ------------> unclassified \n",
            "mixed or pure ----> gemengd \n",
            "m type -----------> unclassified \n",
            "\n",
            "row 11\n",
            "description is ---> Flesglas\n",
            "cType ------------> unclassified \n",
            "clean or dirty ---> unclassified \n",
            "consistency ------> vast \n",
            "composite 1 ------> unclassified \n",
            "direct product ---> unclassified \n",
            "indirect product -> unclassified \n",
            "material ---------> unclassified \n",
            "state ------------> unclassified \n",
            "mixed or pure ----> puur \n",
            "m type -----------> unclassified \n",
            "\n",
            "row 12\n",
            "description is ---> gemengd- en containerpuin  &amp;lt; 70 cm\n",
            "cType ------------> gemengd \n",
            "clean or dirty ---> unclassified \n",
            "consistency ------> vast \n",
            "composite 1 ------> puin \n",
            "direct product ---> unclassified \n",
            "indirect product -> puin \n",
            "material ---------> unclassified \n",
            "state ------------> puin \n",
            "mixed or pure ----> gemengd \n",
            "m type -----------> unclassified \n",
            "\n",
            "row 13\n",
            "description is ---> Zand klei licht verontreinigd\n",
            "cType ------------> unclassified \n",
            "clean or dirty ---> vervuild \n",
            "consistency ------> vast \n",
            "composite 1 ------> unclassified \n",
            "direct product ---> unclassified \n",
            "indirect product -> unclassified \n",
            "material ---------> grond \n",
            "state ------------> unclassified \n",
            "mixed or pure ----> gemengd \n",
            "m type -----------> kleigrond, zandgrond \n",
            "\n"
          ],
          "name": "stdout"
        }
      ]
    }
  ]
}