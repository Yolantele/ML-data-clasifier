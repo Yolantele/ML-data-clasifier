{
  "nbformat": 4,
  "nbformat_minor": 0,
  "metadata": {
    "kernelspec": {
      "name": "python3",
      "display_name": "Python 3"
    },
    "colab": {
      "name": "tabular_neural_net_classification_model.ipynb",
      "provenance": [],
      "collapsed_sections": [],
      "include_colab_link": true
    },
    "accelerator": "GPU"
  },
  "cells": [
    {
      "cell_type": "markdown",
      "metadata": {
        "id": "view-in-github",
        "colab_type": "text"
      },
      "source": [
        "<a href=\"https://colab.research.google.com/github/Yolantele/ML-data-clasifier/blob/master/tabular_neural_net_classification_model.ipynb\" target=\"_parent\"><img src=\"https://colab.research.google.com/assets/colab-badge.svg\" alt=\"Open In Colab\"/></a>"
      ]
    },
    {
      "cell_type": "markdown",
      "metadata": {
        "id": "Mq9mdOq-LTwZ",
        "colab_type": "text"
      },
      "source": [
        "# Tabular Model For Waste Data Classification\n"
      ]
    },
    {
      "cell_type": "code",
      "metadata": {
        "id": "awLR-e3yMIwh",
        "colab_type": "code",
        "colab": {}
      },
      "source": [
        "%reload_ext autoreload\n",
        "%autoreload 2\n",
        "%matplotlib inline"
      ],
      "execution_count": 0,
      "outputs": []
    },
    {
      "cell_type": "code",
      "metadata": {
        "id": "K6dGchfdLTwa",
        "colab_type": "code",
        "colab": {}
      },
      "source": [
        "from fastai import *\n",
        "from fastai.tabular import *"
      ],
      "execution_count": 0,
      "outputs": []
    },
    {
      "cell_type": "markdown",
      "metadata": {
        "id": "LxUm22wWLTwd",
        "colab_type": "text"
      },
      "source": [
        "Tabular data should be in a Pandas `DataFrame`.\n",
        "df - data_frame"
      ]
    },
    {
      "cell_type": "code",
      "metadata": {
        "id": "Ep9XMVpgbAyD",
        "colab_type": "code",
        "colab": {}
      },
      "source": [
        "# mount to google drive and load files\n",
        "from google.colab import drive\n",
        "drive.mount('/content/drive')\n"
      ],
      "execution_count": 0,
      "outputs": []
    },
    {
      "cell_type": "code",
      "metadata": {
        "id": "o-N4-XeubRJ-",
        "colab_type": "code",
        "outputId": "cc39476c-4bda-491d-8cd8-7467fa823c15",
        "colab": {
          "base_uri": "https://localhost:8080/",
          "height": 34
        }
      },
      "source": [
        "# check file is loaded OK\n",
        "path = '/content/drive/My Drive/data/'\n",
        "print(path)"
      ],
      "execution_count": 4,
      "outputs": [
        {
          "output_type": "stream",
          "text": [
            "/content/drive/My Drive/data/\n"
          ],
          "name": "stdout"
        }
      ]
    },
    {
      "cell_type": "code",
      "metadata": {
        "id": "Y9lSvmBjLTwd",
        "colab_type": "code",
        "outputId": "c548c0dd-e89c-4f22-d970-a657edbcbaa0",
        "colab": {
          "base_uri": "https://localhost:8080/",
          "height": 360
        }
      },
      "source": [
        "# load train data frame\n",
        "# todo: 1. iterate through nl data and export only with material, eural code fields\n",
        "#  then translate to en. this will increase train and test data sets and include missing material categories that appear in validation set\n",
        "train_file = '/enMaterialData.csv'\n",
        "df = pd.read_csv(path + train_file)\n",
        "\n",
        "\n",
        "\n",
        "# load test data frame with material field empty\n",
        "test_df = pd.read_csv(path + '/enWithoutMaterialData.csv')\n",
        "\n",
        "df.head()"
      ],
      "execution_count": 77,
      "outputs": [
        {
          "output_type": "execute_result",
          "data": {
            "text/html": [
              "<div>\n",
              "<style scoped>\n",
              "    .dataframe tbody tr th:only-of-type {\n",
              "        vertical-align: middle;\n",
              "    }\n",
              "\n",
              "    .dataframe tbody tr th {\n",
              "        vertical-align: top;\n",
              "    }\n",
              "\n",
              "    .dataframe thead th {\n",
              "        text-align: right;\n",
              "    }\n",
              "</style>\n",
              "<table border=\"1\" class=\"dataframe\">\n",
              "  <thead>\n",
              "    <tr style=\"text-align: right;\">\n",
              "      <th></th>\n",
              "      <th>reason</th>\n",
              "      <th>origin</th>\n",
              "      <th>color</th>\n",
              "      <th>state</th>\n",
              "      <th>size</th>\n",
              "      <th>consistency</th>\n",
              "      <th>otherCode</th>\n",
              "      <th>material4</th>\n",
              "      <th>material3</th>\n",
              "      <th>material2</th>\n",
              "      <th>material</th>\n",
              "      <th>mType</th>\n",
              "      <th>composite2</th>\n",
              "      <th>composite1</th>\n",
              "      <th>cType</th>\n",
              "      <th>indirectProduct</th>\n",
              "      <th>directProduct</th>\n",
              "      <th>pType</th>\n",
              "      <th>mixedOrPure</th>\n",
              "      <th>cleanOrDirty</th>\n",
              "      <th>euralDescription</th>\n",
              "      <th>euralCode</th>\n",
              "      <th>description</th>\n",
              "      <th>/0</th>\n",
              "    </tr>\n",
              "  </thead>\n",
              "  <tbody>\n",
              "    <tr>\n",
              "      <th>0</th>\n",
              "      <td>NaN</td>\n",
              "      <td>NaN</td>\n",
              "      <td>NaN</td>\n",
              "      <td>NaN</td>\n",
              "      <td>NaN</td>\n",
              "      <td>slurry</td>\n",
              "      <td>NaN</td>\n",
              "      <td>NaN</td>\n",
              "      <td>NaN</td>\n",
              "      <td>oil</td>\n",
              "      <td>organic material</td>\n",
              "      <td>Soy</td>\n",
              "      <td>NaN</td>\n",
              "      <td>dry</td>\n",
              "      <td>NaN</td>\n",
              "      <td>dry</td>\n",
              "      <td>NaN</td>\n",
              "      <td>NaN</td>\n",
              "      <td>1.0</td>\n",
              "      <td>NaN</td>\n",
              "      <td>material unsuitable for consumption or processing</td>\n",
              "      <td>20304</td>\n",
              "      <td>Soyadroes technically</td>\n",
              "      <td>NaN</td>\n",
              "    </tr>\n",
              "    <tr>\n",
              "      <th>1</th>\n",
              "      <td>NaN</td>\n",
              "      <td>NaN</td>\n",
              "      <td>NaN</td>\n",
              "      <td>NaN</td>\n",
              "      <td>NaN</td>\n",
              "      <td>vast</td>\n",
              "      <td>NaN</td>\n",
              "      <td>NaN</td>\n",
              "      <td>NaN</td>\n",
              "      <td>NaN</td>\n",
              "      <td>wood</td>\n",
              "      <td>branches</td>\n",
              "      <td>NaN</td>\n",
              "      <td>NaN</td>\n",
              "      <td>NaN</td>\n",
              "      <td>wood</td>\n",
              "      <td>NaN</td>\n",
              "      <td>NaN</td>\n",
              "      <td>0.0</td>\n",
              "      <td>NaN</td>\n",
              "      <td>waste from forestry</td>\n",
              "      <td>20107</td>\n",
              "      <td>Branches</td>\n",
              "      <td>NaN</td>\n",
              "    </tr>\n",
              "    <tr>\n",
              "      <th>2</th>\n",
              "      <td>NaN</td>\n",
              "      <td>NaN</td>\n",
              "      <td>NaN</td>\n",
              "      <td>NaN</td>\n",
              "      <td>NaN</td>\n",
              "      <td>vast</td>\n",
              "      <td>NaN</td>\n",
              "      <td>NaN</td>\n",
              "      <td>NaN</td>\n",
              "      <td>NaN</td>\n",
              "      <td>cocoa</td>\n",
              "      <td>caps</td>\n",
              "      <td>NaN</td>\n",
              "      <td>NaN</td>\n",
              "      <td>NaN</td>\n",
              "      <td>cocoa</td>\n",
              "      <td>NaN</td>\n",
              "      <td>NaN</td>\n",
              "      <td>0.0</td>\n",
              "      <td>NaN</td>\n",
              "      <td>material unsuitable for consumption or processing</td>\n",
              "      <td>20304</td>\n",
              "      <td>Cocoa shells</td>\n",
              "      <td>NaN</td>\n",
              "    </tr>\n",
              "    <tr>\n",
              "      <th>3</th>\n",
              "      <td>NaN</td>\n",
              "      <td>NaN</td>\n",
              "      <td>NaN</td>\n",
              "      <td>debris</td>\n",
              "      <td>NaN</td>\n",
              "      <td>vast</td>\n",
              "      <td>NaN</td>\n",
              "      <td>NaN</td>\n",
              "      <td>NaN</td>\n",
              "      <td>NaN</td>\n",
              "      <td>sand</td>\n",
              "      <td>NaN</td>\n",
              "      <td>NaN</td>\n",
              "      <td>debris</td>\n",
              "      <td>NaN</td>\n",
              "      <td>debris</td>\n",
              "      <td>NaN</td>\n",
              "      <td>NaN</td>\n",
              "      <td>1.0</td>\n",
              "      <td>1.0</td>\n",
              "      <td>mixtures of concrete, stones, tiles or ceramic...</td>\n",
              "      <td>170107</td>\n",
              "      <td>Debris with Sand</td>\n",
              "      <td>NaN</td>\n",
              "    </tr>\n",
              "    <tr>\n",
              "      <th>4</th>\n",
              "      <td>NaN</td>\n",
              "      <td>NaN</td>\n",
              "      <td>NaN</td>\n",
              "      <td>NaN</td>\n",
              "      <td>NaN</td>\n",
              "      <td>vast</td>\n",
              "      <td>NaN</td>\n",
              "      <td>NaN</td>\n",
              "      <td>NaN</td>\n",
              "      <td>NaN</td>\n",
              "      <td>organic material</td>\n",
              "      <td>Soy</td>\n",
              "      <td>NaN</td>\n",
              "      <td>NaN</td>\n",
              "      <td>NaN</td>\n",
              "      <td>organic material</td>\n",
              "      <td>NaN</td>\n",
              "      <td>NaN</td>\n",
              "      <td>0.0</td>\n",
              "      <td>NaN</td>\n",
              "      <td>material unsuitable for consumption or processing</td>\n",
              "      <td>20304</td>\n",
              "      <td>soya</td>\n",
              "      <td>NaN</td>\n",
              "    </tr>\n",
              "  </tbody>\n",
              "</table>\n",
              "</div>"
            ],
            "text/plain": [
              "  reason origin color  ... euralCode            description  /0\n",
              "0    NaN    NaN   NaN  ...     20304  Soyadroes technically NaN\n",
              "1    NaN    NaN   NaN  ...     20107               Branches NaN\n",
              "2    NaN    NaN   NaN  ...     20304           Cocoa shells NaN\n",
              "3    NaN    NaN   NaN  ...    170107       Debris with Sand NaN\n",
              "4    NaN    NaN   NaN  ...     20304                   soya NaN\n",
              "\n",
              "[5 rows x 24 columns]"
            ]
          },
          "metadata": {
            "tags": []
          },
          "execution_count": 77
        }
      ]
    },
    {
      "cell_type": "markdown",
      "metadata": {
        "id": "aRo89lenGCRV",
        "colab_type": "text"
      },
      "source": [
        "#cats and conts \n",
        "\n",
        "**categorical variables - cat_names:**\n",
        "\n",
        "what you're using to make predictions with.  (description, euralDescription, composite1, mType).\n",
        "for categorical variables - will use Embeddings \n",
        "\n",
        "**continuos variables - cont_names:**\n",
        "\n",
        "any catgeory that has limited number of possible (integer) choises: true/false ; fields such as cleanOrContaminated or mixedOrPure\n",
        "continuos varibale names - they are sent to Neural net as pixels \n",
        "\n",
        "**uses processor - procs:**\n",
        "\n",
        "a number of processes that deal with data in some ways: FillMissing, Categorify, Normalize both train and test dtata sets"
      ]
    },
    {
      "cell_type": "code",
      "metadata": {
        "id": "cdnDATLzLTwg",
        "colab_type": "code",
        "colab": {}
      },
      "source": [
        "# dependable variable field:\n",
        "dep_var = 'material'\n",
        " \n",
        "cat_names = ['euralDescription', 'description'] # limited categorical variables \n",
        "cont_names = ['euralCode'] # limited option numeric or true/false values sent to NN as 'pixels'\n",
        "# cont_names = ['mixedOrPure', 'cleanOrDirty']\n",
        "# processors:\n",
        "procs = [FillMissing, Categorify, Normalize]"
      ],
      "execution_count": 0,
      "outputs": []
    },
    {
      "cell_type": "code",
      "metadata": {
        "id": "E8m5c4X5LTwj",
        "colab_type": "code",
        "colab": {}
      },
      "source": [
        "test = TabularList.from_df(df.iloc[420:2100].copy(), path=path + train_file, cat_names=cat_names, cont_names=cont_names)"
      ],
      "execution_count": 0,
      "outputs": []
    },
    {
      "cell_type": "markdown",
      "metadata": {
        "id": "gpyJ1DZFG4pL",
        "colab_type": "text"
      },
      "source": [
        "Next:\n",
        "data block api\n",
        "add labels - tell which cols - column it is \n",
        "\n",
        "and get back data bunch\n",
        "split train and test data ranges 800,1000\n"
      ]
    },
    {
      "cell_type": "code",
      "metadata": {
        "id": "B_jp4eqvLTwl",
        "colab_type": "code",
        "outputId": "3d78b265-1ace-436b-a5a5-88e38ecf7230",
        "colab": {
          "base_uri": "https://localhost:8080/",
          "height": 85
        }
      },
      "source": [
        "data = (TabularList.from_df(df, path=path+ train_file, cat_names=cat_names, cont_names=cont_names, procs=procs)\n",
        "                           .split_by_idx(list(range(950,1200)))\n",
        "                           .label_from_df(cols=dep_var)\n",
        "                           .add_test(test)\n",
        "                           .databunch())"
      ],
      "execution_count": 80,
      "outputs": [
        {
          "output_type": "stream",
          "text": [
            "/usr/local/lib/python3.6/dist-packages/fastai/data_block.py:537: UserWarning: You are labelling your items with CategoryList.\n",
            "Your valid set contained the following unknown labels, the corresponding items have been discarded.\n",
            "PCFIC, non-iron, flint, zeolite, syrup...\n",
            "  if getattr(ds, 'warn', False): warn(ds.warn)\n"
          ],
          "name": "stderr"
        }
      ]
    },
    {
      "cell_type": "code",
      "metadata": {
        "id": "2dkuUmwsLTwo",
        "colab_type": "code",
        "outputId": "80d5ba30-cfe2-43d3-c82d-b25d70b559b7",
        "colab": {
          "base_uri": "https://localhost:8080/",
          "height": 359
        }
      },
      "source": [
        "data.show_batch(rows=10)"
      ],
      "execution_count": 81,
      "outputs": [
        {
          "output_type": "display_data",
          "data": {
            "text/html": [
              "<table border=\"1\" class=\"dataframe\">\n",
              "  <thead>\n",
              "    <tr style=\"text-align: right;\">\n",
              "      <th>euralDescription</th>\n",
              "      <th>description</th>\n",
              "      <th>euralCode</th>\n",
              "      <th>target</th>\n",
              "    </tr>\n",
              "  </thead>\n",
              "  <tbody>\n",
              "    <tr>\n",
              "      <td>wood</td>\n",
              "      <td>A wood, external</td>\n",
              "      <td>0.1376</td>\n",
              "      <td>wood</td>\n",
              "    </tr>\n",
              "    <tr>\n",
              "      <td>soil and stones not covered by 17 05 03</td>\n",
              "      <td>Land, Fletcher Hotel Marijke, Dorpsstraat 23, Bergen</td>\n",
              "      <td>0.1433</td>\n",
              "      <td>ground</td>\n",
              "    </tr>\n",
              "    <tr>\n",
              "      <td>biodegradable waste</td>\n",
              "      <td>Composting green waste earoob</td>\n",
              "      <td>0.7011</td>\n",
              "      <td>organic material</td>\n",
              "    </tr>\n",
              "    <tr>\n",
              "      <td>soil and stones not covered by 17 05 03</td>\n",
              "      <td>ancestors</td>\n",
              "      <td>0.1433</td>\n",
              "      <td>sand</td>\n",
              "    </tr>\n",
              "    <tr>\n",
              "      <td>soil and stones not covered by 17 05 03</td>\n",
              "      <td>SOIL ORGANICALLY CONTAMINATED WET</td>\n",
              "      <td>0.1433</td>\n",
              "      <td>ground</td>\n",
              "    </tr>\n",
              "    <tr>\n",
              "      <td>concrete</td>\n",
              "      <td>Concrete rubble from various places in North Holland</td>\n",
              "      <td>0.1357</td>\n",
              "      <td>grind</td>\n",
              "    </tr>\n",
              "    <tr>\n",
              "      <td>biodegradable waste</td>\n",
              "      <td>Organic material</td>\n",
              "      <td>0.7011</td>\n",
              "      <td>organic material</td>\n",
              "    </tr>\n",
              "    <tr>\n",
              "      <td>soil and stones not covered by 17 05 03</td>\n",
              "      <td>Land, Bouwbakkie, Kwikstaartlaan 38, Alkmaar</td>\n",
              "      <td>0.1433</td>\n",
              "      <td>ground</td>\n",
              "    </tr>\n",
              "    <tr>\n",
              "      <td>soil and stones not covered by 17 05 03</td>\n",
              "      <td>SOIL, CONTAMINATED</td>\n",
              "      <td>0.1433</td>\n",
              "      <td>ground</td>\n",
              "    </tr>\n",
              "    <tr>\n",
              "      <td>material unsuitable for consumption or processing</td>\n",
              "      <td>Zaden/Renewi-Takii Europe</td>\n",
              "      <td>-2.6781</td>\n",
              "      <td>organic material</td>\n",
              "    </tr>\n",
              "  </tbody>\n",
              "</table>"
            ],
            "text/plain": [
              "<IPython.core.display.HTML object>"
            ]
          },
          "metadata": {
            "tags": []
          }
        }
      ]
    },
    {
      "cell_type": "code",
      "metadata": {
        "id": "sRGLYQVsesTx",
        "colab_type": "code",
        "outputId": "4e5f8105-8100-4618-f5a1-c0848afd6ea7",
        "colab": {
          "base_uri": "https://localhost:8080/",
          "height": 54
        }
      },
      "source": [
        "print(len(data.classes), 'categories for material --->', data.classes, )"
      ],
      "execution_count": 82,
      "outputs": [
        {
          "output_type": "stream",
          "text": [
            "95 categories for material ---> ['AVI-bodemas', 'Cork', 'EPS', 'Glass', 'HDPE', 'LDPE', 'ON', 'PA', 'PC', 'PET', 'PFOS', 'PMMA', 'POM', 'PP', 'PS', 'PVC', 'Perlite', 'RIGHT NOW', 'RVS', 'SECTION', 'Soy', 'UP', 'activated carbon', 'aluminum', 'asbestos', 'beer', 'believe', 'bentonite', 'beryllium', 'bitumen', 'bold', 'bread', 'carton', 'cast', 'cement', 'ceramic', 'ceramic material', 'cocoa', 'collect', 'compost', 'dill', 'dough', 'eps', 'fatty acids', 'fly ash', 'foam rubber', 'glass wool', 'glycerine', 'grind', 'ground', 'insulation material', 'iron', 'know', 'kraftkarton', 'kwik', 'lavaliet', 'lime', 'lithium', 'magnesium', 'melamine', 'messing', 'metal', 'minerals', 'molasses', 'most', 'nickel', 'nylon', 'oil', 'optical fiber', 'organic material', 'paper', 'plastic', 'polyester', 'porcelain', 'pvc', 'resin', 'rock wool', 'rubber', 'rvs', 'sand', 'sintels', 'snail wool', 'snails', 'starch', 'steel', 'stones', 'stories', 'sugar', 'teer', 'turf', 'tyleen', 'water', 'wine', 'wood', 'zinc']\n"
          ],
          "name": "stdout"
        }
      ]
    },
    {
      "cell_type": "code",
      "metadata": {
        "id": "9voFyHZQfect",
        "colab_type": "code",
        "outputId": "f982c373-0b33-4a38-e35c-fe8ee8f79660",
        "colab": {
          "base_uri": "https://localhost:8080/",
          "height": 411
        }
      },
      "source": [
        "print(data)"
      ],
      "execution_count": 83,
      "outputs": [
        {
          "output_type": "stream",
          "text": [
            "TabularDataBunch;\n",
            "\n",
            "Train: LabelList (1870 items)\n",
            "x: TabularList\n",
            "euralDescription material unsuitable for consumption or processing; description Soyadroes technically; euralCode -2.6781; ,euralDescription waste from forestry; description Branches; euralCode -2.6818; ,euralDescription material unsuitable for consumption or processing; description Cocoa shells; euralCode -2.6781; ,euralDescription mixtures of concrete, stones, tiles or ceramic products other than those mentioned in 17 01 06; description Debris with Sand; euralCode 0.1358; ,euralDescription material unsuitable for consumption or processing; description soya; euralCode -2.6781; \n",
            "y: CategoryList\n",
            "organic material,wood,cocoa,sand,organic material\n",
            "Path: /content/drive/My Drive/data/enMaterialData.csv;\n",
            "\n",
            "Valid: LabelList (244 items)\n",
            "x: TabularList\n",
            "euralDescription soil and stones not covered by 17 05 03; description #na#; euralCode 0.1433; ,euralDescription biodegradable kitchen and canteen waste; description #na#; euralCode 0.6994; ,euralDescription metal; description #na#; euralCode 0.7000; ,euralDescription wood other than those mentioned in 20 01 37; description B-Hout (Milieuplein); euralCode 0.6999; ,euralDescription plastics; description #na#; euralCode 0.7000; \n",
            "y: CategoryList\n",
            "ground,organic material,RVS,wood,HDPE\n",
            "Path: /content/drive/My Drive/data/enMaterialData.csv;\n",
            "\n",
            "Test: LabelList (1680 items)\n",
            "x: TabularList\n",
            "euralDescription concrete; description Concrete rubble <100 cm.; euralCode 0.1357; ,euralDescription material unsuitable for consumption or processing; description bentonite mineral; euralCode -2.6781; ,euralDescription soil and stones not covered by 17 05 03; description Soil underlay industry class; euralCode 0.1433; ,euralDescription plastics; description PP jars (loose); euralCode 0.7000; ,euralDescription plastics; description HDPE KLIKO'S; euralCode 0.7000; \n",
            "y: EmptyLabelList\n",
            ",,,,\n",
            "Path: /content/drive/My Drive/data/enMaterialData.csv\n"
          ],
          "name": "stdout"
        }
      ]
    },
    {
      "cell_type": "markdown",
      "metadata": {
        "id": "VaQDF2XvHtXv",
        "colab_type": "text"
      },
      "source": [
        "pass in data to tabular learner:\n"
      ]
    },
    {
      "cell_type": "code",
      "metadata": {
        "id": "wMAcYNmSLTwr",
        "colab_type": "code",
        "colab": {}
      },
      "source": [
        "learn = tabular_learner(data, layers=[200,100], metrics=accuracy)"
      ],
      "execution_count": 0,
      "outputs": []
    },
    {
      "cell_type": "code",
      "metadata": {
        "id": "et5KC2pSLTwu",
        "colab_type": "code",
        "outputId": "c014df51-9249-4751-e054-3ad3649fe658",
        "colab": {
          "base_uri": "https://localhost:8080/",
          "height": 173
        }
      },
      "source": [
        "learn.fit(4, 1e-2)"
      ],
      "execution_count": 85,
      "outputs": [
        {
          "output_type": "display_data",
          "data": {
            "text/html": [
              "<table border=\"1\" class=\"dataframe\">\n",
              "  <thead>\n",
              "    <tr style=\"text-align: left;\">\n",
              "      <th>epoch</th>\n",
              "      <th>train_loss</th>\n",
              "      <th>valid_loss</th>\n",
              "      <th>accuracy</th>\n",
              "      <th>time</th>\n",
              "    </tr>\n",
              "  </thead>\n",
              "  <tbody>\n",
              "    <tr>\n",
              "      <td>0</td>\n",
              "      <td>2.117789</td>\n",
              "      <td>2.461911</td>\n",
              "      <td>0.299180</td>\n",
              "      <td>00:00</td>\n",
              "    </tr>\n",
              "    <tr>\n",
              "      <td>1</td>\n",
              "      <td>1.375463</td>\n",
              "      <td>1.317703</td>\n",
              "      <td>0.680328</td>\n",
              "      <td>00:00</td>\n",
              "    </tr>\n",
              "    <tr>\n",
              "      <td>2</td>\n",
              "      <td>0.892217</td>\n",
              "      <td>1.468174</td>\n",
              "      <td>0.684426</td>\n",
              "      <td>00:00</td>\n",
              "    </tr>\n",
              "    <tr>\n",
              "      <td>3</td>\n",
              "      <td>0.561458</td>\n",
              "      <td>1.532098</td>\n",
              "      <td>0.704918</td>\n",
              "      <td>00:00</td>\n",
              "    </tr>\n",
              "  </tbody>\n",
              "</table>"
            ],
            "text/plain": [
              "<IPython.core.display.HTML object>"
            ]
          },
          "metadata": {
            "tags": []
          }
        }
      ]
    },
    {
      "cell_type": "code",
      "metadata": {
        "id": "dRjivXLNYqtN",
        "colab_type": "code",
        "outputId": "35d30d8b-eabc-45b9-9f7a-6a1a828376ba",
        "colab": {
          "base_uri": "https://localhost:8080/",
          "height": 612
        }
      },
      "source": [
        "# see into the model\n",
        "# learn.model.eval()\n",
        "learn.summary()\n"
      ],
      "execution_count": 72,
      "outputs": [
        {
          "output_type": "execute_result",
          "data": {
            "text/plain": [
              "TabularModel\n",
              "======================================================================\n",
              "Layer (type)         Output Shape         Param #    Trainable \n",
              "======================================================================\n",
              "Embedding            [16]                 960        True      \n",
              "______________________________________________________________________\n",
              "Embedding            [146]                462,674    True      \n",
              "______________________________________________________________________\n",
              "Dropout              [162]                0          False     \n",
              "______________________________________________________________________\n",
              "BatchNorm1d          [1]                  2          True      \n",
              "______________________________________________________________________\n",
              "Linear               [200]                32,800     True      \n",
              "______________________________________________________________________\n",
              "ReLU                 [200]                0          False     \n",
              "______________________________________________________________________\n",
              "BatchNorm1d          [200]                400        True      \n",
              "______________________________________________________________________\n",
              "Linear               [100]                20,100     True      \n",
              "______________________________________________________________________\n",
              "ReLU                 [100]                0          False     \n",
              "______________________________________________________________________\n",
              "BatchNorm1d          [100]                200        True      \n",
              "______________________________________________________________________\n",
              "Linear               [112]                11,312     True      \n",
              "______________________________________________________________________\n",
              "\n",
              "Total params: 528,448\n",
              "Total trainable params: 528,448\n",
              "Total non-trainable params: 0\n",
              "Optimized with 'torch.optim.adam.Adam', betas=(0.9, 0.99)\n",
              "Using true weight decay as discussed in https://www.fast.ai/2018/07/02/adam-weight-decay/ \n",
              "Loss function : FlattenedLoss\n",
              "======================================================================\n",
              "Callbacks functions applied "
            ]
          },
          "metadata": {
            "tags": []
          },
          "execution_count": 72
        }
      ]
    },
    {
      "cell_type": "code",
      "metadata": {
        "id": "aZPZg0EHRXgT",
        "colab_type": "code",
        "colab": {}
      },
      "source": [
        "learn.model_dir = '/content/drive/My Drive/data/models'\n",
        "learn.save('material_classifier_model')"
      ],
      "execution_count": 0,
      "outputs": []
    },
    {
      "cell_type": "markdown",
      "metadata": {
        "id": "G9NbJ8aELTww",
        "colab_type": "text"
      },
      "source": [
        "## Inference  \n",
        "- run test data set to predict material\n",
        "- extract the prediction confindece score  "
      ]
    },
    {
      "cell_type": "code",
      "metadata": {
        "id": "RKMR_dJ6lXaC",
        "colab_type": "code",
        "outputId": "914e6eec-4d06-4753-e468-5111740ff905",
        "colab": {
          "base_uri": "https://localhost:8080/",
          "height": 51
        }
      },
      "source": [
        "row = 544\n",
        "\n",
        "data_frame = df\n",
        "# data_frame = test_df\n",
        "\n",
        "print('given material -->', data_frame.iloc[row].material)\n",
        "# print('description ---> ', data_frame.iloc[row].description, ', ', data_frame.iloc[row].euralDescription)\n",
        "print('description ---> ', data_frame.iloc[row].euralDescription)"
      ],
      "execution_count": 106,
      "outputs": [
        {
          "output_type": "stream",
          "text": [
            "given material --> ground\n",
            "description --->  soil and stones not covered by 17 05 03\n"
          ],
          "name": "stdout"
        }
      ]
    },
    {
      "cell_type": "code",
      "metadata": {
        "id": "wZpGw7KOSdJw",
        "colab_type": "code",
        "outputId": "5aa9693c-342a-4283-b920-4dd35a24f760",
        "colab": {
          "base_uri": "https://localhost:8080/",
          "height": 34
        }
      },
      "source": [
        "#one_row = df.iloc[row]\n",
        "one_row = test_df.iloc[row]\n",
        "\n",
        "predicted_cat, total_cat, weights = learn.predict(one_row)\n",
        "print('predicted material ----> ', predicted_cat)"
      ],
      "execution_count": 107,
      "outputs": [
        {
          "output_type": "stream",
          "text": [
            "predicted material ---->  ground\n"
          ],
          "name": "stdout"
        }
      ]
    },
    {
      "cell_type": "markdown",
      "metadata": {
        "id": "bEoNPKhjq4-Y",
        "colab_type": "text"
      },
      "source": [
        "Category Probability - Prediction Confidence score"
      ]
    },
    {
      "cell_type": "code",
      "metadata": {
        "id": "IhxNseZ3q3LP",
        "colab_type": "code",
        "outputId": "1dd856d8-1812-4b58-9945-0684e1f48fd1",
        "colab": {
          "base_uri": "https://localhost:8080/",
          "height": 51
        }
      },
      "source": [
        "cat, idx, confidence = learn.predict(one_row)\n",
        "cat_prob = confidence[idx.item()].item()\n",
        "print(' category probability --------->', cat_prob)\n",
        "print(confidence.sum())"
      ],
      "execution_count": 108,
      "outputs": [
        {
          "output_type": "stream",
          "text": [
            " category probability ---------> 0.404806911945343\n",
            "tensor(1.0000)\n"
          ],
          "name": "stdout"
        }
      ]
    }
  ]
}