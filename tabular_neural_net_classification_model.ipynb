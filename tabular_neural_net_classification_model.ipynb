{
  "nbformat": 4,
  "nbformat_minor": 0,
  "metadata": {
    "kernelspec": {
      "name": "python3",
      "display_name": "Python 3"
    },
    "colab": {
      "name": "tabular_neural_net_classification_model.ipynb",
      "provenance": [],
      "collapsed_sections": [],
      "include_colab_link": true
    },
    "accelerator": "GPU"
  },
  "cells": [
    {
      "cell_type": "markdown",
      "metadata": {
        "id": "view-in-github",
        "colab_type": "text"
      },
      "source": [
        "<a href=\"https://colab.research.google.com/github/Yolantele/ML-data-clasifier/blob/master/tabular_neural_net_classification_model.ipynb\" target=\"_parent\"><img src=\"https://colab.research.google.com/assets/colab-badge.svg\" alt=\"Open In Colab\"/></a>"
      ]
    },
    {
      "cell_type": "markdown",
      "metadata": {
        "id": "Mq9mdOq-LTwZ",
        "colab_type": "text"
      },
      "source": [
        "# Tabular Model For Waste Data Classification\n"
      ]
    },
    {
      "cell_type": "code",
      "metadata": {
        "id": "awLR-e3yMIwh",
        "colab_type": "code",
        "colab": {}
      },
      "source": [
        "%reload_ext autoreload\n",
        "%autoreload 2\n",
        "%matplotlib inline"
      ],
      "execution_count": 0,
      "outputs": []
    },
    {
      "cell_type": "code",
      "metadata": {
        "id": "K6dGchfdLTwa",
        "colab_type": "code",
        "colab": {}
      },
      "source": [
        "from fastai import *\n",
        "from fastai.tabular import *"
      ],
      "execution_count": 0,
      "outputs": []
    },
    {
      "cell_type": "markdown",
      "metadata": {
        "id": "LxUm22wWLTwd",
        "colab_type": "text"
      },
      "source": [
        "Tabular data should be in a Pandas `DataFrame`.\n",
        "df - data_frame"
      ]
    },
    {
      "cell_type": "code",
      "metadata": {
        "id": "Ep9XMVpgbAyD",
        "colab_type": "code",
        "colab": {}
      },
      "source": [
        "# mount to google drive and load files\n",
        "from google.colab import drive\n",
        "drive.mount('/content/drive')\n"
      ],
      "execution_count": 0,
      "outputs": []
    },
    {
      "cell_type": "code",
      "metadata": {
        "id": "ifu_bxQVpk8b",
        "colab_type": "code",
        "colab": {}
      },
      "source": [
        "# path to data \n",
        "path = '/content/drive/My Drive/data/'"
      ],
      "execution_count": 0,
      "outputs": []
    },
    {
      "cell_type": "code",
      "metadata": {
        "id": "Y9lSvmBjLTwd",
        "colab_type": "code",
        "outputId": "5bd06df8-cefb-4e83-8eef-483a122d936c",
        "colab": {
          "base_uri": "https://localhost:8080/",
          "height": 360
        }
      },
      "source": [
        "# load train data frame\n",
        "# todo: 1. iterate through nl data and export only with material, eural code fields\n",
        "#  then translate to en. this will increase train and test data sets and include missing material categories that appear in validation set\n",
        "train_file = '/enMaterialData.csv'\n",
        "df = pd.read_csv(path + train_file)\n",
        "\n",
        "\n",
        "\n",
        "# load test data frame with material field empty\n",
        "test_df = pd.read_csv(path + '/enWithoutMaterialData.csv')\n",
        "\n",
        "df.head()"
      ],
      "execution_count": 37,
      "outputs": [
        {
          "output_type": "execute_result",
          "data": {
            "text/html": [
              "<div>\n",
              "<style scoped>\n",
              "    .dataframe tbody tr th:only-of-type {\n",
              "        vertical-align: middle;\n",
              "    }\n",
              "\n",
              "    .dataframe tbody tr th {\n",
              "        vertical-align: top;\n",
              "    }\n",
              "\n",
              "    .dataframe thead th {\n",
              "        text-align: right;\n",
              "    }\n",
              "</style>\n",
              "<table border=\"1\" class=\"dataframe\">\n",
              "  <thead>\n",
              "    <tr style=\"text-align: right;\">\n",
              "      <th></th>\n",
              "      <th>reason</th>\n",
              "      <th>origin</th>\n",
              "      <th>color</th>\n",
              "      <th>state</th>\n",
              "      <th>size</th>\n",
              "      <th>consistency</th>\n",
              "      <th>otherCode</th>\n",
              "      <th>material4</th>\n",
              "      <th>material3</th>\n",
              "      <th>material2</th>\n",
              "      <th>material</th>\n",
              "      <th>mType</th>\n",
              "      <th>composite2</th>\n",
              "      <th>composite1</th>\n",
              "      <th>cType</th>\n",
              "      <th>indirectProduct</th>\n",
              "      <th>directProduct</th>\n",
              "      <th>pType</th>\n",
              "      <th>mixedOrPure</th>\n",
              "      <th>cleanOrDirty</th>\n",
              "      <th>euralDescription</th>\n",
              "      <th>euralCode</th>\n",
              "      <th>description</th>\n",
              "      <th>/0</th>\n",
              "    </tr>\n",
              "  </thead>\n",
              "  <tbody>\n",
              "    <tr>\n",
              "      <th>0</th>\n",
              "      <td>NaN</td>\n",
              "      <td>NaN</td>\n",
              "      <td>NaN</td>\n",
              "      <td>NaN</td>\n",
              "      <td>NaN</td>\n",
              "      <td>slurry</td>\n",
              "      <td>NaN</td>\n",
              "      <td>NaN</td>\n",
              "      <td>NaN</td>\n",
              "      <td>oil</td>\n",
              "      <td>organic material</td>\n",
              "      <td>Soy</td>\n",
              "      <td>NaN</td>\n",
              "      <td>dry</td>\n",
              "      <td>NaN</td>\n",
              "      <td>dry</td>\n",
              "      <td>NaN</td>\n",
              "      <td>NaN</td>\n",
              "      <td>1.0</td>\n",
              "      <td>NaN</td>\n",
              "      <td>material unsuitable for consumption or processing</td>\n",
              "      <td>20304</td>\n",
              "      <td>Soyadroes technically</td>\n",
              "      <td>NaN</td>\n",
              "    </tr>\n",
              "    <tr>\n",
              "      <th>1</th>\n",
              "      <td>NaN</td>\n",
              "      <td>NaN</td>\n",
              "      <td>NaN</td>\n",
              "      <td>NaN</td>\n",
              "      <td>NaN</td>\n",
              "      <td>vast</td>\n",
              "      <td>NaN</td>\n",
              "      <td>NaN</td>\n",
              "      <td>NaN</td>\n",
              "      <td>NaN</td>\n",
              "      <td>wood</td>\n",
              "      <td>branches</td>\n",
              "      <td>NaN</td>\n",
              "      <td>NaN</td>\n",
              "      <td>NaN</td>\n",
              "      <td>wood</td>\n",
              "      <td>NaN</td>\n",
              "      <td>NaN</td>\n",
              "      <td>0.0</td>\n",
              "      <td>NaN</td>\n",
              "      <td>waste from forestry</td>\n",
              "      <td>20107</td>\n",
              "      <td>Branches</td>\n",
              "      <td>NaN</td>\n",
              "    </tr>\n",
              "    <tr>\n",
              "      <th>2</th>\n",
              "      <td>NaN</td>\n",
              "      <td>NaN</td>\n",
              "      <td>NaN</td>\n",
              "      <td>NaN</td>\n",
              "      <td>NaN</td>\n",
              "      <td>vast</td>\n",
              "      <td>NaN</td>\n",
              "      <td>NaN</td>\n",
              "      <td>NaN</td>\n",
              "      <td>NaN</td>\n",
              "      <td>cocoa</td>\n",
              "      <td>caps</td>\n",
              "      <td>NaN</td>\n",
              "      <td>NaN</td>\n",
              "      <td>NaN</td>\n",
              "      <td>cocoa</td>\n",
              "      <td>NaN</td>\n",
              "      <td>NaN</td>\n",
              "      <td>0.0</td>\n",
              "      <td>NaN</td>\n",
              "      <td>material unsuitable for consumption or processing</td>\n",
              "      <td>20304</td>\n",
              "      <td>Cocoa shells</td>\n",
              "      <td>NaN</td>\n",
              "    </tr>\n",
              "    <tr>\n",
              "      <th>3</th>\n",
              "      <td>NaN</td>\n",
              "      <td>NaN</td>\n",
              "      <td>NaN</td>\n",
              "      <td>debris</td>\n",
              "      <td>NaN</td>\n",
              "      <td>vast</td>\n",
              "      <td>NaN</td>\n",
              "      <td>NaN</td>\n",
              "      <td>NaN</td>\n",
              "      <td>NaN</td>\n",
              "      <td>sand</td>\n",
              "      <td>NaN</td>\n",
              "      <td>NaN</td>\n",
              "      <td>debris</td>\n",
              "      <td>NaN</td>\n",
              "      <td>debris</td>\n",
              "      <td>NaN</td>\n",
              "      <td>NaN</td>\n",
              "      <td>1.0</td>\n",
              "      <td>1.0</td>\n",
              "      <td>mixtures of concrete, stones, tiles or ceramic...</td>\n",
              "      <td>170107</td>\n",
              "      <td>Debris with Sand</td>\n",
              "      <td>NaN</td>\n",
              "    </tr>\n",
              "    <tr>\n",
              "      <th>4</th>\n",
              "      <td>NaN</td>\n",
              "      <td>NaN</td>\n",
              "      <td>NaN</td>\n",
              "      <td>NaN</td>\n",
              "      <td>NaN</td>\n",
              "      <td>vast</td>\n",
              "      <td>NaN</td>\n",
              "      <td>NaN</td>\n",
              "      <td>NaN</td>\n",
              "      <td>NaN</td>\n",
              "      <td>organic material</td>\n",
              "      <td>Soy</td>\n",
              "      <td>NaN</td>\n",
              "      <td>NaN</td>\n",
              "      <td>NaN</td>\n",
              "      <td>organic material</td>\n",
              "      <td>NaN</td>\n",
              "      <td>NaN</td>\n",
              "      <td>0.0</td>\n",
              "      <td>NaN</td>\n",
              "      <td>material unsuitable for consumption or processing</td>\n",
              "      <td>20304</td>\n",
              "      <td>soya</td>\n",
              "      <td>NaN</td>\n",
              "    </tr>\n",
              "  </tbody>\n",
              "</table>\n",
              "</div>"
            ],
            "text/plain": [
              "  reason origin color  ... euralCode            description  /0\n",
              "0    NaN    NaN   NaN  ...     20304  Soyadroes technically NaN\n",
              "1    NaN    NaN   NaN  ...     20107               Branches NaN\n",
              "2    NaN    NaN   NaN  ...     20304           Cocoa shells NaN\n",
              "3    NaN    NaN   NaN  ...    170107       Debris with Sand NaN\n",
              "4    NaN    NaN   NaN  ...     20304                   soya NaN\n",
              "\n",
              "[5 rows x 24 columns]"
            ]
          },
          "metadata": {
            "tags": []
          },
          "execution_count": 37
        }
      ]
    },
    {
      "cell_type": "markdown",
      "metadata": {
        "id": "aRo89lenGCRV",
        "colab_type": "text"
      },
      "source": [
        "#cats and conts \n",
        "\n",
        "**categorical variables - cat_names:**\n",
        "\n",
        "what you're using to make predictions with.  (description, euralDescription, composite1, mType).\n",
        "for categorical variables - will use Embeddings \n",
        "\n",
        "**continuos variables - cont_names:**\n",
        "\n",
        "any catgeory that has limited number of possible (integer) choises: true/false ; fields such as cleanOrContaminated or mixedOrPure\n",
        "continuos varibale names - they are sent to Neural net as pixels \n",
        "\n",
        "**uses processor - procs:**\n",
        "\n",
        "a number of processes that deal with data in some ways: FillMissing, Categorify, Normalize both train and test dtata sets"
      ]
    },
    {
      "cell_type": "code",
      "metadata": {
        "id": "cdnDATLzLTwg",
        "colab_type": "code",
        "colab": {}
      },
      "source": [
        "# dependable variable field:\n",
        "dep_var = 'material'\n",
        " \n",
        "cat_names = ['euralDescription', 'description',] # limited categorical variables \n",
        "cont_names = ['euralCode'] # limited option numeric or true/false values sent to NN as 'pixels'\n",
        "cont_names = []\n",
        "# processors:\n",
        "procs = [FillMissing, Categorify, Normalize]"
      ],
      "execution_count": 0,
      "outputs": []
    },
    {
      "cell_type": "code",
      "metadata": {
        "id": "E8m5c4X5LTwj",
        "colab_type": "code",
        "colab": {}
      },
      "source": [
        "test = TabularList.from_df(df.iloc[400:2100].copy(), path=path + train_file, cat_names=cat_names, cont_names=cont_names)"
      ],
      "execution_count": 0,
      "outputs": []
    },
    {
      "cell_type": "markdown",
      "metadata": {
        "id": "gpyJ1DZFG4pL",
        "colab_type": "text"
      },
      "source": [
        "Next:\n",
        "data block api\n",
        "add labels - tell which cols - column it is \n",
        "\n",
        "and get back data bunch\n",
        "split train and test data ranges 800,1000\n"
      ]
    },
    {
      "cell_type": "code",
      "metadata": {
        "id": "B_jp4eqvLTwl",
        "colab_type": "code",
        "outputId": "97dc1663-7820-40b9-e5f2-6a02167a411b",
        "colab": {
          "base_uri": "https://localhost:8080/",
          "height": 85
        }
      },
      "source": [
        "data = (TabularList.from_df(df, path=path+ train_file, cat_names=cat_names, cont_names=cont_names, procs=procs)\n",
        "                           .split_by_idx(list(range(1600,2000)))\n",
        "                           .label_from_df(cols=dep_var)\n",
        "                           .add_test(test)\n",
        "                           .databunch())"
      ],
      "execution_count": 40,
      "outputs": [
        {
          "output_type": "stream",
          "text": [
            "/usr/local/lib/python3.6/dist-packages/fastai/data_block.py:537: UserWarning: You are labelling your items with CategoryList.\n",
            "Your valid set contained the following unknown labels, the corresponding items have been discarded.\n",
            "glycerine, lavaliet, kraftkarton, magnesium\n",
            "  if getattr(ds, 'warn', False): warn(ds.warn)\n"
          ],
          "name": "stderr"
        }
      ]
    },
    {
      "cell_type": "code",
      "metadata": {
        "id": "2dkuUmwsLTwo",
        "colab_type": "code",
        "outputId": "01fa1684-cef7-4fb8-a279-f80431e6d1e9",
        "colab": {
          "base_uri": "https://localhost:8080/",
          "height": 359
        }
      },
      "source": [
        "data.show_batch(rows=10)"
      ],
      "execution_count": 41,
      "outputs": [
        {
          "output_type": "display_data",
          "data": {
            "text/html": [
              "<table border=\"1\" class=\"dataframe\">\n",
              "  <thead>\n",
              "    <tr style=\"text-align: right;\">\n",
              "      <th>euralDescription</th>\n",
              "      <th>description</th>\n",
              "      <th>target</th>\n",
              "    </tr>\n",
              "  </thead>\n",
              "  <tbody>\n",
              "    <tr>\n",
              "      <td>soil and stones not covered by 17 05 03</td>\n",
              "      <td>Class A BBK industry</td>\n",
              "      <td>ground</td>\n",
              "    </tr>\n",
              "    <tr>\n",
              "      <td>soil and stones not covered by 17 05 03</td>\n",
              "      <td>Roof gravel (Lelystad)</td>\n",
              "      <td>grind</td>\n",
              "    </tr>\n",
              "    <tr>\n",
              "      <td>vegetable tissue waste</td>\n",
              "      <td>IOP / Zaden / Mil.Expr.-Monsanto</td>\n",
              "      <td>organic material</td>\n",
              "    </tr>\n",
              "    <tr>\n",
              "      <td>soil and stones not covered by 17 05 03</td>\n",
              "      <td>contaminated ground</td>\n",
              "      <td>ground</td>\n",
              "    </tr>\n",
              "    <tr>\n",
              "      <td>biodegradable waste</td>\n",
              "      <td>Roadside grass / hay</td>\n",
              "      <td>bold</td>\n",
              "    </tr>\n",
              "    <tr>\n",
              "      <td>soil and stones not covered by 17 05 03</td>\n",
              "      <td>Ground AW</td>\n",
              "      <td>ground</td>\n",
              "    </tr>\n",
              "    <tr>\n",
              "      <td>concrete</td>\n",
              "      <td>Pure debris / cement, not route</td>\n",
              "      <td>cement</td>\n",
              "    </tr>\n",
              "    <tr>\n",
              "      <td>building material containing asbestos</td>\n",
              "      <td>selectively removed asbestos (GA)</td>\n",
              "      <td>asbestos</td>\n",
              "    </tr>\n",
              "    <tr>\n",
              "      <td>material unsuitable for consumption or processing</td>\n",
              "      <td>vegetable fat separator</td>\n",
              "      <td>know</td>\n",
              "    </tr>\n",
              "    <tr>\n",
              "      <td>soil and stones not covered by 17 05 03</td>\n",
              "      <td>Land Coenraad Botstraat 44 Den Helder</td>\n",
              "      <td>ground</td>\n",
              "    </tr>\n",
              "  </tbody>\n",
              "</table>"
            ],
            "text/plain": [
              "<IPython.core.display.HTML object>"
            ]
          },
          "metadata": {
            "tags": []
          }
        }
      ]
    },
    {
      "cell_type": "code",
      "metadata": {
        "id": "sRGLYQVsesTx",
        "colab_type": "code",
        "outputId": "094cae54-802c-4f7b-a773-a3f1642d1f12",
        "colab": {
          "base_uri": "https://localhost:8080/",
          "height": 54
        }
      },
      "source": [
        "print(len(data.classes), 'categories for material --->', data.classes, )"
      ],
      "execution_count": 42,
      "outputs": [
        {
          "output_type": "stream",
          "text": [
            "97 categories for material ---> ['AVI-bodemas', 'Cork', 'EPS', 'Glass', 'HDPE', 'LDPE', 'ON', 'PA', 'PC', 'PCFIC', 'PET', 'PFOS', 'PMMA', 'POM', 'PP', 'PS', 'PVC', 'Perlite', 'RIGHT NOW', 'RVS', 'SECTION', 'Soy', 'UP', 'activated carbon', 'aluminum', 'asbestos', 'beer', 'believe', 'bentonite', 'beryllium', 'bitumen', 'bold', 'bread', 'carton', 'cast', 'cement', 'ceramic', 'ceramic material', 'cocoa', 'collect', 'compost', 'dill', 'dough', 'eps', 'fatty acids', 'flint', 'fly ash', 'foam rubber', 'glass wool', 'grind', 'ground', 'insulation material', 'iron', 'know', 'kwik', 'lime', 'lithium', 'melamine', 'messing', 'metal', 'minerals', 'molasses', 'most', 'nickel', 'non-iron', 'nylon', 'oil', 'optical fiber', 'organic material', 'paper', 'plastic', 'polyester', 'porcelain', 'pvc', 'resin', 'rock wool', 'rubber', 'rvs', 'sand', 'sintels', 'snail wool', 'snails', 'solvents', 'starch', 'steel', 'stones', 'stories', 'sugar', 'syrup', 'teer', 'turf', 'tyleen', 'water', 'wine', 'wood', 'zeolite', 'zinc']\n"
          ],
          "name": "stdout"
        }
      ]
    },
    {
      "cell_type": "code",
      "metadata": {
        "id": "9voFyHZQfect",
        "colab_type": "code",
        "outputId": "afc386e7-c9ce-4426-8ff1-7e6d049bdaf7",
        "colab": {
          "base_uri": "https://localhost:8080/",
          "height": 411
        }
      },
      "source": [
        "print(data)"
      ],
      "execution_count": 43,
      "outputs": [
        {
          "output_type": "stream",
          "text": [
            "TabularDataBunch;\n",
            "\n",
            "Train: LabelList (1720 items)\n",
            "x: TabularList\n",
            "euralDescription material unsuitable for consumption or processing; description Soyadroes technically; ,euralDescription waste from forestry; description Branches; ,euralDescription material unsuitable for consumption or processing; description Cocoa shells; ,euralDescription mixtures of concrete, stones, tiles or ceramic products other than those mentioned in 17 01 06; description Debris with Sand; ,euralDescription material unsuitable for consumption or processing; description soya; \n",
            "y: CategoryList\n",
            "organic material,wood,cocoa,sand,organic material\n",
            "Path: /content/drive/My Drive/data/enMaterialData.csv;\n",
            "\n",
            "Valid: LabelList (396 items)\n",
            "x: TabularList\n",
            "euralDescription plastics; description #na#; ,euralDescription plastics; description #na#; ,euralDescription material unsuitable for consumption or processing; description #na#; ,euralDescription biodegradable waste; description #na#; ,euralDescription plastics; description #na#; \n",
            "y: CategoryList\n",
            "plastic,PS,know,organic material,plastic\n",
            "Path: /content/drive/My Drive/data/enMaterialData.csv;\n",
            "\n",
            "Test: LabelList (1700 items)\n",
            "x: TabularList\n",
            "euralDescription Glass; description other glass, not route; ,euralDescription Glass; description Combinatieglas; ,euralDescription soil and stones not covered by 17 05 03; description ground ex wash area; ,euralDescription soil and stones not covered by 17 05 03; description Poluted soil; ,euralDescription biodegradable waste; description GREEN WASTE (FOGOSTRAAT); \n",
            "y: EmptyLabelList\n",
            ",,,,\n",
            "Path: /content/drive/My Drive/data/enMaterialData.csv\n"
          ],
          "name": "stdout"
        }
      ]
    },
    {
      "cell_type": "markdown",
      "metadata": {
        "id": "VaQDF2XvHtXv",
        "colab_type": "text"
      },
      "source": [
        "pass in data to tabular learner:\n"
      ]
    },
    {
      "cell_type": "code",
      "metadata": {
        "id": "wMAcYNmSLTwr",
        "colab_type": "code",
        "colab": {}
      },
      "source": [
        "learn = tabular_learner(data, layers=[200,400], metrics=accuracy)"
      ],
      "execution_count": 0,
      "outputs": []
    },
    {
      "cell_type": "code",
      "metadata": {
        "id": "et5KC2pSLTwu",
        "colab_type": "code",
        "outputId": "84afe2e4-ff11-459c-8d86-fc46a9d98f5c",
        "colab": {
          "base_uri": "https://localhost:8080/",
          "height": 142
        }
      },
      "source": [
        "learn.unfreeze()\n",
        "learn.fit(3, 2e-2)"
      ],
      "execution_count": 65,
      "outputs": [
        {
          "output_type": "display_data",
          "data": {
            "text/html": [
              "<table border=\"1\" class=\"dataframe\">\n",
              "  <thead>\n",
              "    <tr style=\"text-align: left;\">\n",
              "      <th>epoch</th>\n",
              "      <th>train_loss</th>\n",
              "      <th>valid_loss</th>\n",
              "      <th>accuracy</th>\n",
              "      <th>time</th>\n",
              "    </tr>\n",
              "  </thead>\n",
              "  <tbody>\n",
              "    <tr>\n",
              "      <td>0</td>\n",
              "      <td>0.026257</td>\n",
              "      <td>83.007812</td>\n",
              "      <td>0.666667</td>\n",
              "      <td>00:00</td>\n",
              "    </tr>\n",
              "    <tr>\n",
              "      <td>1</td>\n",
              "      <td>0.034799</td>\n",
              "      <td>42.670761</td>\n",
              "      <td>0.694444</td>\n",
              "      <td>00:00</td>\n",
              "    </tr>\n",
              "    <tr>\n",
              "      <td>2</td>\n",
              "      <td>0.047872</td>\n",
              "      <td>67.492050</td>\n",
              "      <td>0.704545</td>\n",
              "      <td>00:00</td>\n",
              "    </tr>\n",
              "  </tbody>\n",
              "</table>"
            ],
            "text/plain": [
              "<IPython.core.display.HTML object>"
            ]
          },
          "metadata": {
            "tags": []
          }
        }
      ]
    },
    {
      "cell_type": "code",
      "metadata": {
        "id": "aqkFP_oKgXfk",
        "colab_type": "code",
        "colab": {
          "base_uri": "https://localhost:8080/",
          "height": 279
        },
        "outputId": "252db14d-b08f-4c29-d099-2b1266a4c541"
      },
      "source": [
        "learn.recorder.plot()"
      ],
      "execution_count": 57,
      "outputs": [
        {
          "output_type": "display_data",
          "data": {
            "image/png": "[encoded data removed]",
            "text/plain": [
              "<Figure size 432x288 with 1 Axes>"
            ]
          },
          "metadata": {
            "tags": [],
            "needs_background": "light"
          }
        }
      ]
    },
    {
      "cell_type": "code",
      "metadata": {
        "id": "dRjivXLNYqtN",
        "colab_type": "code",
        "outputId": "6cf54030-4c42-4b9c-f2ab-f9899d1a8948",
        "colab": {
          "base_uri": "https://localhost:8080/",
          "height": 578
        }
      },
      "source": [
        "# see into the model\n",
        "# learn.model.eval()\n",
        "learn.summary()\n"
      ],
      "execution_count": 66,
      "outputs": [
        {
          "output_type": "execute_result",
          "data": {
            "text/plain": [
              "TabularModel\n",
              "======================================================================\n",
              "Layer (type)         Output Shape         Param #    Trainable \n",
              "======================================================================\n",
              "Embedding            [16]                 928        True      \n",
              "______________________________________________________________________\n",
              "Embedding            [100]                160,600    True      \n",
              "______________________________________________________________________\n",
              "Dropout              [116]                0          False     \n",
              "______________________________________________________________________\n",
              "Linear               [1300]               152,100    True      \n",
              "______________________________________________________________________\n",
              "ReLU                 [1300]               0          False     \n",
              "______________________________________________________________________\n",
              "BatchNorm1d          [1300]               2,600      True      \n",
              "______________________________________________________________________\n",
              "Linear               [800]                1,040,800  True      \n",
              "______________________________________________________________________\n",
              "ReLU                 [800]                0          False     \n",
              "______________________________________________________________________\n",
              "BatchNorm1d          [800]                1,600      True      \n",
              "______________________________________________________________________\n",
              "Linear               [97]                 77,697     True      \n",
              "______________________________________________________________________\n",
              "\n",
              "Total params: 1,436,325\n",
              "Total trainable params: 1,436,325\n",
              "Total non-trainable params: 0\n",
              "Optimized with 'torch.optim.adam.Adam', betas=(0.9, 0.99)\n",
              "Using true weight decay as discussed in https://www.fast.ai/2018/07/02/adam-weight-decay/ \n",
              "Loss function : FlattenedLoss\n",
              "======================================================================\n",
              "Callbacks functions applied "
            ]
          },
          "metadata": {
            "tags": []
          },
          "execution_count": 66
        }
      ]
    },
    {
      "cell_type": "code",
      "metadata": {
        "id": "aZPZg0EHRXgT",
        "colab_type": "code",
        "colab": {}
      },
      "source": [
        "learn.model_dir = '/content/drive/My Drive/data/models'\n",
        "learn.save('material_classifier_model')"
      ],
      "execution_count": 0,
      "outputs": []
    },
    {
      "cell_type": "markdown",
      "metadata": {
        "id": "G9NbJ8aELTww",
        "colab_type": "text"
      },
      "source": [
        "## Inference  \n",
        "- run test data set to predict material\n",
        "- extract the prediction confindece score  "
      ]
    },
    {
      "cell_type": "code",
      "metadata": {
        "id": "RKMR_dJ6lXaC",
        "colab_type": "code",
        "outputId": "fb5799a1-4414-4fc5-d79a-3a4c22589d0c",
        "colab": {
          "base_uri": "https://localhost:8080/",
          "height": 51
        }
      },
      "source": [
        "row =777\n",
        "\n",
        "# data_frame = df\n",
        "data_frame = test_df\n",
        "\n",
        "print('given material -->', data_frame.iloc[row].material)\n",
        "print('description ---> ', data_frame.iloc[row].description, ', ', data_frame.iloc[row].euralDescription)\n",
        "# print('description ---> ', data_frame.iloc[row].euralDescription)"
      ],
      "execution_count": 85,
      "outputs": [
        {
          "output_type": "stream",
          "text": [
            "given material --> nan\n",
            "description --->  Multidruk ,  paper and cardboard\n"
          ],
          "name": "stdout"
        }
      ]
    },
    {
      "cell_type": "markdown",
      "metadata": {
        "id": "OMiulntKmV6B",
        "colab_type": "text"
      },
      "source": [
        "## Category Probability - Prediction Confidence score"
      ]
    },
    {
      "cell_type": "code",
      "metadata": {
        "id": "wZpGw7KOSdJw",
        "colab_type": "code",
        "outputId": "00cf193d-bc6d-402f-c3bd-26356b624395",
        "colab": {
          "base_uri": "https://localhost:8080/",
          "height": 51
        }
      },
      "source": [
        "#one_row = df.iloc[row]\n",
        "one_row = test_df.iloc[row]\n",
        "\n",
        "# pred_class,pred_idx,outputs = learn.predict(img)\n",
        "# print(pred_class)\n",
        "# print(list(zip(data.classes, map(lambda x: np.round(x * 100,1), outputs.detach().numpy())   )))\n",
        "\n",
        "predicted_cat, total_cat, weights = learn.predict(one_row)\n",
        "\n",
        "\n",
        "weights = dict(zip(data.classes, map(lambda x: np.round(x * 1,2), weights.detach().numpy() )   ))\n",
        "\n",
        "weights = dict((k, v) for k, v in weights.items() if v)\n",
        "\n",
        "print('predicted material ----> ', predicted_cat)\n",
        "print('other potential material classes---', weights)"
      ],
      "execution_count": 86,
      "outputs": [
        {
          "output_type": "stream",
          "text": [
            "predicted material ---->  paper\n",
            "other potential material classes--- {'paper': 1.0}\n"
          ],
          "name": "stdout"
        }
      ]
    }
  ]
}