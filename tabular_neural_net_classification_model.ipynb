{
  "nbformat": 4,
  "nbformat_minor": 0,
  "metadata": {
    "kernelspec": {
      "name": "python3",
      "display_name": "Python 3"
    },
    "colab": {
      "name": "tabular_neural_net_classification_model.ipynb",
      "provenance": [],
      "collapsed_sections": [],
      "include_colab_link": true
    },
    "accelerator": "GPU"
  },
  "cells": [
    {
      "cell_type": "markdown",
      "metadata": {
        "id": "view-in-github",
        "colab_type": "text"
      },
      "source": [
        "<a href=\"https://colab.research.google.com/github/Yolantele/ML-data-clasifier/blob/master/tabular_neural_net_classification_model.ipynb\" target=\"_parent\"><img src=\"https://colab.research.google.com/assets/colab-badge.svg\" alt=\"Open In Colab\"/></a>"
      ]
    },
    {
      "cell_type": "markdown",
      "metadata": {
        "id": "Mq9mdOq-LTwZ",
        "colab_type": "text"
      },
      "source": [
        "# Tabular Model For Waste Data Classification\n"
      ]
    },
    {
      "cell_type": "code",
      "metadata": {
        "id": "awLR-e3yMIwh",
        "colab_type": "code",
        "colab": {}
      },
      "source": [
        "%reload_ext autoreload\n",
        "%autoreload 2\n",
        "%matplotlib inline"
      ],
      "execution_count": 0,
      "outputs": []
    },
    {
      "cell_type": "code",
      "metadata": {
        "id": "K6dGchfdLTwa",
        "colab_type": "code",
        "colab": {}
      },
      "source": [
        "from fastai import *\n",
        "from fastai.tabular import *"
      ],
      "execution_count": 0,
      "outputs": []
    },
    {
      "cell_type": "markdown",
      "metadata": {
        "id": "LxUm22wWLTwd",
        "colab_type": "text"
      },
      "source": [
        "Tabular data should be in a Pandas `DataFrame`.\n",
        "df - data_frame"
      ]
    },
    {
      "cell_type": "code",
      "metadata": {
        "id": "Ep9XMVpgbAyD",
        "colab_type": "code",
        "colab": {}
      },
      "source": [
        "# mount to google drive and load files\n",
        "from google.colab import drive\n",
        "drive.mount('/content/drive')\n"
      ],
      "execution_count": 0,
      "outputs": []
    },
    {
      "cell_type": "code",
      "metadata": {
        "id": "o-N4-XeubRJ-",
        "colab_type": "code",
        "colab": {}
      },
      "source": [
        "# check file is loaded OK\n",
        "path = '/content/drive/My Drive/data/'\n",
        "print(path)"
      ],
      "execution_count": 0,
      "outputs": []
    },
    {
      "cell_type": "code",
      "metadata": {
        "id": "Y9lSvmBjLTwd",
        "colab_type": "code",
        "colab": {}
      },
      "source": [
        "# load train data frame\n",
        "df = pd.read_csv(path + '/minimizedData.csv')\n",
        "df.head()\n",
        "\n",
        "# load test data frame with material field empty\n",
        "test_df = pd.read_csv(path + '/testNoMaterialData.csv')"
      ],
      "execution_count": 0,
      "outputs": []
    },
    {
      "cell_type": "markdown",
      "metadata": {
        "id": "aRo89lenGCRV",
        "colab_type": "text"
      },
      "source": [
        "#cats and conts \n",
        "\n",
        "**categorical variables - cat_names:**\n",
        "\n",
        "what you're using to make predictions with.  (description, euralDescription).\n",
        "for categorical variables - will use Embeddings \n",
        "\n",
        "**continuos variables - cont_names:**\n",
        "\n",
        "any catgeory that has limited number of possible (integer) choises: true/false ; fields such as cleanOrContaminated or mixedOrPure\n",
        "continuos varibale names - they are sent to Neural net as pixels \n",
        "\n",
        "**uses processor - procs:**\n",
        "\n",
        "a number of processes that deal with data in some ways: FillMissing, Categorify, Normalize both train and test dtata sets"
      ]
    },
    {
      "cell_type": "code",
      "metadata": {
        "id": "cdnDATLzLTwg",
        "colab_type": "code",
        "colab": {}
      },
      "source": [
        "# dependable variable field:\n",
        "dep_var = 'material'\n",
        " \n",
        "# can add composite1, mType\n",
        "cat_names = ['euralDescription', 'description']\n",
        "cont_names = ['mixedOrPure', 'cleanOrDirty']\n",
        "# processors:\n",
        "# procs = [FillMissing, Categorify, Normalize]"
      ],
      "execution_count": 0,
      "outputs": []
    },
    {
      "cell_type": "code",
      "metadata": {
        "id": "E8m5c4X5LTwj",
        "colab_type": "code",
        "colab": {}
      },
      "source": [
        "test = TabularList.from_df(df.iloc[800:1000].copy(), path=path + '/minimizedData.csv', cat_names=cat_names, cont_names=cont_names)"
      ],
      "execution_count": 0,
      "outputs": []
    },
    {
      "cell_type": "markdown",
      "metadata": {
        "id": "gpyJ1DZFG4pL",
        "colab_type": "text"
      },
      "source": [
        "Next:\n",
        "data block api\n",
        "add labels - tell which cols - column it is \n",
        "\n",
        "and get back data bunch\n",
        "split train and test data ranges 800,1000\n"
      ]
    },
    {
      "cell_type": "code",
      "metadata": {
        "id": "B_jp4eqvLTwl",
        "colab_type": "code",
        "colab": {
          "base_uri": "https://localhost:8080/",
          "height": 85
        },
        "outputId": "51e1e852-055b-43a7-e2ae-c6265030c3b6"
      },
      "source": [
        "data = (TabularList.from_df(df, path=path+ '/minimizedData.csv', cat_names=cat_names, cont_names=cont_names, procs=procs)\n",
        "                           .split_by_idx(list(range(800,1000)))\n",
        "                           .label_from_df(cols=dep_var)\n",
        "                           .add_test(test)\n",
        "                           .databunch())"
      ],
      "execution_count": 73,
      "outputs": [
        {
          "output_type": "stream",
          "text": [
            "/usr/local/lib/python3.6/dist-packages/fastai/data_block.py:537: UserWarning: You are labelling your items with CategoryList.\n",
            "Your valid set contained the following unknown labels, the corresponding items have been discarded.\n",
            "zinc, flint, non-iron\n",
            "  if getattr(ds, 'warn', False): warn(ds.warn)\n"
          ],
          "name": "stderr"
        }
      ]
    },
    {
      "cell_type": "code",
      "metadata": {
        "id": "2dkuUmwsLTwo",
        "colab_type": "code",
        "outputId": "b9100019-c518-41af-f5d8-eb552f389cc1",
        "colab": {
          "base_uri": "https://localhost:8080/",
          "height": 495
        }
      },
      "source": [
        "data.show_batch(rows=10)"
      ],
      "execution_count": 74,
      "outputs": [
        {
          "output_type": "display_data",
          "data": {
            "text/html": [
              "<table border=\"1\" class=\"dataframe\">\n",
              "  <thead>\n",
              "    <tr style=\"text-align: right;\">\n",
              "      <th>euralDescription</th>\n",
              "      <th>description</th>\n",
              "      <th>mixedOrPure_na</th>\n",
              "      <th>cleanOrDirty_na</th>\n",
              "      <th>mixedOrPure</th>\n",
              "      <th>cleanOrDirty</th>\n",
              "      <th>target</th>\n",
              "    </tr>\n",
              "  </thead>\n",
              "  <tbody>\n",
              "    <tr>\n",
              "      <td>soil and stones not covered by 17 05 03</td>\n",
              "      <td>Amsterdam peat 2015 Boskoops</td>\n",
              "      <td>False</td>\n",
              "      <td>True</td>\n",
              "      <td>-1.7785</td>\n",
              "      <td>0.2535</td>\n",
              "      <td>ground</td>\n",
              "    </tr>\n",
              "    <tr>\n",
              "      <td>soil and stones not covered by 17 05 03</td>\n",
              "      <td>top layer of garden contaminated</td>\n",
              "      <td>False</td>\n",
              "      <td>False</td>\n",
              "      <td>0.5620</td>\n",
              "      <td>0.2535</td>\n",
              "      <td>ground</td>\n",
              "    </tr>\n",
              "    <tr>\n",
              "      <td>biodegradable waste</td>\n",
              "      <td>GREEN WASTE (WASTE SERVICE WEST)</td>\n",
              "      <td>False</td>\n",
              "      <td>True</td>\n",
              "      <td>-1.7785</td>\n",
              "      <td>0.2535</td>\n",
              "      <td>organic material</td>\n",
              "    </tr>\n",
              "    <tr>\n",
              "      <td>biodegradable waste</td>\n",
              "      <td>Ditch vegetation</td>\n",
              "      <td>False</td>\n",
              "      <td>True</td>\n",
              "      <td>-1.7785</td>\n",
              "      <td>0.2535</td>\n",
              "      <td>organic material</td>\n",
              "    </tr>\n",
              "    <tr>\n",
              "      <td>mixtures of concrete, stones, tiles or ceramic products other than those mentioned in 17 01 06</td>\n",
              "      <td>Grout</td>\n",
              "      <td>False</td>\n",
              "      <td>True</td>\n",
              "      <td>0.5620</td>\n",
              "      <td>0.2535</td>\n",
              "      <td>water</td>\n",
              "    </tr>\n",
              "    <tr>\n",
              "      <td>soil and stones not covered by 17 05 03</td>\n",
              "      <td>Soil environmental quality up to max. Industry</td>\n",
              "      <td>False</td>\n",
              "      <td>True</td>\n",
              "      <td>0.5620</td>\n",
              "      <td>0.2535</td>\n",
              "      <td>ground</td>\n",
              "    </tr>\n",
              "    <tr>\n",
              "      <td>soil and stones</td>\n",
              "      <td>Debris with&gt; 30% sand</td>\n",
              "      <td>False</td>\n",
              "      <td>True</td>\n",
              "      <td>0.5620</td>\n",
              "      <td>0.2535</td>\n",
              "      <td>sand</td>\n",
              "    </tr>\n",
              "    <tr>\n",
              "      <td>paper and cardboard</td>\n",
              "      <td>papier &amp;amp;amp; karton, extern</td>\n",
              "      <td>False</td>\n",
              "      <td>True</td>\n",
              "      <td>0.5620</td>\n",
              "      <td>0.2535</td>\n",
              "      <td>carton</td>\n",
              "    </tr>\n",
              "    <tr>\n",
              "      <td>biodegradable waste</td>\n",
              "      <td>Boomblad</td>\n",
              "      <td>False</td>\n",
              "      <td>True</td>\n",
              "      <td>-1.7785</td>\n",
              "      <td>0.2535</td>\n",
              "      <td>organic material</td>\n",
              "    </tr>\n",
              "    <tr>\n",
              "      <td>metal</td>\n",
              "      <td>minerals</td>\n",
              "      <td>True</td>\n",
              "      <td>True</td>\n",
              "      <td>0.5620</td>\n",
              "      <td>0.2535</td>\n",
              "      <td>minerals</td>\n",
              "    </tr>\n",
              "  </tbody>\n",
              "</table>"
            ],
            "text/plain": [
              "<IPython.core.display.HTML object>"
            ]
          },
          "metadata": {
            "tags": []
          }
        }
      ]
    },
    {
      "cell_type": "markdown",
      "metadata": {
        "id": "VaQDF2XvHtXv",
        "colab_type": "text"
      },
      "source": [
        "pass in data to tabula)learner:\n"
      ]
    },
    {
      "cell_type": "code",
      "metadata": {
        "id": "wMAcYNmSLTwr",
        "colab_type": "code",
        "colab": {}
      },
      "source": [
        "learn = tabular_learner(data, layers=[200,100], metrics=accuracy)"
      ],
      "execution_count": 0,
      "outputs": []
    },
    {
      "cell_type": "code",
      "metadata": {
        "id": "et5KC2pSLTwu",
        "colab_type": "code",
        "outputId": "ca602a9d-2c1f-4392-afd5-75693e12f719",
        "colab": {
          "base_uri": "https://localhost:8080/",
          "height": 111
        }
      },
      "source": [
        "learn.fit(2, 1e-2)"
      ],
      "execution_count": 76,
      "outputs": [
        {
          "output_type": "display_data",
          "data": {
            "text/html": [
              "<table border=\"1\" class=\"dataframe\">\n",
              "  <thead>\n",
              "    <tr style=\"text-align: left;\">\n",
              "      <th>epoch</th>\n",
              "      <th>train_loss</th>\n",
              "      <th>valid_loss</th>\n",
              "      <th>accuracy</th>\n",
              "      <th>time</th>\n",
              "    </tr>\n",
              "  </thead>\n",
              "  <tbody>\n",
              "    <tr>\n",
              "      <td>0</td>\n",
              "      <td>2.544756</td>\n",
              "      <td>2.529422</td>\n",
              "      <td>0.507614</td>\n",
              "      <td>00:00</td>\n",
              "    </tr>\n",
              "    <tr>\n",
              "      <td>1</td>\n",
              "      <td>1.544235</td>\n",
              "      <td>1.150894</td>\n",
              "      <td>0.746193</td>\n",
              "      <td>00:00</td>\n",
              "    </tr>\n",
              "  </tbody>\n",
              "</table>"
            ],
            "text/plain": [
              "<IPython.core.display.HTML object>"
            ]
          },
          "metadata": {
            "tags": []
          }
        }
      ]
    },
    {
      "cell_type": "code",
      "metadata": {
        "id": "dRjivXLNYqtN",
        "colab_type": "code",
        "colab": {
          "base_uri": "https://localhost:8080/",
          "height": 340
        },
        "outputId": "0265fe5c-0de5-4aa2-e857-31566a1ded4c"
      },
      "source": [
        "# see into the model\n",
        "learn.model.eval()"
      ],
      "execution_count": 77,
      "outputs": [
        {
          "output_type": "execute_result",
          "data": {
            "text/plain": [
              "TabularModel(\n",
              "  (embeds): ModuleList(\n",
              "    (0): Embedding(59, 16)\n",
              "    (1): Embedding(1774, 106)\n",
              "    (2): Embedding(3, 3)\n",
              "    (3): Embedding(3, 3)\n",
              "  )\n",
              "  (emb_drop): Dropout(p=0.0, inplace=False)\n",
              "  (bn_cont): BatchNorm1d(2, eps=1e-05, momentum=0.1, affine=True, track_running_stats=True)\n",
              "  (layers): Sequential(\n",
              "    (0): Linear(in_features=130, out_features=200, bias=True)\n",
              "    (1): ReLU(inplace=True)\n",
              "    (2): BatchNorm1d(200, eps=1e-05, momentum=0.1, affine=True, track_running_stats=True)\n",
              "    (3): Linear(in_features=200, out_features=100, bias=True)\n",
              "    (4): ReLU(inplace=True)\n",
              "    (5): BatchNorm1d(100, eps=1e-05, momentum=0.1, affine=True, track_running_stats=True)\n",
              "    (6): Linear(in_features=100, out_features=98, bias=True)\n",
              "  )\n",
              ")"
            ]
          },
          "metadata": {
            "tags": []
          },
          "execution_count": 77
        }
      ]
    },
    {
      "cell_type": "code",
      "metadata": {
        "id": "aZPZg0EHRXgT",
        "colab_type": "code",
        "colab": {}
      },
      "source": [
        "learn.model_dir = '/content/drive/My Drive/data/models'\n",
        "learn.save('material_classifier_model')"
      ],
      "execution_count": 0,
      "outputs": []
    },
    {
      "cell_type": "markdown",
      "metadata": {
        "id": "G9NbJ8aELTww",
        "colab_type": "text"
      },
      "source": [
        "## Inference\n",
        "\n",
        "data_frame (df) "
      ]
    },
    {
      "cell_type": "code",
      "metadata": {
        "id": "RKMR_dJ6lXaC",
        "colab_type": "code",
        "colab": {
          "base_uri": "https://localhost:8080/",
          "height": 442
        },
        "outputId": "35411306-b8fd-477b-e1a5-e6ff8cc84fcf"
      },
      "source": [
        "row = 95\n",
        "# print(df.iloc[row].material)\n",
        "print(test_df.iloc[row])\n"
      ],
      "execution_count": 167,
      "outputs": [
        {
          "output_type": "stream",
          "text": [
            "reason                                                  NaN\n",
            "origin                                                  NaN\n",
            "color                                                   NaN\n",
            "state                                                debris\n",
            "size                                                    NaN\n",
            "consistency                                            vast\n",
            "otherCode                                               NaN\n",
            "material4                                               NaN\n",
            "material3                                               NaN\n",
            "material2                                               NaN\n",
            "material                                                NaN\n",
            "mType                                extractively cleanable\n",
            "composite2                                              NaN\n",
            "composite1                                           debris\n",
            "cType                                                   NaN\n",
            "indirectProduct                                         NaN\n",
            "directProduct                                           NaN\n",
            "pType                                                   NaN\n",
            "mixedOrPure                                               1\n",
            "cleanOrDirty                                              1\n",
            "euralDescription    soil and stones not covered by 17 05 03\n",
            "euralCode                                            170504\n",
            "description                           extr cleanable debris\n",
            "/0                                                      NaN\n",
            "Name: 95, dtype: object\n"
          ],
          "name": "stdout"
        }
      ]
    },
    {
      "cell_type": "code",
      "metadata": {
        "id": "wZpGw7KOSdJw",
        "colab_type": "code",
        "colab": {
          "base_uri": "https://localhost:8080/",
          "height": 34
        },
        "outputId": "d9bf7bb3-b21f-4e13-b957-b84d7d746ade"
      },
      "source": [
        "# one_row = df.iloc[row]\n",
        "# learn.predict(one_row)[0]\n",
        "\n",
        "with_test_one_row = test_df.iloc[row]\n",
        "learn.predict(with_test_one_row)[0]\n"
      ],
      "execution_count": 168,
      "outputs": [
        {
          "output_type": "execute_result",
          "data": {
            "text/plain": [
              "Category ground"
            ]
          },
          "metadata": {
            "tags": []
          },
          "execution_count": 168
        }
      ]
    },
    {
      "cell_type": "markdown",
      "metadata": {
        "id": "i44hOiNWRSMl",
        "colab_type": "text"
      },
      "source": [
        "\n",
        "- tfm - transformations,\n",
        "- train_ds - trained data set,\n",
        "- df_tst = data fram etest,\n"
      ]
    },
    {
      "cell_type": "code",
      "metadata": {
        "id": "N67dXyrMRFEd",
        "colab_type": "code",
        "colab": {}
      },
      "source": [
        "# apply the set of transforms to your new data:\n",
        "for tfm in data.tfms: df = tfm(df, is_test=True)\n",
        "\n",
        "# Then you have to transforms the categorical variables into codes:\n",
        "cats = np.stack([c.cat.codes.values for n,c in df[cat_names].items()], 1) + 1\n",
        "\n",
        "# and normalize the continuous variables\n",
        "conts = np.stack([c.astype('float32').values for n,c in df[cont_names].items()], 1)\n",
        "means, stds = data.stats \n",
        "conts = (conts - means[None]) / (stds[None]+1e-7)\n",
        "\n",
        "# And finally, you can run the model on [tensor(cats),tensor(conts)] (or some batches of it if you have a lot things to predict)."
      ],
      "execution_count": 0,
      "outputs": []
    }
  ]
}