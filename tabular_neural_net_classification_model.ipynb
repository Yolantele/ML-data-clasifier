{
  "nbformat": 4,
  "nbformat_minor": 0,
  "metadata": {
    "kernelspec": {
      "name": "python3",
      "display_name": "Python 3"
    },
    "colab": {
      "name": "tabular_neural_net_classification_model.ipynb",
      "provenance": [],
      "collapsed_sections": [],
      "include_colab_link": true
    },
    "accelerator": "GPU"
  },
  "cells": [
    {
      "cell_type": "markdown",
      "metadata": {
        "id": "view-in-github",
        "colab_type": "text"
      },
      "source": [
        "<a href=\"https://colab.research.google.com/github/Yolantele/ML-data-clasifier/blob/master/tabular_neural_net_classification_model.ipynb\" target=\"_parent\"><img src=\"https://colab.research.google.com/assets/colab-badge.svg\" alt=\"Open In Colab\"/></a>"
      ]
    },
    {
      "cell_type": "markdown",
      "metadata": {
        "id": "Mq9mdOq-LTwZ",
        "colab_type": "text"
      },
      "source": [
        "# Tabular Model For Waste Data Classification\n"
      ]
    },
    {
      "cell_type": "code",
      "metadata": {
        "id": "awLR-e3yMIwh",
        "colab_type": "code",
        "colab": {}
      },
      "source": [
        "%reload_ext autoreload\n",
        "%autoreload 2\n",
        "%matplotlib inline"
      ],
      "execution_count": 0,
      "outputs": []
    },
    {
      "cell_type": "code",
      "metadata": {
        "id": "K6dGchfdLTwa",
        "colab_type": "code",
        "colab": {}
      },
      "source": [
        "from fastai import *\n",
        "from fastai.tabular import *"
      ],
      "execution_count": 0,
      "outputs": []
    },
    {
      "cell_type": "markdown",
      "metadata": {
        "id": "LxUm22wWLTwd",
        "colab_type": "text"
      },
      "source": [
        "Tabular data should be in a Pandas `DataFrame`.\n",
        "df - data_frame"
      ]
    },
    {
      "cell_type": "code",
      "metadata": {
        "id": "Ep9XMVpgbAyD",
        "colab_type": "code",
        "outputId": "859f1bbd-1314-40a5-85fe-ff1211753efb",
        "colab": {
          "base_uri": "https://localhost:8080/",
          "height": 122
        }
      },
      "source": [
        "# mount to google drive and load files\n",
        "from google.colab import drive\n",
        "drive.mount('/content/drive')\n"
      ],
      "execution_count": 0,
      "outputs": [
        {
          "output_type": "stream",
          "text": [
            "Go to this URL in a browser: https://accounts.google.com/o/oauth2/auth?client_id=947318989803-6bn6qk8qdgf4n4g3pfee6491hc0brc4i.apps.googleusercontent.com&redirect_uri=urn%3aietf%3awg%3aoauth%3a2.0%3aoob&response_type=code&scope=email%20https%3a%2f%2fwww.googleapis.com%2fauth%2fdocs.test%20https%3a%2f%2fwww.googleapis.com%2fauth%2fdrive%20https%3a%2f%2fwww.googleapis.com%2fauth%2fdrive.photos.readonly%20https%3a%2f%2fwww.googleapis.com%2fauth%2fpeopleapi.readonly\n",
            "\n",
            "Enter your authorization code:\n",
            "··········\n",
            "Mounted at /content/drive\n"
          ],
          "name": "stdout"
        }
      ]
    },
    {
      "cell_type": "code",
      "metadata": {
        "id": "o-N4-XeubRJ-",
        "colab_type": "code",
        "outputId": "9f5cce63-1ee5-48ec-bd1c-630ab5f5d2f6",
        "colab": {
          "base_uri": "https://localhost:8080/",
          "height": 34
        }
      },
      "source": [
        "# check file is loaded OK\n",
        "path = '/content/drive/My Drive/data/'\n",
        "print(path)"
      ],
      "execution_count": 0,
      "outputs": [
        {
          "output_type": "stream",
          "text": [
            "/content/drive/My Drive/data/\n"
          ],
          "name": "stdout"
        }
      ]
    },
    {
      "cell_type": "code",
      "metadata": {
        "id": "Y9lSvmBjLTwd",
        "colab_type": "code",
        "outputId": "2351823c-268b-49d9-b204-00950aa4f63d",
        "colab": {
          "base_uri": "https://localhost:8080/",
          "height": 360
        }
      },
      "source": [
        "# load train data frame\n",
        "df = pd.read_csv(path + '/minimizedData.csv')\n",
        "\n",
        "\n",
        "\n",
        "# load test data frame with material field empty\n",
        "test_df = pd.read_csv(path + '/testNoMaterialData.csv')\n",
        "\n",
        "df.head()"
      ],
      "execution_count": 0,
      "outputs": [
        {
          "output_type": "execute_result",
          "data": {
            "text/html": [
              "<div>\n",
              "<style scoped>\n",
              "    .dataframe tbody tr th:only-of-type {\n",
              "        vertical-align: middle;\n",
              "    }\n",
              "\n",
              "    .dataframe tbody tr th {\n",
              "        vertical-align: top;\n",
              "    }\n",
              "\n",
              "    .dataframe thead th {\n",
              "        text-align: right;\n",
              "    }\n",
              "</style>\n",
              "<table border=\"1\" class=\"dataframe\">\n",
              "  <thead>\n",
              "    <tr style=\"text-align: right;\">\n",
              "      <th></th>\n",
              "      <th>reason</th>\n",
              "      <th>origin</th>\n",
              "      <th>color</th>\n",
              "      <th>state</th>\n",
              "      <th>size</th>\n",
              "      <th>consistency</th>\n",
              "      <th>otherCode</th>\n",
              "      <th>material4</th>\n",
              "      <th>material3</th>\n",
              "      <th>material2</th>\n",
              "      <th>material</th>\n",
              "      <th>mType</th>\n",
              "      <th>composite2</th>\n",
              "      <th>composite1</th>\n",
              "      <th>cType</th>\n",
              "      <th>indirectProduct</th>\n",
              "      <th>directProduct</th>\n",
              "      <th>pType</th>\n",
              "      <th>mixedOrPure</th>\n",
              "      <th>cleanOrDirty</th>\n",
              "      <th>euralDescription</th>\n",
              "      <th>euralCode</th>\n",
              "      <th>description</th>\n",
              "      <th>/0</th>\n",
              "    </tr>\n",
              "  </thead>\n",
              "  <tbody>\n",
              "    <tr>\n",
              "      <th>0</th>\n",
              "      <td>NaN</td>\n",
              "      <td>NaN</td>\n",
              "      <td>NaN</td>\n",
              "      <td>NaN</td>\n",
              "      <td>NaN</td>\n",
              "      <td>slurry</td>\n",
              "      <td>NaN</td>\n",
              "      <td>NaN</td>\n",
              "      <td>NaN</td>\n",
              "      <td>oil</td>\n",
              "      <td>organic material</td>\n",
              "      <td>Soy</td>\n",
              "      <td>NaN</td>\n",
              "      <td>dry</td>\n",
              "      <td>NaN</td>\n",
              "      <td>dry</td>\n",
              "      <td>NaN</td>\n",
              "      <td>NaN</td>\n",
              "      <td>1.0</td>\n",
              "      <td>NaN</td>\n",
              "      <td>material unsuitable for consumption or processing</td>\n",
              "      <td>20304</td>\n",
              "      <td>Soyadroes technically</td>\n",
              "      <td>NaN</td>\n",
              "    </tr>\n",
              "    <tr>\n",
              "      <th>1</th>\n",
              "      <td>NaN</td>\n",
              "      <td>NaN</td>\n",
              "      <td>NaN</td>\n",
              "      <td>NaN</td>\n",
              "      <td>NaN</td>\n",
              "      <td>vast</td>\n",
              "      <td>NaN</td>\n",
              "      <td>NaN</td>\n",
              "      <td>NaN</td>\n",
              "      <td>NaN</td>\n",
              "      <td>wood</td>\n",
              "      <td>branches</td>\n",
              "      <td>NaN</td>\n",
              "      <td>NaN</td>\n",
              "      <td>NaN</td>\n",
              "      <td>wood</td>\n",
              "      <td>NaN</td>\n",
              "      <td>NaN</td>\n",
              "      <td>0.0</td>\n",
              "      <td>NaN</td>\n",
              "      <td>waste from forestry</td>\n",
              "      <td>20107</td>\n",
              "      <td>Branches</td>\n",
              "      <td>NaN</td>\n",
              "    </tr>\n",
              "    <tr>\n",
              "      <th>2</th>\n",
              "      <td>NaN</td>\n",
              "      <td>NaN</td>\n",
              "      <td>NaN</td>\n",
              "      <td>NaN</td>\n",
              "      <td>NaN</td>\n",
              "      <td>vast</td>\n",
              "      <td>NaN</td>\n",
              "      <td>NaN</td>\n",
              "      <td>NaN</td>\n",
              "      <td>NaN</td>\n",
              "      <td>cocoa</td>\n",
              "      <td>caps</td>\n",
              "      <td>NaN</td>\n",
              "      <td>NaN</td>\n",
              "      <td>NaN</td>\n",
              "      <td>cocoa</td>\n",
              "      <td>NaN</td>\n",
              "      <td>NaN</td>\n",
              "      <td>0.0</td>\n",
              "      <td>NaN</td>\n",
              "      <td>material unsuitable for consumption or processing</td>\n",
              "      <td>20304</td>\n",
              "      <td>Cocoa shells</td>\n",
              "      <td>NaN</td>\n",
              "    </tr>\n",
              "    <tr>\n",
              "      <th>3</th>\n",
              "      <td>NaN</td>\n",
              "      <td>NaN</td>\n",
              "      <td>NaN</td>\n",
              "      <td>debris</td>\n",
              "      <td>NaN</td>\n",
              "      <td>vast</td>\n",
              "      <td>NaN</td>\n",
              "      <td>NaN</td>\n",
              "      <td>NaN</td>\n",
              "      <td>NaN</td>\n",
              "      <td>sand</td>\n",
              "      <td>NaN</td>\n",
              "      <td>NaN</td>\n",
              "      <td>debris</td>\n",
              "      <td>NaN</td>\n",
              "      <td>debris</td>\n",
              "      <td>NaN</td>\n",
              "      <td>NaN</td>\n",
              "      <td>1.0</td>\n",
              "      <td>1.0</td>\n",
              "      <td>mixtures of concrete, stones, tiles or ceramic...</td>\n",
              "      <td>170107</td>\n",
              "      <td>Debris with Sand</td>\n",
              "      <td>NaN</td>\n",
              "    </tr>\n",
              "    <tr>\n",
              "      <th>4</th>\n",
              "      <td>NaN</td>\n",
              "      <td>NaN</td>\n",
              "      <td>NaN</td>\n",
              "      <td>NaN</td>\n",
              "      <td>NaN</td>\n",
              "      <td>vast</td>\n",
              "      <td>NaN</td>\n",
              "      <td>NaN</td>\n",
              "      <td>NaN</td>\n",
              "      <td>NaN</td>\n",
              "      <td>organic material</td>\n",
              "      <td>Soy</td>\n",
              "      <td>NaN</td>\n",
              "      <td>NaN</td>\n",
              "      <td>NaN</td>\n",
              "      <td>organic material</td>\n",
              "      <td>NaN</td>\n",
              "      <td>NaN</td>\n",
              "      <td>0.0</td>\n",
              "      <td>NaN</td>\n",
              "      <td>material unsuitable for consumption or processing</td>\n",
              "      <td>20304</td>\n",
              "      <td>soya</td>\n",
              "      <td>NaN</td>\n",
              "    </tr>\n",
              "  </tbody>\n",
              "</table>\n",
              "</div>"
            ],
            "text/plain": [
              "  reason origin color  ... euralCode            description  /0\n",
              "0    NaN    NaN   NaN  ...     20304  Soyadroes technically NaN\n",
              "1    NaN    NaN   NaN  ...     20107               Branches NaN\n",
              "2    NaN    NaN   NaN  ...     20304           Cocoa shells NaN\n",
              "3    NaN    NaN   NaN  ...    170107       Debris with Sand NaN\n",
              "4    NaN    NaN   NaN  ...     20304                   soya NaN\n",
              "\n",
              "[5 rows x 24 columns]"
            ]
          },
          "metadata": {
            "tags": []
          },
          "execution_count": 24
        }
      ]
    },
    {
      "cell_type": "markdown",
      "metadata": {
        "id": "aRo89lenGCRV",
        "colab_type": "text"
      },
      "source": [
        "#cats and conts \n",
        "\n",
        "**categorical variables - cat_names:**\n",
        "\n",
        "what you're using to make predictions with.  (description, euralDescription, composite1, mType).\n",
        "for categorical variables - will use Embeddings \n",
        "\n",
        "**continuos variables - cont_names:**\n",
        "\n",
        "any catgeory that has limited number of possible (integer) choises: true/false ; fields such as cleanOrContaminated or mixedOrPure\n",
        "continuos varibale names - they are sent to Neural net as pixels \n",
        "\n",
        "**uses processor - procs:**\n",
        "\n",
        "a number of processes that deal with data in some ways: FillMissing, Categorify, Normalize both train and test dtata sets"
      ]
    },
    {
      "cell_type": "code",
      "metadata": {
        "id": "cdnDATLzLTwg",
        "colab_type": "code",
        "colab": {}
      },
      "source": [
        "# dependable variable field:\n",
        "dep_var = 'material'\n",
        " \n",
        "# can add composite1, mType\n",
        "cat_names = ['euralDescription', 'description', 'euralCode']\n",
        "cont_names = []\n",
        "# cont_names = ['mixedOrPure', 'cleanOrDirty']\n",
        "# processors:\n",
        "procs = [FillMissing, Categorify, Normalize]"
      ],
      "execution_count": 0,
      "outputs": []
    },
    {
      "cell_type": "code",
      "metadata": {
        "id": "E8m5c4X5LTwj",
        "colab_type": "code",
        "colab": {}
      },
      "source": [
        "test = TabularList.from_df(df.iloc[950:1200].copy(), path=path + '/minimizedData.csv', cat_names=cat_names, cont_names=cont_names)"
      ],
      "execution_count": 0,
      "outputs": []
    },
    {
      "cell_type": "markdown",
      "metadata": {
        "id": "gpyJ1DZFG4pL",
        "colab_type": "text"
      },
      "source": [
        "Next:\n",
        "data block api\n",
        "add labels - tell which cols - column it is \n",
        "\n",
        "and get back data bunch\n",
        "split train and test data ranges 800,1000\n"
      ]
    },
    {
      "cell_type": "code",
      "metadata": {
        "id": "B_jp4eqvLTwl",
        "colab_type": "code",
        "outputId": "a1b1e49f-30a8-446b-eaff-cbda63862088",
        "colab": {
          "base_uri": "https://localhost:8080/",
          "height": 85
        }
      },
      "source": [
        "data = (TabularList.from_df(df, path=path+ '/minimizedData.csv', cat_names=cat_names, cont_names=cont_names, procs=procs)\n",
        "                           .split_by_idx(list(range(950,1200)))\n",
        "                           .label_from_df(cols=dep_var)\n",
        "                           .add_test(test)\n",
        "                           .databunch())"
      ],
      "execution_count": 0,
      "outputs": [
        {
          "output_type": "stream",
          "text": [
            "/usr/local/lib/python3.6/dist-packages/fastai/data_block.py:537: UserWarning: You are labelling your items with CategoryList.\n",
            "Your valid set contained the following unknown labels, the corresponding items have been discarded.\n",
            "PCFIC, non-iron, solvents, syrup, flint...\n",
            "  if getattr(ds, 'warn', False): warn(ds.warn)\n"
          ],
          "name": "stderr"
        }
      ]
    },
    {
      "cell_type": "code",
      "metadata": {
        "id": "2dkuUmwsLTwo",
        "colab_type": "code",
        "outputId": "d484ffd4-fbeb-47dc-ccf9-3b39afc48979",
        "colab": {
          "base_uri": "https://localhost:8080/",
          "height": 359
        }
      },
      "source": [
        "data.show_batch(rows=10)"
      ],
      "execution_count": 0,
      "outputs": [
        {
          "output_type": "display_data",
          "data": {
            "text/html": [
              "<table border=\"1\" class=\"dataframe\">\n",
              "  <thead>\n",
              "    <tr style=\"text-align: right;\">\n",
              "      <th>euralDescription</th>\n",
              "      <th>description</th>\n",
              "      <th>euralCode</th>\n",
              "      <th>target</th>\n",
              "    </tr>\n",
              "  </thead>\n",
              "  <tbody>\n",
              "    <tr>\n",
              "      <td>paper and cardboard</td>\n",
              "      <td>Envelopes</td>\n",
              "      <td>200101</td>\n",
              "      <td>paper</td>\n",
              "    </tr>\n",
              "    <tr>\n",
              "      <td>wood</td>\n",
              "      <td>B-Wood, painted, glued sheet material</td>\n",
              "      <td>170201</td>\n",
              "      <td>wood</td>\n",
              "    </tr>\n",
              "    <tr>\n",
              "      <td>metal</td>\n",
              "      <td>Demolition</td>\n",
              "      <td>200140</td>\n",
              "      <td>metal</td>\n",
              "    </tr>\n",
              "    <tr>\n",
              "      <td>building material containing asbestos</td>\n",
              "      <td>asbestos, not route</td>\n",
              "      <td>170605</td>\n",
              "      <td>asbestos</td>\n",
              "    </tr>\n",
              "    <tr>\n",
              "      <td>#na#</td>\n",
              "      <td>2330 b wood</td>\n",
              "      <td>170904</td>\n",
              "      <td>wood</td>\n",
              "    </tr>\n",
              "    <tr>\n",
              "      <td>metal waste</td>\n",
              "      <td>Iron</td>\n",
              "      <td>20110</td>\n",
              "      <td>iron</td>\n",
              "    </tr>\n",
              "    <tr>\n",
              "      <td>biodegradable waste</td>\n",
              "      <td>Gardening system heavy / chips</td>\n",
              "      <td>200201</td>\n",
              "      <td>organic material</td>\n",
              "    </tr>\n",
              "    <tr>\n",
              "      <td>soil and stones not covered by 17 05 03</td>\n",
              "      <td>category 1 soil</td>\n",
              "      <td>170504</td>\n",
              "      <td>ground</td>\n",
              "    </tr>\n",
              "    <tr>\n",
              "      <td>plastics</td>\n",
              "      <td>PA / PE - foil</td>\n",
              "      <td>200139</td>\n",
              "      <td>PA</td>\n",
              "    </tr>\n",
              "    <tr>\n",
              "      <td>biodegradable waste</td>\n",
              "      <td>Organic waste (NTA 610)</td>\n",
              "      <td>200201</td>\n",
              "      <td>organic material</td>\n",
              "    </tr>\n",
              "  </tbody>\n",
              "</table>"
            ],
            "text/plain": [
              "<IPython.core.display.HTML object>"
            ]
          },
          "metadata": {
            "tags": []
          }
        }
      ]
    },
    {
      "cell_type": "markdown",
      "metadata": {
        "id": "VaQDF2XvHtXv",
        "colab_type": "text"
      },
      "source": [
        "pass in data to tabular learner:\n"
      ]
    },
    {
      "cell_type": "code",
      "metadata": {
        "id": "wMAcYNmSLTwr",
        "colab_type": "code",
        "colab": {}
      },
      "source": [
        "learn = tabular_learner(data, layers=[300,100], metrics=accuracy)"
      ],
      "execution_count": 0,
      "outputs": []
    },
    {
      "cell_type": "code",
      "metadata": {
        "id": "et5KC2pSLTwu",
        "colab_type": "code",
        "outputId": "fbd96657-8b66-4e76-a130-f8e3dd77ce27",
        "colab": {
          "base_uri": "https://localhost:8080/",
          "height": 111
        }
      },
      "source": [
        "learn.fit(2, 1e-2)"
      ],
      "execution_count": 0,
      "outputs": [
        {
          "output_type": "display_data",
          "data": {
            "text/html": [
              "<table border=\"1\" class=\"dataframe\">\n",
              "  <thead>\n",
              "    <tr style=\"text-align: left;\">\n",
              "      <th>epoch</th>\n",
              "      <th>train_loss</th>\n",
              "      <th>valid_loss</th>\n",
              "      <th>accuracy</th>\n",
              "      <th>time</th>\n",
              "    </tr>\n",
              "  </thead>\n",
              "  <tbody>\n",
              "    <tr>\n",
              "      <td>0</td>\n",
              "      <td>1.900922</td>\n",
              "      <td>2.334291</td>\n",
              "      <td>0.565574</td>\n",
              "      <td>00:00</td>\n",
              "    </tr>\n",
              "    <tr>\n",
              "      <td>1</td>\n",
              "      <td>1.188990</td>\n",
              "      <td>1.174783</td>\n",
              "      <td>0.717213</td>\n",
              "      <td>00:00</td>\n",
              "    </tr>\n",
              "  </tbody>\n",
              "</table>"
            ],
            "text/plain": [
              "<IPython.core.display.HTML object>"
            ]
          },
          "metadata": {
            "tags": []
          }
        }
      ]
    },
    {
      "cell_type": "code",
      "metadata": {
        "id": "dRjivXLNYqtN",
        "colab_type": "code",
        "outputId": "90b410d1-7bc3-4ec9-bf21-992cf474f139",
        "colab": {
          "base_uri": "https://localhost:8080/",
          "height": 612
        }
      },
      "source": [
        "# see into the model\n",
        "# learn.model.eval()\n",
        "learn.summary()\n"
      ],
      "execution_count": 73,
      "outputs": [
        {
          "output_type": "execute_result",
          "data": {
            "text/plain": [
              "TabularModel\n",
              "======================================================================\n",
              "Layer (type)         Output Shape         Param #    Trainable \n",
              "======================================================================\n",
              "Embedding            [15]                 855        True      \n",
              "______________________________________________________________________\n",
              "Embedding            [104]                179,088    True      \n",
              "______________________________________________________________________\n",
              "Embedding            [18]                 1,404      True      \n",
              "______________________________________________________________________\n",
              "Dropout              [137]                0          False     \n",
              "______________________________________________________________________\n",
              "Linear               [300]                41,400     True      \n",
              "______________________________________________________________________\n",
              "ReLU                 [300]                0          False     \n",
              "______________________________________________________________________\n",
              "BatchNorm1d          [300]                600        True      \n",
              "______________________________________________________________________\n",
              "Linear               [100]                30,100     True      \n",
              "______________________________________________________________________\n",
              "ReLU                 [100]                0          False     \n",
              "______________________________________________________________________\n",
              "BatchNorm1d          [100]                200        True      \n",
              "______________________________________________________________________\n",
              "Linear               [95]                 9,595      True      \n",
              "______________________________________________________________________\n",
              "\n",
              "Total params: 263,242\n",
              "Total trainable params: 263,242\n",
              "Total non-trainable params: 0\n",
              "Optimized with 'torch.optim.adam.Adam', betas=(0.9, 0.99)\n",
              "Using true weight decay as discussed in https://www.fast.ai/2018/07/02/adam-weight-decay/ \n",
              "Loss function : FlattenedLoss\n",
              "======================================================================\n",
              "Callbacks functions applied "
            ]
          },
          "metadata": {
            "tags": []
          },
          "execution_count": 73
        }
      ]
    },
    {
      "cell_type": "code",
      "metadata": {
        "id": "aZPZg0EHRXgT",
        "colab_type": "code",
        "colab": {}
      },
      "source": [
        "learn.model_dir = '/content/drive/My Drive/data/models'\n",
        "learn.save('material_classifier_model')"
      ],
      "execution_count": 0,
      "outputs": []
    },
    {
      "cell_type": "markdown",
      "metadata": {
        "id": "G9NbJ8aELTww",
        "colab_type": "text"
      },
      "source": [
        "## Inference\n",
        "\n",
        "data_frame (df) "
      ]
    },
    {
      "cell_type": "code",
      "metadata": {
        "id": "RKMR_dJ6lXaC",
        "colab_type": "code",
        "outputId": "bf536c3c-960d-4175-c406-ef42a66e2fe7",
        "colab": {
          "base_uri": "https://localhost:8080/",
          "height": 51
        }
      },
      "source": [
        "row = 995\n",
        "# data_frame = df\n",
        "data_frame = test_df\n",
        "\n",
        "print('given material -->', data_frame.iloc[row].material)\n",
        "print(data_frame.iloc[row].description, ', ', data_frame.iloc[row].description,)\n"
      ],
      "execution_count": 97,
      "outputs": [
        {
          "output_type": "stream",
          "text": [
            "given material --> nan\n",
            "alcoholic beverages ,  alcoholic beverages\n"
          ],
          "name": "stdout"
        }
      ]
    },
    {
      "cell_type": "code",
      "metadata": {
        "id": "wZpGw7KOSdJw",
        "colab_type": "code",
        "outputId": "66754ea8-8522-4f39-ca1a-74f84f72aafa",
        "colab": {
          "base_uri": "https://localhost:8080/",
          "height": 255
        }
      },
      "source": [
        "# train data prediction\n",
        "# one_row = df.iloc[row]\n",
        "\n",
        "# test data prediction\n",
        "one_row = test_df.iloc[row]\n",
        "\n",
        "\n",
        "\n",
        "predicted_category = learn.predict(one_row)\n",
        "total_categories = learn.predict(one_row)[1]\n",
        "prediction_weights = learn.predict(one_row)[2]\n",
        "\n",
        "print('predicted material ------> ', predicted_category)\n",
        "print('')\n",
        "print('total available material categories:', total_categories)\n",
        "\n",
        "conf_r = max(learn.predict(one_row)[2])\n",
        "print('confidense rate ---------> ', conf_r)\n",
        "# print('prediction weights to categories:'prediction_weights)\n"
      ],
      "execution_count": 98,
      "outputs": [
        {
          "output_type": "stream",
          "text": [
            "predicted material ------>  (Category water, tensor(91), tensor([0.0013, 0.0011, 0.0042, 0.0070, 0.0017, 0.0031, 0.0028, 0.0018, 0.0023,\n",
            "        0.0048, 0.0012, 0.0017, 0.0028, 0.0020, 0.0045, 0.0150, 0.0039, 0.0013,\n",
            "        0.0027, 0.0022, 0.0079, 0.0022, 0.0053, 0.0014, 0.0274, 0.0099, 0.0012,\n",
            "        0.0618, 0.0022, 0.0062, 0.0044, 0.0037, 0.0088, 0.0607, 0.0023, 0.0021,\n",
            "        0.0045, 0.0191, 0.0077, 0.0056, 0.0017, 0.0070, 0.0016, 0.0150, 0.0030,\n",
            "        0.0027, 0.0049, 0.0084, 0.0024, 0.0036, 0.0049, 0.0156, 0.0863, 0.0019,\n",
            "        0.0027, 0.0027, 0.0023, 0.0029, 0.0007, 0.0049, 0.0015, 0.0061, 0.0015,\n",
            "        0.0049, 0.0029, 0.0024, 0.0021, 0.0783, 0.0044, 0.0468, 0.0107, 0.0073,\n",
            "        0.0026, 0.0012, 0.0015, 0.0042, 0.0032, 0.0021, 0.0024, 0.0150, 0.0052,\n",
            "        0.0025, 0.0220, 0.0183, 0.0019, 0.0036, 0.0168, 0.0035, 0.0061, 0.0013,\n",
            "        0.0020, 0.2171, 0.0083, 0.0019, 0.0012]))\n",
            "\n",
            "total available material categories: tensor(91)\n",
            "confidense rate --------->  tensor(0.2171)\n"
          ],
          "name": "stdout"
        }
      ]
    },
    {
      "cell_type": "markdown",
      "metadata": {
        "id": "i44hOiNWRSMl",
        "colab_type": "text"
      },
      "source": [
        "\n",
        "- tfm - transformations,\n",
        "- train_ds - trained data set,\n",
        "- df_tst = data fram etest,\n"
      ]
    },
    {
      "cell_type": "code",
      "metadata": {
        "id": "N67dXyrMRFEd",
        "colab_type": "code",
        "colab": {}
      },
      "source": [
        "# apply the set of transforms to your new data:\n",
        "for tfm in data.tfms: df = tfm(df, is_test=True)\n",
        "\n",
        "# Then you have to transforms the categorical variables into codes:\n",
        "cats = np.stack([c.cat.codes.values for n,c in df[cat_names].items()], 1) + 1\n",
        "\n",
        "# and normalize the continuous variables\n",
        "conts = np.stack([c.astype('float32').values for n,c in df[cont_names].items()], 1)\n",
        "means, stds = data.stats \n",
        "conts = (conts - means[None]) / (stds[None]+1e-7)\n",
        "\n",
        "# And finally, you can run the model on [tensor(cats),tensor(conts)] (or some batches of it if you have a lot things to predict)."
      ],
      "execution_count": 0,
      "outputs": []
    }
  ]
}