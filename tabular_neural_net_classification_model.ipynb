{
  "nbformat": 4,
  "nbformat_minor": 0,
  "metadata": {
    "kernelspec": {
      "name": "python3",
      "display_name": "Python 3"
    },
    "colab": {
      "name": "tabular_neural_net_classification_model.ipynb",
      "provenance": [],
      "collapsed_sections": [],
      "include_colab_link": true
    },
    "accelerator": "GPU"
  },
  "cells": [
    {
      "cell_type": "markdown",
      "metadata": {
        "id": "view-in-github",
        "colab_type": "text"
      },
      "source": [
        "<a href=\"https://colab.research.google.com/github/Yolantele/ML-data-clasifier/blob/master/tabular_neural_net_classification_model.ipynb\" target=\"_parent\"><img src=\"https://colab.research.google.com/assets/colab-badge.svg\" alt=\"Open In Colab\"/></a>"
      ]
    },
    {
      "cell_type": "markdown",
      "metadata": {
        "id": "Mq9mdOq-LTwZ",
        "colab_type": "text"
      },
      "source": [
        "# Tabular Model For Waste Data Classification\n"
      ]
    },
    {
      "cell_type": "code",
      "metadata": {
        "id": "awLR-e3yMIwh",
        "colab_type": "code",
        "colab": {}
      },
      "source": [
        "%reload_ext autoreload\n",
        "%autoreload 2\n",
        "%matplotlib inline"
      ],
      "execution_count": 0,
      "outputs": []
    },
    {
      "cell_type": "code",
      "metadata": {
        "id": "K6dGchfdLTwa",
        "colab_type": "code",
        "colab": {}
      },
      "source": [
        "from fastai import *\n",
        "from fastai.tabular import *"
      ],
      "execution_count": 0,
      "outputs": []
    },
    {
      "cell_type": "markdown",
      "metadata": {
        "id": "LxUm22wWLTwd",
        "colab_type": "text"
      },
      "source": [
        "Tabular data should be in a Pandas `DataFrame`.\n",
        "df - data_frame"
      ]
    },
    {
      "cell_type": "code",
      "metadata": {
        "id": "Ep9XMVpgbAyD",
        "colab_type": "code",
        "colab": {
          "base_uri": "https://localhost:8080/",
          "height": 34
        },
        "outputId": "8900919d-29bb-48d8-f364-61f172e207d8"
      },
      "source": [
        "# mount to google drive and load files\n",
        "from google.colab import drive\n",
        "drive.mount('/content/drive')\n"
      ],
      "execution_count": 3,
      "outputs": [
        {
          "output_type": "stream",
          "text": [
            "Drive already mounted at /content/drive; to attempt to forcibly remount, call drive.mount(\"/content/drive\", force_remount=True).\n"
          ],
          "name": "stdout"
        }
      ]
    },
    {
      "cell_type": "code",
      "metadata": {
        "id": "o-N4-XeubRJ-",
        "colab_type": "code",
        "outputId": "2672bdd2-c30d-4ffb-a7ef-22c9b45043a5",
        "colab": {
          "base_uri": "https://localhost:8080/",
          "height": 34
        }
      },
      "source": [
        "# check file is loaded OK\n",
        "path = '/content/drive/My Drive/data/'\n",
        "print(path)"
      ],
      "execution_count": 4,
      "outputs": [
        {
          "output_type": "stream",
          "text": [
            "/content/drive/My Drive/data/\n"
          ],
          "name": "stdout"
        }
      ]
    },
    {
      "cell_type": "code",
      "metadata": {
        "id": "Y9lSvmBjLTwd",
        "colab_type": "code",
        "outputId": "82282444-661d-4189-d614-2160743b51e5",
        "colab": {
          "base_uri": "https://localhost:8080/",
          "height": 360
        }
      },
      "source": [
        "# load train data frame\n",
        "df = pd.read_csv(path + '/minimizedData.csv')\n",
        "\n",
        "\n",
        "\n",
        "# load test data frame with material field empty\n",
        "# test_df = pd.read_csv(path + '/testNoMaterialData.csv')\n",
        "\n",
        "df.head()"
      ],
      "execution_count": 5,
      "outputs": [
        {
          "output_type": "execute_result",
          "data": {
            "text/html": [
              "<div>\n",
              "<style scoped>\n",
              "    .dataframe tbody tr th:only-of-type {\n",
              "        vertical-align: middle;\n",
              "    }\n",
              "\n",
              "    .dataframe tbody tr th {\n",
              "        vertical-align: top;\n",
              "    }\n",
              "\n",
              "    .dataframe thead th {\n",
              "        text-align: right;\n",
              "    }\n",
              "</style>\n",
              "<table border=\"1\" class=\"dataframe\">\n",
              "  <thead>\n",
              "    <tr style=\"text-align: right;\">\n",
              "      <th></th>\n",
              "      <th>reason</th>\n",
              "      <th>origin</th>\n",
              "      <th>color</th>\n",
              "      <th>state</th>\n",
              "      <th>size</th>\n",
              "      <th>consistency</th>\n",
              "      <th>otherCode</th>\n",
              "      <th>material4</th>\n",
              "      <th>material3</th>\n",
              "      <th>material2</th>\n",
              "      <th>material</th>\n",
              "      <th>mType</th>\n",
              "      <th>composite2</th>\n",
              "      <th>composite1</th>\n",
              "      <th>cType</th>\n",
              "      <th>indirectProduct</th>\n",
              "      <th>directProduct</th>\n",
              "      <th>pType</th>\n",
              "      <th>mixedOrPure</th>\n",
              "      <th>cleanOrDirty</th>\n",
              "      <th>euralDescription</th>\n",
              "      <th>euralCode</th>\n",
              "      <th>description</th>\n",
              "      <th>/0</th>\n",
              "    </tr>\n",
              "  </thead>\n",
              "  <tbody>\n",
              "    <tr>\n",
              "      <th>0</th>\n",
              "      <td>NaN</td>\n",
              "      <td>NaN</td>\n",
              "      <td>NaN</td>\n",
              "      <td>NaN</td>\n",
              "      <td>NaN</td>\n",
              "      <td>slurry</td>\n",
              "      <td>NaN</td>\n",
              "      <td>NaN</td>\n",
              "      <td>NaN</td>\n",
              "      <td>oil</td>\n",
              "      <td>organic material</td>\n",
              "      <td>Soy</td>\n",
              "      <td>NaN</td>\n",
              "      <td>dry</td>\n",
              "      <td>NaN</td>\n",
              "      <td>dry</td>\n",
              "      <td>NaN</td>\n",
              "      <td>NaN</td>\n",
              "      <td>1.0</td>\n",
              "      <td>NaN</td>\n",
              "      <td>material unsuitable for consumption or processing</td>\n",
              "      <td>20304</td>\n",
              "      <td>Soyadroes technically</td>\n",
              "      <td>NaN</td>\n",
              "    </tr>\n",
              "    <tr>\n",
              "      <th>1</th>\n",
              "      <td>NaN</td>\n",
              "      <td>NaN</td>\n",
              "      <td>NaN</td>\n",
              "      <td>NaN</td>\n",
              "      <td>NaN</td>\n",
              "      <td>vast</td>\n",
              "      <td>NaN</td>\n",
              "      <td>NaN</td>\n",
              "      <td>NaN</td>\n",
              "      <td>NaN</td>\n",
              "      <td>wood</td>\n",
              "      <td>branches</td>\n",
              "      <td>NaN</td>\n",
              "      <td>NaN</td>\n",
              "      <td>NaN</td>\n",
              "      <td>wood</td>\n",
              "      <td>NaN</td>\n",
              "      <td>NaN</td>\n",
              "      <td>0.0</td>\n",
              "      <td>NaN</td>\n",
              "      <td>waste from forestry</td>\n",
              "      <td>20107</td>\n",
              "      <td>Branches</td>\n",
              "      <td>NaN</td>\n",
              "    </tr>\n",
              "    <tr>\n",
              "      <th>2</th>\n",
              "      <td>NaN</td>\n",
              "      <td>NaN</td>\n",
              "      <td>NaN</td>\n",
              "      <td>NaN</td>\n",
              "      <td>NaN</td>\n",
              "      <td>vast</td>\n",
              "      <td>NaN</td>\n",
              "      <td>NaN</td>\n",
              "      <td>NaN</td>\n",
              "      <td>NaN</td>\n",
              "      <td>cocoa</td>\n",
              "      <td>caps</td>\n",
              "      <td>NaN</td>\n",
              "      <td>NaN</td>\n",
              "      <td>NaN</td>\n",
              "      <td>cocoa</td>\n",
              "      <td>NaN</td>\n",
              "      <td>NaN</td>\n",
              "      <td>0.0</td>\n",
              "      <td>NaN</td>\n",
              "      <td>material unsuitable for consumption or processing</td>\n",
              "      <td>20304</td>\n",
              "      <td>Cocoa shells</td>\n",
              "      <td>NaN</td>\n",
              "    </tr>\n",
              "    <tr>\n",
              "      <th>3</th>\n",
              "      <td>NaN</td>\n",
              "      <td>NaN</td>\n",
              "      <td>NaN</td>\n",
              "      <td>debris</td>\n",
              "      <td>NaN</td>\n",
              "      <td>vast</td>\n",
              "      <td>NaN</td>\n",
              "      <td>NaN</td>\n",
              "      <td>NaN</td>\n",
              "      <td>NaN</td>\n",
              "      <td>sand</td>\n",
              "      <td>NaN</td>\n",
              "      <td>NaN</td>\n",
              "      <td>debris</td>\n",
              "      <td>NaN</td>\n",
              "      <td>debris</td>\n",
              "      <td>NaN</td>\n",
              "      <td>NaN</td>\n",
              "      <td>1.0</td>\n",
              "      <td>1.0</td>\n",
              "      <td>mixtures of concrete, stones, tiles or ceramic...</td>\n",
              "      <td>170107</td>\n",
              "      <td>Debris with Sand</td>\n",
              "      <td>NaN</td>\n",
              "    </tr>\n",
              "    <tr>\n",
              "      <th>4</th>\n",
              "      <td>NaN</td>\n",
              "      <td>NaN</td>\n",
              "      <td>NaN</td>\n",
              "      <td>NaN</td>\n",
              "      <td>NaN</td>\n",
              "      <td>vast</td>\n",
              "      <td>NaN</td>\n",
              "      <td>NaN</td>\n",
              "      <td>NaN</td>\n",
              "      <td>NaN</td>\n",
              "      <td>organic material</td>\n",
              "      <td>Soy</td>\n",
              "      <td>NaN</td>\n",
              "      <td>NaN</td>\n",
              "      <td>NaN</td>\n",
              "      <td>organic material</td>\n",
              "      <td>NaN</td>\n",
              "      <td>NaN</td>\n",
              "      <td>0.0</td>\n",
              "      <td>NaN</td>\n",
              "      <td>material unsuitable for consumption or processing</td>\n",
              "      <td>20304</td>\n",
              "      <td>soya</td>\n",
              "      <td>NaN</td>\n",
              "    </tr>\n",
              "  </tbody>\n",
              "</table>\n",
              "</div>"
            ],
            "text/plain": [
              "  reason origin color  ... euralCode            description  /0\n",
              "0    NaN    NaN   NaN  ...     20304  Soyadroes technically NaN\n",
              "1    NaN    NaN   NaN  ...     20107               Branches NaN\n",
              "2    NaN    NaN   NaN  ...     20304           Cocoa shells NaN\n",
              "3    NaN    NaN   NaN  ...    170107       Debris with Sand NaN\n",
              "4    NaN    NaN   NaN  ...     20304                   soya NaN\n",
              "\n",
              "[5 rows x 24 columns]"
            ]
          },
          "metadata": {
            "tags": []
          },
          "execution_count": 5
        }
      ]
    },
    {
      "cell_type": "markdown",
      "metadata": {
        "id": "aRo89lenGCRV",
        "colab_type": "text"
      },
      "source": [
        "#cats and conts \n",
        "\n",
        "**categorical variables - cat_names:**\n",
        "\n",
        "what you're using to make predictions with.  (description, euralDescription, composite1, mType).\n",
        "for categorical variables - will use Embeddings \n",
        "\n",
        "**continuos variables - cont_names:**\n",
        "\n",
        "any catgeory that has limited number of possible (integer) choises: true/false ; fields such as cleanOrContaminated or mixedOrPure\n",
        "continuos varibale names - they are sent to Neural net as pixels \n",
        "\n",
        "**uses processor - procs:**\n",
        "\n",
        "a number of processes that deal with data in some ways: FillMissing, Categorify, Normalize both train and test dtata sets"
      ]
    },
    {
      "cell_type": "code",
      "metadata": {
        "id": "cdnDATLzLTwg",
        "colab_type": "code",
        "colab": {}
      },
      "source": [
        "# dependable variable field:\n",
        "dep_var = 'material'\n",
        " \n",
        "# can add composite1, mType\n",
        "# cat_names = ['euralDescription', 'description']\n",
        "cat_names = ['euralDescription', 'description',  'composite1', 'mType', 'composite2', 'consistency', 'state', 'size']\n",
        "cont_names = ['mixedOrPure', 'cleanOrDirty']\n",
        "# processors:\n",
        "procs = [FillMissing, Categorify, Normalize]"
      ],
      "execution_count": 0,
      "outputs": []
    },
    {
      "cell_type": "code",
      "metadata": {
        "id": "E8m5c4X5LTwj",
        "colab_type": "code",
        "colab": {}
      },
      "source": [
        "test = TabularList.from_df(df.iloc[950:1200].copy(), path=path + '/minimizedData.csv', cat_names=cat_names, cont_names=cont_names)"
      ],
      "execution_count": 0,
      "outputs": []
    },
    {
      "cell_type": "markdown",
      "metadata": {
        "id": "gpyJ1DZFG4pL",
        "colab_type": "text"
      },
      "source": [
        "Next:\n",
        "data block api\n",
        "add labels - tell which cols - column it is \n",
        "\n",
        "and get back data bunch\n",
        "split train and test data ranges 800,1000\n"
      ]
    },
    {
      "cell_type": "code",
      "metadata": {
        "id": "B_jp4eqvLTwl",
        "colab_type": "code",
        "outputId": "0eefc2dd-fc35-4c26-aba9-a952005ef2ad",
        "colab": {
          "base_uri": "https://localhost:8080/",
          "height": 85
        }
      },
      "source": [
        "data = (TabularList.from_df(df, path=path+ '/minimizedData.csv', cat_names=cat_names, cont_names=cont_names, procs=procs)\n",
        "                           .split_by_idx(list(range(950,1200)))\n",
        "                           .label_from_df(cols=dep_var)\n",
        "                           .add_test(test)\n",
        "                           .databunch())"
      ],
      "execution_count": 42,
      "outputs": [
        {
          "output_type": "stream",
          "text": [
            "/usr/local/lib/python3.6/dist-packages/fastai/data_block.py:537: UserWarning: You are labelling your items with CategoryList.\n",
            "Your valid set contained the following unknown labels, the corresponding items have been discarded.\n",
            "PCFIC, syrup, flint, solvents, zeolite...\n",
            "  if getattr(ds, 'warn', False): warn(ds.warn)\n"
          ],
          "name": "stderr"
        }
      ]
    },
    {
      "cell_type": "code",
      "metadata": {
        "id": "2dkuUmwsLTwo",
        "colab_type": "code",
        "outputId": "bdd98798-ee45-4647-b60b-7eda63e9d83f",
        "colab": {
          "base_uri": "https://localhost:8080/",
          "height": 495
        }
      },
      "source": [
        "data.show_batch(rows=10)"
      ],
      "execution_count": 43,
      "outputs": [
        {
          "output_type": "display_data",
          "data": {
            "text/html": [
              "<table border=\"1\" class=\"dataframe\">\n",
              "  <thead>\n",
              "    <tr style=\"text-align: right;\">\n",
              "      <th>euralDescription</th>\n",
              "      <th>description</th>\n",
              "      <th>composite1</th>\n",
              "      <th>mType</th>\n",
              "      <th>composite2</th>\n",
              "      <th>consistency</th>\n",
              "      <th>state</th>\n",
              "      <th>size</th>\n",
              "      <th>mixedOrPure_na</th>\n",
              "      <th>cleanOrDirty_na</th>\n",
              "      <th>mixedOrPure</th>\n",
              "      <th>cleanOrDirty</th>\n",
              "      <th>target</th>\n",
              "    </tr>\n",
              "  </thead>\n",
              "  <tbody>\n",
              "    <tr>\n",
              "      <td>concrete</td>\n",
              "      <td>the railway line</td>\n",
              "      <td>concrete</td>\n",
              "      <td>#na#</td>\n",
              "      <td>#na#</td>\n",
              "      <td>vast</td>\n",
              "      <td>#na#</td>\n",
              "      <td>#na#</td>\n",
              "      <td>False</td>\n",
              "      <td>True</td>\n",
              "      <td>0.5587</td>\n",
              "      <td>0.2559</td>\n",
              "      <td>grind</td>\n",
              "    </tr>\n",
              "    <tr>\n",
              "      <td>#na#</td>\n",
              "      <td>c-wood</td>\n",
              "      <td>#na#</td>\n",
              "      <td>c</td>\n",
              "      <td>#na#</td>\n",
              "      <td>vast</td>\n",
              "      <td>#na#</td>\n",
              "      <td>#na#</td>\n",
              "      <td>False</td>\n",
              "      <td>True</td>\n",
              "      <td>0.5587</td>\n",
              "      <td>0.2559</td>\n",
              "      <td>wood</td>\n",
              "    </tr>\n",
              "    <tr>\n",
              "      <td>gypsum-based building material other than those mentioned in 17 08 01</td>\n",
              "      <td>Construction and demolition waste [plaster]</td>\n",
              "      <td>#na#</td>\n",
              "      <td>#na#</td>\n",
              "      <td>#na#</td>\n",
              "      <td>vast</td>\n",
              "      <td>#na#</td>\n",
              "      <td>#na#</td>\n",
              "      <td>False</td>\n",
              "      <td>True</td>\n",
              "      <td>-1.7890</td>\n",
              "      <td>0.2559</td>\n",
              "      <td>cast</td>\n",
              "    </tr>\n",
              "    <tr>\n",
              "      <td>soil and stones not covered by 17 05 03</td>\n",
              "      <td>Land Bouwbakkie Pascalstraat 17</td>\n",
              "      <td>#na#</td>\n",
              "      <td>#na#</td>\n",
              "      <td>#na#</td>\n",
              "      <td>vast</td>\n",
              "      <td>#na#</td>\n",
              "      <td>#na#</td>\n",
              "      <td>False</td>\n",
              "      <td>True</td>\n",
              "      <td>0.5587</td>\n",
              "      <td>0.2559</td>\n",
              "      <td>ground</td>\n",
              "    </tr>\n",
              "    <tr>\n",
              "      <td>#na#</td>\n",
              "      <td>asphalt (tar-containing)</td>\n",
              "      <td>asphalt</td>\n",
              "      <td>#na#</td>\n",
              "      <td>#na#</td>\n",
              "      <td>vast</td>\n",
              "      <td>debris</td>\n",
              "      <td>#na#</td>\n",
              "      <td>False</td>\n",
              "      <td>True</td>\n",
              "      <td>0.5587</td>\n",
              "      <td>0.2559</td>\n",
              "      <td>grind</td>\n",
              "    </tr>\n",
              "    <tr>\n",
              "      <td>plastics</td>\n",
              "      <td>ABS (regrind)</td>\n",
              "      <td>#na#</td>\n",
              "      <td>#na#</td>\n",
              "      <td>#na#</td>\n",
              "      <td>vast</td>\n",
              "      <td>grinded</td>\n",
              "      <td>#na#</td>\n",
              "      <td>False</td>\n",
              "      <td>True</td>\n",
              "      <td>-1.7890</td>\n",
              "      <td>0.2559</td>\n",
              "      <td>SECTION</td>\n",
              "    </tr>\n",
              "    <tr>\n",
              "      <td>soil and stones not covered by 17 05 03</td>\n",
              "      <td>Soil suspected of sieving</td>\n",
              "      <td>#na#</td>\n",
              "      <td>suspected</td>\n",
              "      <td>#na#</td>\n",
              "      <td>vast</td>\n",
              "      <td>#na#</td>\n",
              "      <td>#na#</td>\n",
              "      <td>False</td>\n",
              "      <td>True</td>\n",
              "      <td>0.5587</td>\n",
              "      <td>0.2559</td>\n",
              "      <td>ground</td>\n",
              "    </tr>\n",
              "    <tr>\n",
              "      <td>#na#</td>\n",
              "      <td>asphalt debris containing tar</td>\n",
              "      <td>asphalt</td>\n",
              "      <td>#na#</td>\n",
              "      <td>#na#</td>\n",
              "      <td>vast</td>\n",
              "      <td>debris</td>\n",
              "      <td>#na#</td>\n",
              "      <td>False</td>\n",
              "      <td>True</td>\n",
              "      <td>0.5587</td>\n",
              "      <td>0.2559</td>\n",
              "      <td>grind</td>\n",
              "    </tr>\n",
              "    <tr>\n",
              "      <td>soil and stones not covered by 17 05 03</td>\n",
              "      <td>Land Overtoom 30 Zuidermeer</td>\n",
              "      <td>#na#</td>\n",
              "      <td>#na#</td>\n",
              "      <td>#na#</td>\n",
              "      <td>vast</td>\n",
              "      <td>#na#</td>\n",
              "      <td>#na#</td>\n",
              "      <td>False</td>\n",
              "      <td>True</td>\n",
              "      <td>0.5587</td>\n",
              "      <td>0.2559</td>\n",
              "      <td>ground</td>\n",
              "    </tr>\n",
              "    <tr>\n",
              "      <td>mixtures of concrete, stones, tiles or ceramic products other than those mentioned in 17 01 06</td>\n",
              "      <td>MAIN OVEN SNAILS</td>\n",
              "      <td>#na#</td>\n",
              "      <td>blast furnace slag</td>\n",
              "      <td>#na#</td>\n",
              "      <td>vast</td>\n",
              "      <td>#na#</td>\n",
              "      <td>#na#</td>\n",
              "      <td>False</td>\n",
              "      <td>True</td>\n",
              "      <td>-1.7890</td>\n",
              "      <td>0.2559</td>\n",
              "      <td>snails</td>\n",
              "    </tr>\n",
              "  </tbody>\n",
              "</table>"
            ],
            "text/plain": [
              "<IPython.core.display.HTML object>"
            ]
          },
          "metadata": {
            "tags": []
          }
        }
      ]
    },
    {
      "cell_type": "markdown",
      "metadata": {
        "id": "VaQDF2XvHtXv",
        "colab_type": "text"
      },
      "source": [
        "pass in data to tabular learner:\n"
      ]
    },
    {
      "cell_type": "code",
      "metadata": {
        "id": "wMAcYNmSLTwr",
        "colab_type": "code",
        "colab": {}
      },
      "source": [
        "learn = tabular_learner(data, layers=[200,100], metrics=accuracy)"
      ],
      "execution_count": 0,
      "outputs": []
    },
    {
      "cell_type": "code",
      "metadata": {
        "id": "et5KC2pSLTwu",
        "colab_type": "code",
        "outputId": "064794ef-3d31-4ac1-85f8-f2f9d6456e84",
        "colab": {
          "base_uri": "https://localhost:8080/",
          "height": 142
        }
      },
      "source": [
        "learn.fit(3, 1e-2)"
      ],
      "execution_count": 45,
      "outputs": [
        {
          "output_type": "display_data",
          "data": {
            "text/html": [
              "<table border=\"1\" class=\"dataframe\">\n",
              "  <thead>\n",
              "    <tr style=\"text-align: left;\">\n",
              "      <th>epoch</th>\n",
              "      <th>train_loss</th>\n",
              "      <th>valid_loss</th>\n",
              "      <th>accuracy</th>\n",
              "      <th>time</th>\n",
              "    </tr>\n",
              "  </thead>\n",
              "  <tbody>\n",
              "    <tr>\n",
              "      <td>0</td>\n",
              "      <td>2.229957</td>\n",
              "      <td>1.788686</td>\n",
              "      <td>0.614754</td>\n",
              "      <td>00:00</td>\n",
              "    </tr>\n",
              "    <tr>\n",
              "      <td>1</td>\n",
              "      <td>1.435218</td>\n",
              "      <td>1.168200</td>\n",
              "      <td>0.762295</td>\n",
              "      <td>00:00</td>\n",
              "    </tr>\n",
              "    <tr>\n",
              "      <td>2</td>\n",
              "      <td>0.913820</td>\n",
              "      <td>0.974271</td>\n",
              "      <td>0.774590</td>\n",
              "      <td>00:00</td>\n",
              "    </tr>\n",
              "  </tbody>\n",
              "</table>"
            ],
            "text/plain": [
              "<IPython.core.display.HTML object>"
            ]
          },
          "metadata": {
            "tags": []
          }
        }
      ]
    },
    {
      "cell_type": "code",
      "metadata": {
        "id": "dRjivXLNYqtN",
        "colab_type": "code",
        "outputId": "9deaaf4b-f305-447a-8333-2e2c0b2c816b",
        "colab": {
          "base_uri": "https://localhost:8080/",
          "height": 884
        }
      },
      "source": [
        "# see into the model\n",
        "# learn.model.eval()\n",
        "learn.summary()"
      ],
      "execution_count": 46,
      "outputs": [
        {
          "output_type": "execute_result",
          "data": {
            "text/plain": [
              "TabularModel\n",
              "======================================================================\n",
              "Layer (type)         Output Shape         Param #    Trainable \n",
              "======================================================================\n",
              "Embedding            [15]                 855        True      \n",
              "______________________________________________________________________\n",
              "Embedding            [104]                179,088    True      \n",
              "______________________________________________________________________\n",
              "Embedding            [12]                 456        True      \n",
              "______________________________________________________________________\n",
              "Embedding            [28]                 4,536      True      \n",
              "______________________________________________________________________\n",
              "Embedding            [4]                  20         True      \n",
              "______________________________________________________________________\n",
              "Embedding            [3]                  12         True      \n",
              "______________________________________________________________________\n",
              "Embedding            [14]                 686        True      \n",
              "______________________________________________________________________\n",
              "Embedding            [9]                  198        True      \n",
              "______________________________________________________________________\n",
              "Embedding            [3]                  9          True      \n",
              "______________________________________________________________________\n",
              "Embedding            [3]                  9          True      \n",
              "______________________________________________________________________\n",
              "Dropout              [195]                0          False     \n",
              "______________________________________________________________________\n",
              "BatchNorm1d          [2]                  4          True      \n",
              "______________________________________________________________________\n",
              "Linear               [200]                39,600     True      \n",
              "______________________________________________________________________\n",
              "ReLU                 [200]                0          False     \n",
              "______________________________________________________________________\n",
              "BatchNorm1d          [200]                400        True      \n",
              "______________________________________________________________________\n",
              "Linear               [100]                20,100     True      \n",
              "______________________________________________________________________\n",
              "ReLU                 [100]                0          False     \n",
              "______________________________________________________________________\n",
              "BatchNorm1d          [100]                200        True      \n",
              "______________________________________________________________________\n",
              "Linear               [95]                 9,595      True      \n",
              "______________________________________________________________________\n",
              "\n",
              "Total params: 255,768\n",
              "Total trainable params: 255,768\n",
              "Total non-trainable params: 0\n",
              "Optimized with 'torch.optim.adam.Adam', betas=(0.9, 0.99)\n",
              "Using true weight decay as discussed in https://www.fast.ai/2018/07/02/adam-weight-decay/ \n",
              "Loss function : FlattenedLoss\n",
              "======================================================================\n",
              "Callbacks functions applied "
            ]
          },
          "metadata": {
            "tags": []
          },
          "execution_count": 46
        }
      ]
    },
    {
      "cell_type": "code",
      "metadata": {
        "id": "aZPZg0EHRXgT",
        "colab_type": "code",
        "colab": {}
      },
      "source": [
        "learn.model_dir = '/content/drive/My Drive/data/models'\n",
        "learn.save('material_classifier_model3')"
      ],
      "execution_count": 0,
      "outputs": []
    },
    {
      "cell_type": "markdown",
      "metadata": {
        "id": "G9NbJ8aELTww",
        "colab_type": "text"
      },
      "source": [
        "## Inference\n",
        "\n",
        "data_frame (df) "
      ]
    },
    {
      "cell_type": "code",
      "metadata": {
        "id": "RKMR_dJ6lXaC",
        "colab_type": "code",
        "outputId": "30d81b11-5463-4519-bad4-f1e992be1018",
        "colab": {
          "base_uri": "https://localhost:8080/",
          "height": 459
        }
      },
      "source": [
        "row = 700\n",
        "print('given material -->', df.iloc[row].material)\n",
        "print(df.iloc[row])\n",
        "\n",
        "# test data\n",
        "# print('test material -->', test_df.iloc[row].material)\n",
        "# print(test_df.iloc[row])\n"
      ],
      "execution_count": 47,
      "outputs": [
        {
          "output_type": "stream",
          "text": [
            "given material --> grind\n",
            "reason                         NaN\n",
            "origin                         NaN\n",
            "color                          NaN\n",
            "state                    granulate\n",
            "size                           NaN\n",
            "consistency                   vast\n",
            "otherCode                      NaN\n",
            "material4                      NaN\n",
            "material3                   cement\n",
            "material2                     sand\n",
            "material                     grind\n",
            "mType                          NaN\n",
            "composite2                     NaN\n",
            "composite1                concrete\n",
            "cType                          NaN\n",
            "indirectProduct     betongranulaat\n",
            "directProduct                    1\n",
            "pType                          NaN\n",
            "mixedOrPure                      1\n",
            "cleanOrDirty                   NaN\n",
            "euralDescription               NaN\n",
            "euralCode                   170101\n",
            "description         betongranulaat\n",
            "/0                             NaN\n",
            "Name: 700, dtype: object\n"
          ],
          "name": "stdout"
        }
      ]
    },
    {
      "cell_type": "code",
      "metadata": {
        "id": "wZpGw7KOSdJw",
        "colab_type": "code",
        "outputId": "f1c3edf0-f75f-483f-bf65-a9a0e5b20555",
        "colab": {
          "base_uri": "https://localhost:8080/",
          "height": 357
        }
      },
      "source": [
        "# train data prediction\n",
        "one_row = df.iloc[row]\n",
        "\n",
        "# test data\n",
        "# one_row = test_df.iloc[row]\n",
        "\n",
        "predicted_category = learn.predict(one_row)[0]\n",
        "total_categories = learn.predict(one_row)[1]\n",
        "prediction_weights = learn.predict(one_row)[2]\n",
        "\n",
        "print('predicted material ------> ', predicted_category)\n",
        "print('')\n",
        "print('total available material categories:', total_categories)\n",
        "# print(total_categories)\n",
        "\n",
        "print('prediction weights to categories:')\n",
        "print(prediction_weights)\n"
      ],
      "execution_count": 57,
      "outputs": [
        {
          "output_type": "stream",
          "text": [
            "predicted material ------>  grind\n",
            "\n",
            "total available material categories: tensor(48)\n",
            "prediction weights to categories:\n",
            "tensor([2.3718e-06, 1.5500e-06, 3.9022e-09, 1.2351e-06, 9.8002e-09, 4.5769e-08,\n",
            "        4.7506e-08, 3.2986e-07, 1.3939e-07, 2.6613e-07, 1.0942e-07, 1.3945e-07,\n",
            "        8.9792e-08, 2.7499e-08, 8.4564e-08, 4.8405e-09, 2.0181e-07, 4.4674e-07,\n",
            "        1.0795e-06, 2.2936e-07, 1.2058e-07, 1.2845e-07, 1.9544e-07, 8.9341e-05,\n",
            "        6.1414e-07, 5.8760e-06, 9.2457e-08, 2.4590e-06, 8.1062e-08, 1.0511e-04,\n",
            "        7.7864e-07, 9.4420e-08, 1.4699e-07, 1.2710e-07, 1.8320e-06, 5.3403e-06,\n",
            "        1.5306e-06, 1.0117e-08, 1.3697e-06, 1.4758e-06, 1.0466e-05, 3.6350e-08,\n",
            "        7.6497e-06, 4.1584e-07, 9.4889e-08, 4.1079e-07, 4.1432e-06, 5.4043e-07,\n",
            "        9.9957e-01, 1.5413e-07, 1.0330e-08, 1.4665e-06, 2.7011e-08, 5.2877e-07,\n",
            "        2.0548e-06, 1.2496e-06, 1.6593e-07, 2.0961e-07, 7.8247e-07, 2.8509e-06,\n",
            "        9.0731e-06, 1.7038e-06, 8.3171e-08, 2.9013e-07, 7.2693e-08, 3.3636e-07,\n",
            "        3.3707e-07, 5.6973e-07, 5.0934e-08, 5.5242e-07, 1.1024e-07, 3.7820e-09,\n",
            "        1.1970e-07, 2.7097e-07, 1.7841e-06, 3.6371e-07, 1.4497e-07, 8.4020e-09,\n",
            "        1.8435e-05, 2.9759e-06, 3.5926e-09, 1.9416e-07, 3.4825e-08, 2.8503e-07,\n",
            "        6.0437e-07, 4.1759e-07, 1.9419e-06, 2.1779e-07, 1.2151e-04, 4.7010e-07,\n",
            "        1.0590e-06, 3.0615e-06, 7.6226e-07, 1.1003e-06, 5.2580e-07])\n"
          ],
          "name": "stdout"
        }
      ]
    },
    {
      "cell_type": "markdown",
      "metadata": {
        "id": "i44hOiNWRSMl",
        "colab_type": "text"
      },
      "source": [
        "\n",
        "- tfm - transformations,\n",
        "- train_ds - trained data set,\n",
        "- df_tst = data fram etest,\n"
      ]
    },
    {
      "cell_type": "code",
      "metadata": {
        "id": "N67dXyrMRFEd",
        "colab_type": "code",
        "colab": {}
      },
      "source": [
        "# apply the set of transforms to your new data:\n",
        "for tfm in data.tfms: df = tfm(df, is_test=True)\n",
        "\n",
        "# Then you have to transforms the categorical variables into codes:\n",
        "cats = np.stack([c.cat.codes.values for n,c in df[cat_names].items()], 1) + 1\n",
        "\n",
        "# and normalize the continuous variables\n",
        "conts = np.stack([c.astype('float32').values for n,c in df[cont_names].items()], 1)\n",
        "means, stds = data.stats \n",
        "conts = (conts - means[None]) / (stds[None]+1e-7)\n",
        "\n",
        "# And finally, you can run the model on [tensor(cats),tensor(conts)] (or some batches of it if you have a lot things to predict)."
      ],
      "execution_count": 0,
      "outputs": []
    }
  ]
}